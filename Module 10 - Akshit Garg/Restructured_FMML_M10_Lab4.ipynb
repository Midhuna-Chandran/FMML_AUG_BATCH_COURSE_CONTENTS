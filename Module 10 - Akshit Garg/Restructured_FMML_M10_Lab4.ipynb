{
  "nbformat": 4,
  "nbformat_minor": 0,
  "metadata": {
    "colab": {
      "provenance": [],
      "collapsed_sections": []
    },
    "kernelspec": {
      "name": "python3",
      "display_name": "Python 3"
    },
    "language_info": {
      "name": "python"
    },
    "accelerator": "GPU",
    "widgets": {
      "application/vnd.jupyter.widget-state+json": {
        "3698268206d94c37b6b8a7cec2eb9e31": {
          "model_module": "@jupyter-widgets/controls",
          "model_name": "HBoxModel",
          "state": {
            "_view_name": "HBoxView",
            "_dom_classes": [],
            "_model_name": "HBoxModel",
            "_view_module": "@jupyter-widgets/controls",
            "_model_module_version": "1.5.0",
            "_view_count": null,
            "_view_module_version": "1.5.0",
            "box_style": "",
            "layout": "IPY_MODEL_c255a41b48124a0ba8ac2399a732ebc4",
            "_model_module": "@jupyter-widgets/controls",
            "children": [
              "IPY_MODEL_a477ce908e334c84b81c006882ca6e13",
              "IPY_MODEL_dc383967d1a443109f002516201d6481"
            ]
          },
          "model_module_version": "1.5.0"
        },
        "c255a41b48124a0ba8ac2399a732ebc4": {
          "model_module": "@jupyter-widgets/base",
          "model_name": "LayoutModel",
          "state": {
            "_view_name": "LayoutView",
            "grid_template_rows": null,
            "right": null,
            "justify_content": null,
            "_view_module": "@jupyter-widgets/base",
            "overflow": null,
            "_model_module_version": "1.2.0",
            "_view_count": null,
            "flex_flow": null,
            "width": null,
            "min_width": null,
            "border": null,
            "align_items": null,
            "bottom": null,
            "_model_module": "@jupyter-widgets/base",
            "top": null,
            "grid_column": null,
            "overflow_y": null,
            "overflow_x": null,
            "grid_auto_flow": null,
            "grid_area": null,
            "grid_template_columns": null,
            "flex": null,
            "_model_name": "LayoutModel",
            "justify_items": null,
            "grid_row": null,
            "max_height": null,
            "align_content": null,
            "visibility": null,
            "align_self": null,
            "height": null,
            "min_height": null,
            "padding": null,
            "grid_auto_rows": null,
            "grid_gap": null,
            "max_width": null,
            "order": null,
            "_view_module_version": "1.2.0",
            "grid_template_areas": null,
            "object_position": null,
            "object_fit": null,
            "grid_auto_columns": null,
            "margin": null,
            "display": null,
            "left": null
          },
          "model_module_version": "1.2.0"
        },
        "a477ce908e334c84b81c006882ca6e13": {
          "model_module": "@jupyter-widgets/controls",
          "model_name": "FloatProgressModel",
          "state": {
            "_view_name": "ProgressView",
            "style": "IPY_MODEL_c3b8f1ee37064ce681ad4b897ee6197c",
            "_dom_classes": [],
            "description": "loss: 0.90300053358078: 100%",
            "_model_name": "FloatProgressModel",
            "bar_style": "success",
            "max": 100,
            "_view_module": "@jupyter-widgets/controls",
            "_model_module_version": "1.5.0",
            "value": 100,
            "_view_count": null,
            "_view_module_version": "1.5.0",
            "orientation": "horizontal",
            "min": 0,
            "description_tooltip": null,
            "_model_module": "@jupyter-widgets/controls",
            "layout": "IPY_MODEL_744a010429d64f208f994d8c725e9783"
          },
          "model_module_version": "1.5.0"
        },
        "dc383967d1a443109f002516201d6481": {
          "model_module": "@jupyter-widgets/controls",
          "model_name": "HTMLModel",
          "state": {
            "_view_name": "HTMLView",
            "style": "IPY_MODEL_a6b374986a2d40319aadfada155b4619",
            "_dom_classes": [],
            "description": "",
            "_model_name": "HTMLModel",
            "placeholder": "​",
            "_view_module": "@jupyter-widgets/controls",
            "_model_module_version": "1.5.0",
            "value": " 100/100 [04:25&lt;00:00,  2.65s/it]",
            "_view_count": null,
            "_view_module_version": "1.5.0",
            "description_tooltip": null,
            "_model_module": "@jupyter-widgets/controls",
            "layout": "IPY_MODEL_81794393ed7c40b3be4d268e6e0c9fd6"
          },
          "model_module_version": "1.5.0"
        },
        "c3b8f1ee37064ce681ad4b897ee6197c": {
          "model_module": "@jupyter-widgets/controls",
          "model_name": "ProgressStyleModel",
          "state": {
            "_view_name": "StyleView",
            "_model_name": "ProgressStyleModel",
            "description_width": "initial",
            "_view_module": "@jupyter-widgets/base",
            "_model_module_version": "1.5.0",
            "_view_count": null,
            "_view_module_version": "1.2.0",
            "bar_color": null,
            "_model_module": "@jupyter-widgets/controls"
          },
          "model_module_version": "1.5.0"
        },
        "744a010429d64f208f994d8c725e9783": {
          "model_module": "@jupyter-widgets/base",
          "model_name": "LayoutModel",
          "state": {
            "_view_name": "LayoutView",
            "grid_template_rows": null,
            "right": null,
            "justify_content": null,
            "_view_module": "@jupyter-widgets/base",
            "overflow": null,
            "_model_module_version": "1.2.0",
            "_view_count": null,
            "flex_flow": null,
            "width": null,
            "min_width": null,
            "border": null,
            "align_items": null,
            "bottom": null,
            "_model_module": "@jupyter-widgets/base",
            "top": null,
            "grid_column": null,
            "overflow_y": null,
            "overflow_x": null,
            "grid_auto_flow": null,
            "grid_area": null,
            "grid_template_columns": null,
            "flex": null,
            "_model_name": "LayoutModel",
            "justify_items": null,
            "grid_row": null,
            "max_height": null,
            "align_content": null,
            "visibility": null,
            "align_self": null,
            "height": null,
            "min_height": null,
            "padding": null,
            "grid_auto_rows": null,
            "grid_gap": null,
            "max_width": null,
            "order": null,
            "_view_module_version": "1.2.0",
            "grid_template_areas": null,
            "object_position": null,
            "object_fit": null,
            "grid_auto_columns": null,
            "margin": null,
            "display": null,
            "left": null
          },
          "model_module_version": "1.2.0"
        },
        "a6b374986a2d40319aadfada155b4619": {
          "model_module": "@jupyter-widgets/controls",
          "model_name": "DescriptionStyleModel",
          "state": {
            "_view_name": "StyleView",
            "_model_name": "DescriptionStyleModel",
            "description_width": "",
            "_view_module": "@jupyter-widgets/base",
            "_model_module_version": "1.5.0",
            "_view_count": null,
            "_view_module_version": "1.2.0",
            "_model_module": "@jupyter-widgets/controls"
          },
          "model_module_version": "1.5.0"
        },
        "81794393ed7c40b3be4d268e6e0c9fd6": {
          "model_module": "@jupyter-widgets/base",
          "model_name": "LayoutModel",
          "state": {
            "_view_name": "LayoutView",
            "grid_template_rows": null,
            "right": null,
            "justify_content": null,
            "_view_module": "@jupyter-widgets/base",
            "overflow": null,
            "_model_module_version": "1.2.0",
            "_view_count": null,
            "flex_flow": null,
            "width": null,
            "min_width": null,
            "border": null,
            "align_items": null,
            "bottom": null,
            "_model_module": "@jupyter-widgets/base",
            "top": null,
            "grid_column": null,
            "overflow_y": null,
            "overflow_x": null,
            "grid_auto_flow": null,
            "grid_area": null,
            "grid_template_columns": null,
            "flex": null,
            "_model_name": "LayoutModel",
            "justify_items": null,
            "grid_row": null,
            "max_height": null,
            "align_content": null,
            "visibility": null,
            "align_self": null,
            "height": null,
            "min_height": null,
            "padding": null,
            "grid_auto_rows": null,
            "grid_gap": null,
            "max_width": null,
            "order": null,
            "_view_module_version": "1.2.0",
            "grid_template_areas": null,
            "object_position": null,
            "object_fit": null,
            "grid_auto_columns": null,
            "margin": null,
            "display": null,
            "left": null
          },
          "model_module_version": "1.2.0"
        }
      }
    }
  },
  "cells": [
    {
      "cell_type": "markdown",
      "metadata": {
        "id": "ReGpBDTRz_ZY"
      },
      "source": [
        "# Working with large datasets\n",
        "\n",
        "Till now, we have mostly used small datasets that fully fit within the memory. This will not always be possible. There are a lot of HUGE datasets (multiple terabytes), so we need to learn how to use them.\n",
        "\n",
        "Technically, you can work with datasets that don't reside on the disk at all! Every dataset example is fetched over the network as and when needed.\n",
        "\n",
        "#### Coordinating TA: Akshit Garg "
      ]
    },
    {
      "cell_type": "code",
      "metadata": {
        "id": "Flkx2KHC3c5X"
      },
      "source": [
        "import os\n",
        "from glob import glob\n",
        "\n",
        "import torch\n",
        "import pandas as pd\n",
        "import numpy as np\n",
        "import matplotlib.pyplot as plt\n",
        "from skimage import io, transform\n",
        "from sklearn.preprocessing import LabelEncoder\n",
        "from torch import nn, optim\n",
        "from torch.utils.data import Dataset, DataLoader\n",
        "from torchvision import transforms, utils\n",
        "from tqdm.auto import tqdm"
      ],
      "execution_count": null,
      "outputs": []
    },
    {
      "cell_type": "code",
      "metadata": {
        "colab": {
          "base_uri": "https://localhost:8080/"
        },
        "id": "qm2MWN1kz7-D",
        "outputId": "ab83ce3a-b569-4416-987a-2cd12c907715"
      },
      "source": [
        "# download the example dataset\n",
        "!rm -r data cifar10.zip\n",
        "!mkdir data\n",
        "# slightly modified version of https://www.cs.toronto.edu/~kriz/cifar-10-python.tar.gz\n",
        "!wget https://web.iiit.ac.in/~yoogottam.khandelwal/cifar10.zip\n",
        "!unzip cifar10.zip -d data | tail"
      ],
      "execution_count": null,
      "outputs": [
        {
          "output_type": "stream",
          "text": [
            "--2021-07-25 12:46:20--  https://web.iiit.ac.in/~yoogottam.khandelwal/cifar10.zip\n",
            "Resolving web.iiit.ac.in (web.iiit.ac.in)... 14.139.82.8\n",
            "Connecting to web.iiit.ac.in (web.iiit.ac.in)|14.139.82.8|:443... connected.\n",
            "HTTP request sent, awaiting response... 200 OK\n",
            "Length: 135374534 (129M) [application/zip]\n",
            "Saving to: ‘cifar10.zip’\n",
            "\n",
            "cifar10.zip         100%[===================>] 129.10M  10.4MB/s    in 14s     \n",
            "\n",
            "2021-07-25 12:46:36 (8.97 MB/s) - ‘cifar10.zip’ saved [135374534/135374534]\n",
            "\n",
            " extracting: data/images/c9f0f895fb98ab9159f51fd0297e236d.png  \n",
            " extracting: data/images/8f14e45fceea167a5a36dedd4bea2543.png  \n",
            " extracting: data/images/1679091c5a880faf6fb5e6087eb1b2dc.png  \n",
            " extracting: data/images/e4da3b7fbbce2345d7772b0674a318d5.png  \n",
            " extracting: data/images/a87ff679a2f3e71d9181a67b7542122c.png  \n",
            " extracting: data/images/eccbc87e4b5ce2fe28308fd9f2a7baf3.png  \n",
            " extracting: data/images/c81e728d9d4c2f636f067f89cc14862c.png  \n",
            " extracting: data/images/c4ca4238a0b923820dcc509a6f75849b.png  \n",
            " extracting: data/images/cfcd208495d565ef66e7dff9f98764da.png  \n",
            "  inflating: data/data.csv           \n"
          ],
          "name": "stdout"
        }
      ]
    },
    {
      "cell_type": "markdown",
      "metadata": {
        "id": "e-3MNk-pG3cS"
      },
      "source": [
        "## Analyzing the data\n",
        "\n",
        "We see that the labels are strings and not integers (which we would prefer for a class).\n",
        "We'll need to use a label encoder to convert string labels into numbers"
      ]
    },
    {
      "cell_type": "code",
      "metadata": {
        "colab": {
          "base_uri": "https://localhost:8080/",
          "height": 206
        },
        "id": "lL6bIYIuFFyf",
        "outputId": "24537a67-414d-4117-93b8-263f0606513e"
      },
      "source": [
        "pd.read_csv(\"data/data.csv\").head()"
      ],
      "execution_count": null,
      "outputs": [
        {
          "output_type": "execute_result",
          "data": {
            "text/html": [
              "<div>\n",
              "<style scoped>\n",
              "    .dataframe tbody tr th:only-of-type {\n",
              "        vertical-align: middle;\n",
              "    }\n",
              "\n",
              "    .dataframe tbody tr th {\n",
              "        vertical-align: top;\n",
              "    }\n",
              "\n",
              "    .dataframe thead th {\n",
              "        text-align: right;\n",
              "    }\n",
              "</style>\n",
              "<table border=\"1\" class=\"dataframe\">\n",
              "  <thead>\n",
              "    <tr style=\"text-align: right;\">\n",
              "      <th></th>\n",
              "      <th>image_path</th>\n",
              "      <th>label</th>\n",
              "    </tr>\n",
              "  </thead>\n",
              "  <tbody>\n",
              "    <tr>\n",
              "      <th>0</th>\n",
              "      <td>images/cfcd208495d565ef66e7dff9f98764da.png</td>\n",
              "      <td>frog</td>\n",
              "    </tr>\n",
              "    <tr>\n",
              "      <th>1</th>\n",
              "      <td>images/c4ca4238a0b923820dcc509a6f75849b.png</td>\n",
              "      <td>truck</td>\n",
              "    </tr>\n",
              "    <tr>\n",
              "      <th>2</th>\n",
              "      <td>images/c81e728d9d4c2f636f067f89cc14862c.png</td>\n",
              "      <td>truck</td>\n",
              "    </tr>\n",
              "    <tr>\n",
              "      <th>3</th>\n",
              "      <td>images/eccbc87e4b5ce2fe28308fd9f2a7baf3.png</td>\n",
              "      <td>deer</td>\n",
              "    </tr>\n",
              "    <tr>\n",
              "      <th>4</th>\n",
              "      <td>images/a87ff679a2f3e71d9181a67b7542122c.png</td>\n",
              "      <td>automobile</td>\n",
              "    </tr>\n",
              "  </tbody>\n",
              "</table>\n",
              "</div>"
            ],
            "text/plain": [
              "                                    image_path       label\n",
              "0  images/cfcd208495d565ef66e7dff9f98764da.png        frog\n",
              "1  images/c4ca4238a0b923820dcc509a6f75849b.png       truck\n",
              "2  images/c81e728d9d4c2f636f067f89cc14862c.png       truck\n",
              "3  images/eccbc87e4b5ce2fe28308fd9f2a7baf3.png        deer\n",
              "4  images/a87ff679a2f3e71d9181a67b7542122c.png  automobile"
            ]
          },
          "metadata": {
            "tags": []
          },
          "execution_count": 3
        }
      ]
    },
    {
      "cell_type": "markdown",
      "metadata": {
        "id": "FjgtuGQF2DCY"
      },
      "source": [
        "# Writing custom datasets\n",
        "\n",
        "pytorch provides a great interface for implementing custom datasets: `torch.utils.data.Dataset`. This is an abstract class representing an actual dataset.\n",
        "\n",
        "To see how we can implement one, we'll be using the [CIFAR-10](https://www.cs.toronto.edu/~kriz/cifar.html)\n",
        "\n",
        "In this zip file, we have:\n",
        " - A CSV file containing image names and the class (one of 10 classes)\n",
        " - images\n",
        "\n",
        "Clearly, we need to do some form of processing before using this directly for training a model. We'll be going through that now."
      ]
    },
    {
      "cell_type": "markdown",
      "metadata": {
        "id": "505jDC6c8E2v"
      },
      "source": [
        "## `Dataset` class\n",
        "\n",
        "For writing a dataset, we need to create a class which inherits `Dataset`. We need to implement 2 methods:\n",
        " - `__len__`: This should return the length of our dataset\n",
        " - `__getitem__(i)`: This should return the `i`th item in the dataset."
      ]
    },
    {
      "cell_type": "code",
      "metadata": {
        "id": "gLgYJLHB8fHT"
      },
      "source": [
        "class CIFAR10Dataset(Dataset):\n",
        "    def __init__(self, root_dir=\"./data\", transforms=None):\n",
        "        \"\"\"\n",
        "        Args:\n",
        "            root_dir   (string)  : Directory with all the images and the csv file\n",
        "            transforms (Callable): image goes through these transforms\n",
        "        \"\"\"\n",
        "        # use pandas to read the csv\n",
        "        # we are only using 1/10th of the full data because CIFAR10 is HUGE\n",
        "        # otherwise, we wouldn't be able to train this\n",
        "        self.data = pd.read_csv(f\"{root_dir}/data.csv\").sample(frac=0.1, random_state=42)\n",
        "        # this is where the images are stored\n",
        "        self.root_dir = root_dir\n",
        "\n",
        "        # label encoder\n",
        "        label_encoder = LabelEncoder()\n",
        "        self.data[\"label_numeric\"] = label_encoder.fit_transform(self.data[\"label\"])\n",
        "\n",
        "        # transformations to the dataset\n",
        "        # we'll come to this soon\n",
        "        if transforms is None:\n",
        "            # an identity function, returns it's argument\n",
        "            transforms = lambda x: x\n",
        "        self.transforms = transforms\n",
        "\n",
        "    def __len__(self):\n",
        "        \"\"\"\n",
        "        This should return the number of items in the dataset\n",
        "        \"\"\"\n",
        "        return len(self.data)\n",
        "\n",
        "    def __getitem__(self, idx):\n",
        "        \"\"\"\n",
        "        This should return the item at index `idx` from the dataset\n",
        "        \"\"\"\n",
        "        data = self.data.iloc[idx]\n",
        "        img_name = os.path.join(self.root_dir, data[\"image_path\"])\n",
        "        # read the image\n",
        "        image = io.imread(img_name)\n",
        "        label = data[\"label\"]\n",
        "        label_numeric = data[\"label_numeric\"]\n",
        "\n",
        "        # send the image through the provided transformations\n",
        "        image = self.transforms(image)\n",
        "        return image, label_numeric, label"
      ],
      "execution_count": null,
      "outputs": []
    },
    {
      "cell_type": "code",
      "metadata": {
        "colab": {
          "base_uri": "https://localhost:8080/",
          "height": 318
        },
        "id": "4HGk1RJl-St2",
        "outputId": "dfdacd23-7e77-4763-9357-7cd6e93cdca1"
      },
      "source": [
        "cfds = CIFAR10Dataset()\n",
        "print(f\"Number of data items: {len(cfds)}\")\n",
        "\n",
        "print(cfds[0][1:])\n",
        "plt.imshow(cfds[0][0][:,:,::-1])"
      ],
      "execution_count": null,
      "outputs": [
        {
          "output_type": "stream",
          "text": [
            "Number of data items: 5000\n",
            "(3, 'cat')\n"
          ],
          "name": "stdout"
        },
        {
          "output_type": "execute_result",
          "data": {
            "text/plain": [
              "<matplotlib.image.AxesImage at 0x7f4c4d3454d0>"
            ]
          },
          "metadata": {
            "tags": []
          },
          "execution_count": 5
        },
        {
          "output_type": "display_data",
          "data": {
            "image/png": "[encoded data removed]",
            "text/plain": [
              "<Figure size 432x288 with 1 Axes>"
            ]
          },
          "metadata": {
            "tags": [],
            "needs_background": "light"
          }
        }
      ]
    },
    {
      "cell_type": "markdown",
      "metadata": {
        "id": "Ppt1T2fCTGfd"
      },
      "source": [
        "# Writing custom transforms\n",
        "\n",
        "Most of the times, we need to process the data before sending it to the model. There are a lot of reasons to do this including:\n",
        " - resizing the image\n",
        " - data augmentation (flipping, rotation, crops, etc)\n",
        " - converting data to the correct format (`np` array to `torch` tensor)\n",
        "\n",
        "For this example, we'll horizontally flip the images for augmentation and convert the data to a tensor before training."
      ]
    },
    {
      "cell_type": "markdown",
      "metadata": {
        "id": "_ZL48D5wT9TL"
      },
      "source": [
        "We don't need to inherit from a special class to create a transform.\n",
        "A transform is basically a function that takes in a data sample and returns it.\n",
        "\n",
        "That is also the restriction: It can only take a single argument (i.e. the data sample).\n",
        "\n"
      ]
    },
    {
      "cell_type": "code",
      "metadata": {
        "colab": {
          "base_uri": "https://localhost:8080/"
        },
        "id": "RfqDZ6V-Ty0m",
        "outputId": "51bfc53d-c1da-4310-ce3f-2777ba53dd6a"
      },
      "source": [
        "# example of a transform that doesn't need any parameters\n",
        "# Convert ndarrays in sample to Tensors\n",
        "\n",
        "# normal function\n",
        "def to_tensor(image):\n",
        "    image = image.copy().astype(\"float32\")\n",
        "    # swap color axis because\n",
        "    # numpy image: H x W x C\n",
        "    # torch image: C x H x W\n",
        "    # also, shift the image to 0-1 instead of 0-255\n",
        "    image = image.transpose((2, 0, 1)) / 255\n",
        "    return torch.from_numpy(image)\n",
        "\n",
        "# example\n",
        "print(\"to_tensor\")\n",
        "print(to_tensor(cfds[0][0]).size())\n",
        "\n",
        "# callable class\n",
        "class ToTensor:\n",
        "    def __call__(self, image):\n",
        "        image = image.copy().astype(\"float32\")\n",
        "        # swap color axis because\n",
        "        # numpy image: H x W x C\n",
        "        # torch image: C x H x W\n",
        "        image = image.transpose((2, 0, 1)) / 255\n",
        "        return torch.from_numpy(image)\n",
        "\n",
        "# create an object\n",
        "tensor_transform = ToTensor()\n",
        "print(\"ToTensor\")\n",
        "# the object is callable\n",
        "print(tensor_transform(cfds[0][0]).size())"
      ],
      "execution_count": null,
      "outputs": [
        {
          "output_type": "stream",
          "text": [
            "to_tensor\n",
            "torch.Size([3, 32, 32])\n",
            "ToTensor\n",
            "torch.Size([3, 32, 32])\n"
          ],
          "name": "stdout"
        }
      ]
    },
    {
      "cell_type": "markdown",
      "metadata": {
        "id": "kYxTtq6yXAK9"
      },
      "source": [
        "For writing transforms that need an argument, we have a few different ways around it:\n",
        " - currying functions\n",
        " - callable classes"
      ]
    },
    {
      "cell_type": "code",
      "metadata": {
        "colab": {
          "base_uri": "https://localhost:8080/",
          "height": 452
        },
        "id": "F6oP9_gvYJQ0",
        "outputId": "deca1529-e9de-4cb7-c348-88361b3ff15f"
      },
      "source": [
        "# transform for flipping\n",
        "\n",
        "def flip(horizontal=False, vertical=False):\n",
        "\n",
        "    # this is actually the function that will become the transform\n",
        "    def _flip(image):\n",
        "        image = image.copy()\n",
        "        if horizontal:\n",
        "            image = np.fliplr(image)\n",
        "        if vertical:\n",
        "            image = np.flipud(image)\n",
        "\n",
        "        return image\n",
        "\n",
        "    # the outer function returns this function\n",
        "    return _flip\n",
        "\n",
        "# example call\n",
        "print(\"flip\")\n",
        "orig = cfds[0][0]\n",
        "flipped = flip(horizontal=True, vertical=False)(cfds[0][0])\n",
        "plt.imshow(np.hstack([orig, flipped])[:,:,::-1])\n",
        "plt.show()\n",
        "\n",
        "class Flip:\n",
        "    def __init__(self, horizontal=False, vertical=False):\n",
        "        self.horizontal = horizontal\n",
        "        self.vertical = vertical\n",
        "    \n",
        "    def __call__(self, image):\n",
        "        image = image.copy()\n",
        "        if self.horizontal:\n",
        "            image = np.fliplr(image)\n",
        "        if self.vertical:\n",
        "            image = np.flipud(image)\n",
        "\n",
        "        return image\n",
        "\n",
        "# example call\n",
        "print(\"Flip\")\n",
        "orig = cfds[1][0]\n",
        "flipped = Flip(horizontal=True, vertical=False)(cfds[1][0])\n",
        "plt.imshow(np.hstack([orig, flipped])[:,:,::-1])\n",
        "plt.show()"
      ],
      "execution_count": null,
      "outputs": [
        {
          "output_type": "stream",
          "text": [
            "flip\n"
          ],
          "name": "stdout"
        },
        {
          "output_type": "display_data",
          "data": {
            "image/png": "[encoded data removed]",
            "text/plain": [
              "<Figure size 432x288 with 1 Axes>"
            ]
          },
          "metadata": {
            "tags": [],
            "needs_background": "light"
          }
        },
        {
          "output_type": "stream",
          "text": [
            "Flip\n"
          ],
          "name": "stdout"
        },
        {
          "output_type": "display_data",
          "data": {
            "image/png": "[encoded data removed]",
            "text/plain": [
              "<Figure size 432x288 with 1 Axes>"
            ]
          },
          "metadata": {
            "tags": [],
            "needs_background": "light"
          }
        }
      ]
    },
    {
      "cell_type": "markdown",
      "metadata": {
        "id": "Yk67g3fAcSBi"
      },
      "source": [
        "Most of the transformations are already implemented in `torch`.\n",
        "A very important one is `transforms.Compose`\n",
        "\n",
        "It simply takes a list of transforms and applies them in order"
      ]
    },
    {
      "cell_type": "markdown",
      "metadata": {
        "id": "d8XdZye9bCpN"
      },
      "source": [
        "# Training a model\n",
        "\n",
        "Now, we'll train a `torch` model that uses this dataset. For augmentation, we'll be doing horizontal flips.\n",
        "\n",
        "For flowing the dataset through our model, while we can use a simple `for` loop, it won't have a lot of features like:\n",
        " - Batching the data\n",
        " - Shuffling the data\n",
        " - Load the data in parallel using `multiprocessing` workers\n",
        "\n",
        "`torch.utils.data.DataLoader` is an iterator which provides all these features."
      ]
    },
    {
      "cell_type": "code",
      "metadata": {
        "id": "w9kOeS7ncqN1"
      },
      "source": [
        "# @title Hyperparams {\"run\": \"auto\"}\n",
        "n_epochs = 100# @param {\"type\":\"integer\"}\n",
        "batch_size = 1024# @param {\"type\":\"integer\"}\n",
        "learning_rate = 1e-3# @param {\"type\": \"number\"}\n",
        "\n",
        "loss_fn = nn.CrossEntropyLoss()\n",
        "optim_fn = optim.Adam\n",
        "\n",
        "device = \"cuda\" if torch.cuda.is_available() else \"cpu\""
      ],
      "execution_count": null,
      "outputs": []
    },
    {
      "cell_type": "code",
      "metadata": {
        "id": "0Sq5fLh3gdE1"
      },
      "source": [
        "class CIFAR10Model(nn.Module):\n",
        "    def __init__(self):\n",
        "        super().__init__()\n",
        "        self.layers = nn.Sequential(\n",
        "            nn.Linear(in_features=3072, out_features=1024),\n",
        "            nn.ReLU(),\n",
        "            nn.Linear(in_features=1024, out_features=512),\n",
        "            nn.ReLU(),\n",
        "            nn.Linear(in_features=512, out_features=128),\n",
        "            nn.ReLU(),\n",
        "            nn.Linear(in_features=128, out_features=32),\n",
        "            nn.ReLU(),\n",
        "            nn.Linear(in_features=32, out_features=10),\n",
        "        )\n",
        "\n",
        "    def forward(self, x):\n",
        "        return self.layers(x)"
      ],
      "execution_count": null,
      "outputs": []
    },
    {
      "cell_type": "code",
      "metadata": {
        "id": "bvGOqW4JjPvS"
      },
      "source": [
        "def train(model, train_loader, n_epochs, lr, criterion, optim_fn, device):\n",
        "    model = model.to(device)\n",
        "    optimizer = optim_fn(model.parameters(), lr)\n",
        "    loss_history = []\n",
        "\n",
        "    with tqdm(range(n_epochs)) as prog_bar:\n",
        "        for epoch in prog_bar:\n",
        "            epoch_loss = 0\n",
        "    \n",
        "            # we are ignoring the labels\n",
        "            for images, labels_numeric, _ in train_loader:\n",
        "                # move to correct device and flatten the image\n",
        "                x = images.to(device).view(images.size(0), -1)\n",
        "                y = labels_numeric.to(device)\n",
        "                optimizer.zero_grad()\n",
        "    \n",
        "                # the prediction\n",
        "                out = model(x)\n",
        "    \n",
        "                loss = criterion(out, y)\n",
        "                loss.backward()\n",
        "                optimizer.step()\n",
        "    \n",
        "                epoch_loss += loss\n",
        "            \n",
        "            epoch_loss /= len(train_loader)\n",
        "            prog_bar.set_description(f\"loss: {epoch_loss}\")\n",
        "            loss_history.append(epoch_loss.detach())\n",
        "    \n",
        "    return loss_history"
      ],
      "execution_count": null,
      "outputs": []
    },
    {
      "cell_type": "code",
      "metadata": {
        "id": "6DVxo3hpmbYX"
      },
      "source": [
        "cifar10_ds = CIFAR10Dataset(transforms=transforms.Compose([\n",
        "    # horizontal flip\n",
        "    # Note that this is not actually an augmentation since __all__ the images\n",
        "    #   are being flipped.\n",
        "    #\n",
        "    # Excercise: modify `Flip` to accept a probability for flipping at random\n",
        "    Flip(horizontal=True),\n",
        "    ToTensor(),\n",
        "]))\n",
        "\n",
        "train_dl = DataLoader(cifar10_ds, batch_size=batch_size, shuffle=True, num_workers=2)\n",
        "\n",
        "model = CIFAR10Model()"
      ],
      "execution_count": null,
      "outputs": []
    },
    {
      "cell_type": "code",
      "metadata": {
        "colab": {
          "base_uri": "https://localhost:8080/",
          "height": 66,
          "referenced_widgets": [
            "3698268206d94c37b6b8a7cec2eb9e31",
            "c255a41b48124a0ba8ac2399a732ebc4",
            "a477ce908e334c84b81c006882ca6e13",
            "dc383967d1a443109f002516201d6481",
            "c3b8f1ee37064ce681ad4b897ee6197c",
            "744a010429d64f208f994d8c725e9783",
            "a6b374986a2d40319aadfada155b4619",
            "81794393ed7c40b3be4d268e6e0c9fd6"
          ]
        },
        "id": "qbEGlGuGjkj2",
        "outputId": "c27ffabf-ec0a-4fdd-834f-c3f73a4de792"
      },
      "source": [
        "loss_history = train(model, train_dl, n_epochs, learning_rate, loss_fn, optim_fn, device)"
      ],
      "execution_count": null,
      "outputs": [
        {
          "output_type": "display_data",
          "data": {
            "application/vnd.jupyter.widget-view+json": {
              "model_id": "3698268206d94c37b6b8a7cec2eb9e31",
              "version_minor": 0,
              "version_major": 2
            },
            "text/plain": [
              "HBox(children=(FloatProgress(value=0.0), HTML(value='')))"
            ]
          },
          "metadata": {
            "tags": []
          }
        },
        {
          "output_type": "stream",
          "text": [
            "\n"
          ],
          "name": "stdout"
        }
      ]
    },
    {
      "cell_type": "code",
      "metadata": {
        "colab": {
          "base_uri": "https://localhost:8080/",
          "height": 282
        },
        "id": "QMS89PM4r3Jf",
        "outputId": "4be7d1a8-3883-485c-d0b5-e44a8593a5bf"
      },
      "source": [
        "plt.plot(loss_history)"
      ],
      "execution_count": null,
      "outputs": [
        {
          "output_type": "execute_result",
          "data": {
            "text/plain": [
              "[<matplotlib.lines.Line2D at 0x7f4c4cd4f810>]"
            ]
          },
          "metadata": {
            "tags": []
          },
          "execution_count": 13
        },
        {
          "output_type": "display_data",
          "data": {
            "image/png": "[encoded data removed]",
            "text/plain": [
              "<Figure size 432x288 with 1 Axes>"
            ]
          },
          "metadata": {
            "tags": [],
            "needs_background": "light"
          }
        }
      ]
    },
    {
      "cell_type": "markdown",
      "metadata": {
        "id": "tc-ZKBolvo1h"
      },
      "source": [
        "# Excercises\n",
        "Modify the `Flip` transform to accept a probability for flipping the image randomly."
      ]
    },
    {
      "cell_type": "markdown",
      "metadata": {
        "id": "_vZSEL8E2oZU"
      },
      "source": [
        "# References\n",
        " - https://pytorch.org/tutorials/beginner/data_loading_tutorial.html\n",
        " - https://www.cs.toronto.edu/~kriz/cifar.html"
      ]
    }
  ]
}