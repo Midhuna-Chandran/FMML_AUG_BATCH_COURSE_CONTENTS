{
  "cells": [
    {
      "cell_type": "markdown",
      "metadata": {
        "id": "mhgMgQHb-ZeN"
      },
      "source": [
        "# Autoencoders\n",
        "\n",
        "In this lab, we are going to take a look at what autoencoders are, how they are implemented, one of their applications and its comparison with PCA\n",
        "\n",
        "> TODO: will replace MNIST with a more suitable dataset\n",
        "As part of the initial discussion, it was decided that we should use faces. I feel a convolutional autoencoder will be better for that job.\n",
        "\n",
        "For this purpose, we'll attempt to compress the 28x28 MNIST images (784 features) into a smaller representation by training an Autoencoder.\n",
        "\n",
        "#### Coordinating TA: Akshit Garg "
      ]
    },
    {
      "cell_type": "markdown",
      "metadata": {
        "id": "qHKMjoYb_e6B"
      },
      "source": [
        "## Imports"
      ]
    },
    {
      "cell_type": "code",
      "execution_count": null,
      "metadata": {
        "id": "-KGguoGH-WnG"
      },
      "outputs": [],
      "source": [
        "import operator as op\n",
        "from functools import reduce\n",
        "\n",
        "import numpy as np\n",
        "import torch\n",
        "from matplotlib import pyplot as plt\n",
        "from sklearn import datasets as sk_datasets, decomposition\n",
        "from torch import nn, optim\n",
        "from torchvision import datasets, transforms\n",
        "from torch.utils.data import DataLoader\n",
        "from tqdm.auto import tqdm"
      ]
    },
    {
      "cell_type": "markdown",
      "metadata": {
        "id": "nJgxw7aK_hCy"
      },
      "source": [
        "## Setting up the dataset\n",
        "\n",
        "We'll be using the Autoencoder on the MNIST dataset\n",
        "\n",
        "The `torchvision` module supports a lot of datasets that can be downloaded and used with torch without much hassle"
      ]
    },
    {
      "cell_type": "code",
      "execution_count": null,
      "metadata": {
        "colab": {
          "base_uri": "https://localhost:8080/",
          "height": 579,
          "referenced_widgets": [
            "cb6ac4729bbc4267ab7bb81fbd62766e",
            "5d1304a17e0a4fd3ab4653f768284b13",
            "5606eb81d03c4dffb80670c3ccdc1069",
            "1e52317209c144bdafbab1386751f38a",
            "5e372a8a4aac4354bfbd9ce4c8ead25f",
            "6b6910ec3cb345878cdbaa35dd4226e8",
            "771d55a1220048b391e18876b6076b35",
            "e188a09d52a745baa2c969a575547490",
            "55ccec46952f44c7ba1beccb26d40755",
            "d480450075ff47f494bb27ce7e2b37c1",
            "c4a3add6ae514ac18a78a7fa63f345fc",
            "d0beb35fca0c48f5a032e7f2a1f1450c",
            "343f11016a2e4ae69e8ae7e51978acaa",
            "ed71287a7bbd497eb3ac95d350327354",
            "1c32f5ccb8034fadb4bcbf32fbbc68b1",
            "8d2e2ba92e854cafa56c6a16cad1bebe",
            "70c0d44cc27f40429bd9d7493a52c1b0",
            "9a8c40e3c4dc4020970bccb17259e1ad",
            "53aceca5214745f8949d9eb8562c42b9",
            "928963339eb9414f83098f4bc54d0401",
            "948ecb463ae94c2bbe2cf4c0e4df306f",
            "2e2f5f8b9bd74b6bb2b589502eb89d67",
            "66193090e8b94c1e88dcbc74fa03be60",
            "d2e80174e41c43c8b9d24d608ef1ccf9",
            "830fe02e07bb4438a2c88805de68e55f",
            "4391b628381440f080478c982f0e4506",
            "5b5f516d5aa445f6a62202b8366e3544",
            "9e2403c889a54e0b9be151b45f925d83",
            "fff76c0a76e84614b9fa2e3a61fcca15",
            "5ff2aa47b7ec4a80b200b7936fbf6563",
            "542feb81e61d42b89772848030797171",
            "a2cd1f7584014d409d6b583da11fd66a",
            "7dde251ab50d471faabed287c6d83e90",
            "b043b63aaf494827a364a4444d124da0",
            "086a15f376174600bc46f4e498b5c4dd",
            "52745d4cbbed487ab4cfa0f119d34b2d",
            "e148f6ea146a4e5da0636e641a6ec086",
            "27bbf4a97eaf42b8926c4d53bcc8b1f8",
            "cd59738f243446d1a5d778f5e36de7a5",
            "d3633af58e1a4e04a9e3eb0b6dbe3488",
            "4febbb94933440e997dc722cb4aecb80",
            "e21871363e5246d7adb4a171225c320a",
            "5ce742200aeb4aa4b969bcabc900d939",
            "9c328b4b5ee64447ad8219d918973ef9"
          ]
        },
        "id": "CPbg3jeu_70v",
        "outputId": "8fb8994e-1dcf-468d-ba75-f43d929825f8"
      },
      "outputs": [
        {
          "name": "stdout",
          "output_type": "stream",
          "text": [
            "Downloading http://yann.lecun.com/exdb/mnist/train-images-idx3-ubyte.gz\n",
            "Downloading http://yann.lecun.com/exdb/mnist/train-images-idx3-ubyte.gz to ./data/MNIST/raw/train-images-idx3-ubyte.gz\n"
          ]
        },
        {
          "data": {
            "application/vnd.jupyter.widget-view+json": {
              "model_id": "cb6ac4729bbc4267ab7bb81fbd62766e",
              "version_major": 2,
              "version_minor": 0
            },
            "text/plain": [
              "  0%|          | 0/9912422 [00:00<?, ?it/s]"
            ]
          },
          "metadata": {},
          "output_type": "display_data"
        },
        {
          "name": "stdout",
          "output_type": "stream",
          "text": [
            "Extracting ./data/MNIST/raw/train-images-idx3-ubyte.gz to ./data/MNIST/raw\n",
            "\n",
            "Downloading http://yann.lecun.com/exdb/mnist/train-labels-idx1-ubyte.gz\n",
            "Downloading http://yann.lecun.com/exdb/mnist/train-labels-idx1-ubyte.gz to ./data/MNIST/raw/train-labels-idx1-ubyte.gz\n"
          ]
        },
        {
          "data": {
            "application/vnd.jupyter.widget-view+json": {
              "model_id": "d0beb35fca0c48f5a032e7f2a1f1450c",
              "version_major": 2,
              "version_minor": 0
            },
            "text/plain": [
              "  0%|          | 0/28881 [00:00<?, ?it/s]"
            ]
          },
          "metadata": {},
          "output_type": "display_data"
        },
        {
          "name": "stdout",
          "output_type": "stream",
          "text": [
            "Extracting ./data/MNIST/raw/train-labels-idx1-ubyte.gz to ./data/MNIST/raw\n",
            "\n",
            "Downloading http://yann.lecun.com/exdb/mnist/t10k-images-idx3-ubyte.gz\n",
            "Downloading http://yann.lecun.com/exdb/mnist/t10k-images-idx3-ubyte.gz to ./data/MNIST/raw/t10k-images-idx3-ubyte.gz\n"
          ]
        },
        {
          "data": {
            "application/vnd.jupyter.widget-view+json": {
              "model_id": "66193090e8b94c1e88dcbc74fa03be60",
              "version_major": 2,
              "version_minor": 0
            },
            "text/plain": [
              "  0%|          | 0/1648877 [00:00<?, ?it/s]"
            ]
          },
          "metadata": {},
          "output_type": "display_data"
        },
        {
          "name": "stdout",
          "output_type": "stream",
          "text": [
            "Extracting ./data/MNIST/raw/t10k-images-idx3-ubyte.gz to ./data/MNIST/raw\n",
            "\n",
            "Downloading http://yann.lecun.com/exdb/mnist/t10k-labels-idx1-ubyte.gz\n",
            "Downloading http://yann.lecun.com/exdb/mnist/t10k-labels-idx1-ubyte.gz to ./data/MNIST/raw/t10k-labels-idx1-ubyte.gz\n"
          ]
        },
        {
          "data": {
            "application/vnd.jupyter.widget-view+json": {
              "model_id": "b043b63aaf494827a364a4444d124da0",
              "version_major": 2,
              "version_minor": 0
            },
            "text/plain": [
              "  0%|          | 0/4542 [00:00<?, ?it/s]"
            ]
          },
          "metadata": {},
          "output_type": "display_data"
        },
        {
          "name": "stdout",
          "output_type": "stream",
          "text": [
            "Extracting ./data/MNIST/raw/t10k-labels-idx1-ubyte.gz to ./data/MNIST/raw\n",
            "\n",
            "Dataset MNIST\n",
            "    Number of datapoints: 60000\n",
            "    Root location: ./data\n",
            "    Split: Train\n",
            "    StandardTransform\n",
            "Transform: Compose(\n",
            "               ToTensor()\n",
            "               Normalize(mean=(0.5,), std=(0.5,))\n",
            "           )\n"
          ]
        }
      ],
      "source": [
        "# These transforms will be run on each image\n",
        "transform = transforms.Compose([\n",
        "    # convert the image to a tensor\n",
        "    transforms.ToTensor(),\n",
        "    # normalize\n",
        "    transforms.Normalize(mean=(0.5,), std=(0.5,))\n",
        "])\n",
        "\n",
        "train_set = datasets.MNIST(root='./data', train=True, download=True, transform=transform)\n",
        "train_loader = DataLoader(train_set, batch_size=128, shuffle=True)\n",
        "\n",
        "test_set = datasets.MNIST(root='./data', train=False, download=True, transform=transform)\n",
        "test_loader = DataLoader(test_set, batch_size=128, shuffle=True)\n",
        "\n",
        "print(train_set)"
      ]
    },
    {
      "cell_type": "markdown",
      "metadata": {
        "id": "sFU2bTn9CH1E"
      },
      "source": [
        "## Model\n",
        "\n",
        "Basically, we'll have two components:\n",
        " - **Encoder**: Although similar to a conventional feed-forward network, it is not tasked on predicting values or labels. Instead, it is tasked to learn how the data is structured\n",
        " - **Decoder**: Also similar to a feed-forward network, instead of reducing data to a lower dimension, it reconstructs the data from its lower dimension representation to its original dimension\n",
        "\n",
        "We'll pass our input through the encoder, (which will also the number of features with each layer) to get some embedding. Then, we'll pass this through the decoder, which will \"upscale\" the embedding into the original input shape.\n",
        "\n",
        "We train this whole setup so that the encoder gets better at extracting the essential features and the decoder gets better at using those features for getting back the original input\n",
        "\n",
        "![image.png](data:image/png;base64,iVBORw0KGgoAAAANSUhEUgAAAysAAAFqCAYAAAAazMW8AAAABHNCSVQICAgIfAhkiAAAIABJREFUeF7snQeUVUXWtpvQIDkzpCYJSBAUEQwIOkoS4TMMimIYHRVFRPIQJQqSETENovPPiCCiAiOjIIgJUEEMpEYByUmSSJRG+J/dXx++06dPvKHv7e5917qr+9ap+FbVqf3W3rUrIUE/ioAioAgoAoqAIqAIKAKKgCKgCCgCioAioAgoAoqAIqAIKAKKgCKgCCgCioAioAgoAoqAIqAIKAKKgCKgCCgCioAioAgoAoqAIqAIKAKKgCKgCCgCioAioAgoAoqAIqAIKAKKgCKgCCgCioAioAgoAoqAIqAIKAKKgCKgCCgCioAioAgoAoqAIqAIKAKKgCKgCCgCioAioAgoAoqAIqAIKAKKgCKgCCgCioAioAgoAoqAIqAIKAKKgCKgCCgCioAioAgoAoqAIqAIKAKKgCKgCCgCioAioAgoAoqAIqAIKAKKgCKgCCgCioAioAgoAoqAIqAIKAKKgCKgCCgCioAioAgoAoqAIqAIKAKKgCKgCCgCioAioAgoAoqAIhBzBHLFvAY2FWjUqFHpP/74o2m+fPmSfv/990Lnzp3bz//bV69evZzoZ2ySaJAioAgoAoqAIqAIKAKKgCKQbRBQefh/uzJvPPVovXr1WpcuXfpZiEqd+vXrn0lKSkosXLhwvv3795/evHnz2fz58+fLkyfP/IMHD/ZPTk7eHk9117ooAoqAIqAIKAKKgCKgCCgC4SKg8nC4CEYhPcSkRLNmzT65+eabjy1ZsuQ82pTzdp9Dhw6df+WVV85cd911Jxs3btw/ClXRLBUBRUARUAQUAUVAEVAEFIFMR0Dl4UyH3F+BderUqQL52D1p0qTTZ8+eteMoGcLQtJzv2LHj8ebNm79FKbn9laSxFAFFQBFQBBQBRUARUAQUgfhDQOXh+OuT1BqVKVOmcNOmTTfPnDkzJQMj8Qg4ffr0+YceeugE6cfHafO0WoqAIqAIKAKKgCKgCCgCioArAioPu8IT24doRqYPGTLklAcvcXx85MiR8y1atDjOAaTrYtsSLV0RUAQUAUVAEVAEFAFFQBEIjoDKw8Exy5QU1atXr8k5lZNHjx51JCN+Hnz44Yfnb7jhhrWZUmktRBFQBBQBRUARUAQUAUVAEYgQAioPewMZs/MeqLweu+uuuxKLFi3qXUuXGK1atUpITEysyoH7y12i6SNFQBFQBBQBRUARUAQUAUUgrhBQedi7O2JGVgoUKNDxpptuCtt1cu7cuRPatm2bn3tY7vBursZQBBQBRUARUAQUAUVAEVAE4gMBlYe9+yFWZCXfqVOnytWuXdu7hj5iNGjQILFgwYLX+oiqURQBRUARUAQUAUVAEVAEFIF4QEDlYR+9EBOygnu28lz2eDpXrlw+qugdBRVaAm6PK3rH1BiKgCKgCCgCioAioAgoAopA7BFQedhfH8SErKAFOQ9RiQxToZ0cxE8gu/P+mqyxFAFFQBFQBBQBRUARUAQUgdgioPKwP/xjQlZWr16979ixY/mFZETic/DgwQTOruyORF6ahyKgCCgCioAioAgoAoqAIhBtBFQe9odwTMgKVTtz0UUX7U1OTvZXS49Ya9asSeEMzJce0fSxIqAIKAKKgCKgCCgCioAiEC8IqDzsoydiRVYSuIH+7Y8//visjzq6Rjl37lzCBx988HtKSsq7rhH1oSKgCCgCioAioAgoAoqAIhBHCKg87N0ZMSMrx48ff2XOnDkpXArpXUuXGB999NF5iMq2lStX/uASTR8pAoqAIqAIKAKKgCKgCCgCcYWAysPe3REzsrJ+/frNnDN5c+LEiae9q2kf49dff00YN27cWcjKM/YxNFQRUAQUAUVAEVAEFAFFQBGITwREHsZJ1OcTJkwI2dpI5GHk6ZNoaR6Pz1aGV6s84SUPL/X27duXcsi+U/78+YvWr18/EHH6/fffE7p27XqKw/VTy5Yt+0etWrWa/vjjj19To8ic2g+vaZpaEVAEFAFFQBFQBBQBRUARcETgzjvvLHbxxRcPSkxMXPTTTz81ypMnT/HLLrsskLdckYe7det2ct++fS9++eWXrzsWloUfxJSsgFtKoUKF/rN27dqOR44cyd+kSZO8ciO912f//v0Jjz766Cn+bif+oIULF76Pr+o/Lrnkkr5cNLke0vKbVx76XBFQBBQBRUARUAQUAUVAEYgFArfddlsrNCqP4B13PEcavkGGTfzqq6+asAmfeNVVVyHe+pOHH3nkkRO7du1asGzZsidoR7bcsA/E3qLVmVWrVi2elJT0DhdFXt2zZ89C119/fUK+fPkyFHfo0KGEt99+O2XmzJkJaGO+wqPYrbDRwfw/ffbs2ck33HDDRZCfXvze/957772WIQMNUAQUAUVAEVAEFAFFQBFQBGKEQKNGjQoi9/aEqCS/884770k1IC738zvljz/+OPbbb79NQL6t3qtXr3xe8vAbb7yRgoXScEjOuBg1J1OKjQuyYrS0YcOGLYoXLz4GldalfE5Xrlw5sWjRovlRbZ3evHnz2R07diRCYuZCalaiKvuZ7w2QlX6cWRlNHtPmzZu3RfJq167dNTy7G7Y6bunSpXr/SqYMJS1EEVAEFAFFQBFQBBQBRcAJgTvuuKMpXmzvPHHixLjFixfvkXj/8z//c9/Zs2fPsdm+mGcDkIGPIveuK1KkiPzvKg9zbceAVatW7XQqL7uExxVZMUDFlKsUpOTavHnzVoZlFqbz9vP/VlRiK7hAJ4V4uWChk+jc+ZCVKjybQZwxHCx6+b///e/Pkg92gAUI606cg/Pnz5+eXTpM26EIKAKKgCKgCCgCioAikHUQEJmUjfUeaEEOmGXSv/CBcOTnCo5ZaXLtLKyDrnj33Xdfkdb5kIezDghh1DQuyYqf9tx+++2XojK7im8ZGOoHaGGSOcMyEYIy+f33399q5ME4aAHhaYOnhDGffvrpQT95axxFQBFQBBQBRUARUAQUAUUgXAQ6dux4NZvp92AVNP7NN9/cZeQnRAXyUlyOLaBd6c7/X7BRf1+pUqX6TZs2TTbm9ZOGQKwP2IfcERs3bvyFQ/V30Ln/wOSrO4fqPylduvRCyMuwKlWqJGM29qtknpyc/DP2gV+hgelVo0aNYnhb2BhyoZpQEVAEFAFFQBFQBBQBRUAR8ECgc+fOiRUrVuxBtKIcU3gWZ1IXnD9hDnY78mopiMp0yExjNtpLI8sWOHPmzHezZs1KtRDSz/8hkGXJijShevXq39PZT3GhzqSSJUv2mjt37hKM+z7GXGxwhQoV1m3duvWYxGOA/A5p+aRevXpVUal1xU3yqg0bNpzSgaAIKAKKgCKgCCgCioAioAhEEoE2bdo0wOxrIBvl/8ak62Nz3u3bt78N2bUsMuurOIYqjtlXT85kTypYsODdCxYsUOdQNh2RpcnKpk2bTkNOasJET9LZhyEijWGpP0BGPmGADMXD2Nqff/45lbDIB23M5nLlyn3Nsx41a9YsgpblJxtMNEgRUAQUAUVAEVAEFAFFQBEIikBejik8iZx5MWRkGBvjh8wZ8KwNWpRq//nPf16W8AYNGozAGdQonEs9iRz7TzbWjwYtMCfEz9JkRTqIjv2ezu6Liu1FLob8S926dffAYn+BsHzOYBnFWZZvt2zZctzozG3btp3GZOxTSE4DfFo/TJov+X0mJ3S2tlERUAQUAUVAEVAEFAFFIPIIoDGph2w5mHPSszhEv4AS0t15IveqQFRqc676eSmd350x/fpCXBZzVkXIzcLI1yp75JjlyYoMBs6iHOXbDNOvVzAJexry8vGcOXN+R6X2SZkyZUYxeFbDbi8QFuk6SM4Gzrx8jyexpyE0ZyA027JHl2orFAFFQBFQBBQBRUARUAQyCYHct956a2fOUF8C6RgB6ThgLReNSktIyaWQmOfkmTiJgtRcwu85HFEYIk6g2Ew/a02nv/8XgexAVhKw5toF8ZALdb48efLkGphrF7Qln+/duzdFCAu+q4eXL19+FQPhpLnjMQs7AWlZdNlll11J+vvQxHyFRzH1wKCzQxFQBBQBRUARUAQUAUXAFYFbbrmlOpY8wzmO8D5XZ8xjYzzDDfLEaQaRucwgKmyoF8Lj1yCIzTAsfFogs25ftGhRsmtBOfxhtiAr0oeVKlVaw50qjzNY/oMmpQyH72typuVHISzYAX7OWZWRxFnJofsMB+tFy0Ka9cWKFRuCWdgpiM72HD4utPmKgCKgCCgCioAioAgoAvYI5MLd8N9w6NSUje4hEBHbC8i5X+U6yEgTTL8mG9lcddVVo7hbZSyy6Wnk1m6cX0k1C9OPMwLZhqxAQk5AOBpCNn7l/MoX/P8Q5OQnDtgfFW3JlVdeuZxBNQYGvMLOE5iYiaFpWQTLbYZK7s4WLVqsWLly5R/O0OkTRUARUAQUAUVAEVAEFIGchABuh6sga45AplwESXkL+dFWVsQ07FrIyI2QkbEGPpxTuYt06/H69QPy5lNYBL2J7JnuEH5OwtJvW3P7jZgV4nE+5WU6vqvU9ciRI8Mw/+oDq00lZFzE8xvnU/oxcEajkivh1B4G1QyeTceN3HgGVSOneBquCCgCioAioAgoAoqAIpBzEGjbtm0n5Mz7OOssjp1WO7W8Xbt21yBztkCmHGnEQR6twYH66pxpWcz/5SAt+flfvdI6gWgKzzaaFWnT6tWrz6FRScEE7NLFixevxy5w+++///5XzLpWyHPY7++Ygy3jHMsIGO0yJy9g4jqOZwthzm2I1458vnJizj4w1iiKgCKgCCgCioAioAgoAlkUASEXyITPYNL1FdqUGW6WN3gFuwIi0gYyc4GodOvWLf+hQ4dGlC1bdojIquT1NGRmArKleqP1MSayFVmR9sqN9ZhxdYaUfP7BBx/sxZXxJRCYUgyIrfJcXBfjOewr2O1IN8IicSEs3xF3F4NuaLVq1fZyBmafD0w1iiKgCCgCioAioAgoAopANkAAs68ObHzfjvw4bNmyZZvdmsQ5loYcnG9vJioSn2MJw06fPj119uzZh8mvKaTnBPcCfueWlz7L5ghw3qQyA6aX0UzMuSbcdNNNfzI3G5Zchjgv87ewDzjELd1jsOUehlmZjzQaRRFQBBQBRUARUAQUAUUgCyKAe+Gyf/nLXya1bt36z36qj4nY5Zh/PUvcXOb4yJq3yK31EiYyJPLkC9Y4fvLPyXGy1ZkVoyOXLFmyA+8M+dq0aVNVwvh/WJEiRQaYBwf3sBxAuzIUtjxe3Mh5DIJzqP3+QZzF+MV+joF3iUd8fawIKAKKgCKgCCgCioAikAURgKT8Be1H95SUlKG4Ff7EqwnImw3w7nU3B+cHEveC+2KISRK/G+MNbJ7kgYvjR7DWedUcxytvfZ6NEYC9FoBUjDOaKIfl+T5pbbIwZwbTFIlvfebwOy9pnuLbk+fZkuw5tFuDFQFFQBFQBBQBRUARyLYI3HDDDcWRCYejCWnnt5H33HNPbUy7RhPfKhPmTbPgSZUvkTNLonkZ6jdfjfd/CGS7MytG0zijcpazKkU5l5KEW7gtfPdy8WNjzqDklUskjXhyMSS2hN+hZZGLIz/1cYPoOdJ8XbVq1ZNoZAZRxibKOqyDShFQBBQBRUARUAQUAUUgayLAJnSbiy666GHOnIzDS9cPflohljZY6DyI9c1g4p8zp0E5M6BAgQL/5JxK6nnn2rVrP338+PEpdvf9+SkrJ8fJtmRFOpXD9skctu/arFmzpeJ9AZLxDQfue3DXytfiGczoeLmjhXtY1smh+5YtW37s5uXBSLN58+b95Lvk6NGjD1BGXYr6PicPJG27IqAIKAKKgCKgCCgCWQ2Be++9t2jNmjUHc7XFAVwNT0E+zHB5uF2bIDe1cGPcBfOv/qRJR1TknAvHBs5CelJNyOTgPWZl+RcuXJjqnVY/wRCwqqyCpc4CsXEN9yqXQj6aVtXz2B8+w/dpa9W5h2XX+fPnx3C/ykRxMWd9bvd72rRpKQzsSQzWdagNn2PAV7KLp2GKgCKgCCgCioAioAgoAvGFANqPFidOnBhy+PDhKca5Ej817NSpU01kxi54/erLGeh0l0LK8QLu+WuJR9qZaXnl4pzKA5Caf/nJW+NkRCCdx4KMj2MT0qhRo9Iw0qao4pJQrxWCje7n/+1oR5ZTo8A+qWG0w8jnHxyS2ist4lLIZgyaWriNe83aQvEkVrhw4e74wu4vZMT63Om3nHmBBPVg8B5AHTjdKZ6GKwKKgCKgCCgCioAioAjEDgGR2eQAPdqUg0FlNrnBnrTdICr9acFZSytycz56Ks/7s5l9TJ4hg96HTLv9v//97xdBWxxpeTho+fESP67ICuZUrUuXLv0snVoHU60zSUlJiRCHfGhGTmN2dXbnzp35MNWaf/Dgwf6YXW33CyIDpQjaj35pNoWpyQjrS14f2dklegxE12LT/GffCVMfx8WUe1wj60NFQBFQBBQBRUARUAQUgUxDQG6XR/67+9ixY+OWLl26O0jBXhvayJZybcYnEJXUO1RE/sTCZwCb4+IlzPcnWvKw7wpoxIwIQExKcP7jk5tvvvkYbofPowVBQZHxw+2f51955ZUz11133cnGjRsLo/X9QS33V9R9V5kSyN0pU2CtBe0yERUf7Hgyz/LaPXcLkzwpa1CHDh3ucIunzxQBRUARUAQUAUVAEVAEoo8Anr4uwrJmIJvKD4dSmrghljtSnI4KIDM24fkj5ryRBYdwfqW83/IyQx72WxeNZ0IAD11VIB+7J02adBp1XEaGYhOCpuV8x44djzdv3vwtsvJ77iaXDDJzfLkokrBnnDpEDk8JYQn1IkjStuI7kXJKOZWh4YqAIqAIKAKKgCKgCCgC0UMgjUhMEcIRSilyJpk8XnQiKuLymOcTzHnLpjdyZFe/5WWiPOy3ShpPEChTpkzhpk2bbp45c2aKDSdxDTp9+vT5hx566ATpx/tFE7/ZV/B90ByfgduaW0c7OeUhbunSbiT1S4rSZQXRKUaZI9Cy3OpUhoYrAoqAIqAIKAKKgCKgCEQWgc6dOycig3VLM88KSY5L29ieIpoZp9qJpY7co2J+LpvVUr5TGnN4ZsvDfuqkcdIQQDMyfciQIadcWYnLwyNHjpzHfvA4ZlfX+QWVATVKGLA5vqjphJQ45eFy4Y9TkgzhlNuWgfscKsgSGR5qgCKgCCgCioAioAgoAopAxBBAq3EpJl9TRcMRaqbi2SuNiDheHI5s14U415rLgCDdJve2+C03FvKw37rl6HjVq1evyTmVk9xT4kJHvB99+OGH5yEfa/2CKSZZEBOr6+K8DLTnndR7knebNm0aMPDG8G/ITgmEqFDOM2hZbvJbX42nCCgCioAioAgoAoqAIuAbAbk5vjuEoUeoZvxSkhAV8nmZC8ALOZXMhnl90dyYn4sGxmoS5pRewmMlD7vVKd6ehaQSi0QjUHk9dtdddyUWLVo0rOxatWqVkJiYWJUD95f7yejjjz8+hL/rg0I+TPHF9dz47du3/90pDy7yWcPB/7cwCRtNnJAIC27rjohHMlzaCWkZxSQq7FSehisCioAioAgoAoqAIqAI+EeA88x10KZM5p6TRdyb8pz1DhS/OSGflcEz7XCuuei7Zs2aE3bphMTgsfZhynnR/By5thtp04XZpTfCYiUPu9Up3p7FjKwUKFCgI1qOwJ62rABCPBI4c5Kfe1h8e96C3EwrWLCgXBR5gXRAInaSx3q3syVc8PM95b2N2ZhVM2OtlutvXNi9c/z48echLSOYENe7RtaHioAioAgoAoqAIqAIKAJuCORCE/IQjpru5AqMXrNmzdroFtntmVjBnDlzRuS8v0N2jjvF5db7YciTYnFz4fZ6NqKTcFV8DgKz1SmdNTyW8rC1Lvo7PQL5rrrqqhSEdW87Lx8x0Jacb9my5ZIgIEMSrmNg32lNIxoPuWfFGm7+LQf1bUzJ3JI4PqOsDmJe5uRC2TGhPlAEFAFFQBFQBBQBRSCHI4BMVk3OpiCXNQwXCjnTLMcCyKuIW17EeYCN6xbWOIRNCijPxVwetrYhHn/HRLOCe7byqM5Oc1FjRDBBhZYAm64YJDPY8jK0JE2stoiVK1cegfquN3k5an1gzN9CtJbIwfwgZdrFFS3LyZMnp1SsWHEY6svGdnE0TBFQBBQBRUARUAQUAUUgHQK5IBV/44LHe/n2Ni5iDBUj8d5aokSJMciTQ43b5+3ykgP7lFfu3XffTbdJLueR0ch8vnr16pN26ezC4kEetqtXvIXFhKxggnUeohIZpgKiKF8SyO58UHDxJvYcarx0B6OmTp36O7aOU2Hpcgup42fBggVfMqCXRELDsmjRor1MjH6nTp2qz6GswUyYfI4F6wNFQBFQBBQBRUARUARyMAJykzzajSmYUK2dN2/eM2xAnwkHDu5RKYpMNxYTroFyvtgpL3HEdOLEiW5sNE+yxMlL+nZsZs9zSmsXHi/ysF3d4iksJmQF1rnv2LFj+YVkROJz8ODBBLQku4PmtXTp0t3UIQUzrFrmtNz7sgntyj47FZ85HudcVnD46hMIiyux8Vmv8xCW1yn3Tb4TI6HO9FmuRlMEFAFFQBFQBBQBRSBLICDm80WKFHli165d/WfPnr0q3EqLhQ3niJ/57bffBkF6Drvlt2PHjiFoVSYSRxwzXfggRz7BpvlrbmntnsWLPGxXt3gKiwlZAYAzF1100d7k5OSIYIGnhhS0El+GkhmDbipERw7bp/tARP5NQGu0HOWsz8y/xZwMcrFKXOS5xfP7TA5lwdifol6Xi9bG74VCfvPXeIqAIqAIKAKKgCKgCGQ1BORyRjkTgnx0YO7cuf2DmFs5tVXOl1SrVu1ZrtEYId5ineJJOGZed3CgfiUy2nZzPKkXG99FqdM6t/QOz86gHdoXD/KwQ/3iIjhWZCWBG+jfZmCkY6ahIMLZkQTMqM5xBqYSHhwGIuA7Xu5ol7+oDiEbi1EntrU+37Rp07CUlJT+hLvihMrwC1SH62HWPa15hPj7PIP+n5Comb/88ssYuZQyxHw0mSKgCCgCioAioAgoAlkaAdGmFCtWrDty0RDkts8i0RghKlWqVJmAJ9jRn3766UG3PMXLF+dR6r3zzjvzrfHQ8vSCxEy1hnv8zi2OnrgOYyhEZy+WPn94xPd8LPIwXmt/R2591zNyFosQsXMjQdtdr169GiVLllyDJqEAAzBo8gvxuf/k/NixY9cz0OqLuzlIQ3sGc10G1W/kO0dMuvxkLrfLJyUl9ZMzK+b4cuEPrPcG6uk5EMmjFYOlDuZcU/yU6TOOXG7UlcGcC23U1FB9hvssS6MpAoqAIqAIKAKKgCIQFwikyXV9IANLIQofR6pSEIUCYnLP+ZORcm7YI1+5OHwSDpj6WmVEPNFeyWb5JWwwv+mRhzwWgnItd/a1QDt0EaRieYUKFRYuX768SqTlYR91yVJRYkZWBKXrr7/+1ebNm983YsSIi0JB7ddff02AbadATO6ns2eb82BAlCS8nRAXvscYlG9xCGuLUzkQjYshGu3siAbPukAWfpAzKk7pjXC0K204ZFXTD7nxysv8nHwvxR7yMQjL834JWJD8Na4ioAgoAoqAIqAIKALxgoBYvCD3tEKoH+526D1ofcWJEXmOhaiMX7x48R6v9OL5lfizkQ9/tMTNjXw4CdlSrGocD2FzTKAeZOsW5MiSQlDYAF9kdQiALLyQ700jR4509ETrVk+Rh2nXCc7etP7qq6+Wu8XNis9iSlYArFCzZs2+f/zxx6viCi5QB8FMEzjPcWrLli0vli1bdidkJC8D6TnyvHA5j9Eh2BOWgvnKQKkuto505ly7ASpmZJx9+ZccvLd2pnidQFU43OvwlaRjYN5GOWUZwNOs+YTzW86vHDhwoItbW8PJX9MqAoqAIqAIKAKKgCIQSwQQuotxVKA3G8jfQFL+E8m6GESFw/QT7GQ9a1nIfq0hGKUwr5ppfcZm+cOQkDV2h/wNgkIbyiN7frd169Z3OV99wpqH0VbkunU4nhr1yCOPVH/ggQdcjx5Y8xB5GDn65E8//fTCihUr+lmfZ4ffeWLciBTcBP9n7dq1HXEjnL9JkyZ50YJ4Vmn//v0Jjz766Cn+bif+IEzB3sdX9R+XXHJJ39q1a6//8ccffzNnwiA5RdgPfD9F5bYHV3F/wQztDtwW17nssst2bNiwIfWG0qJFi64uV65cHw46ZVA1li9f/ivIyqCNGzd+5FVBBszGunXrVubbjLy+9Yrv9zmHyc5R/tdubfWbl8ZTBBQBRUARUAQUAUUgnhAQc3q0KY8guI/HPOv7SNZNiIqYfrEpPZkN651eecvBeeS+O7mqIoNpf5p52s2Yps0w8hGCgnz2N76304Y8EJl/cxj/fZE/kVdTrOWZ2/rRRx99gwybiFakCR5uE7k4HfHWnzwMwTmBZ7QFy5Yte4IyHDU81vKz0u9Ya1ZSsapatWpxzou8g/bj6p49exbCPCyBAZIBx0OHDiW8/fbbKW+88UYKhGM1JlG3MhgG4z54Osw2mZtHL4L89OL3fgaIpws5OTDFgLqVbyUK2wPTng1h+TPnXvbaHeBiYDWBITfAHGx6hsrZBKA6/Avxi/upi01y16CgbXXNTB8qAoqAIqAIKAKKgCIQIwTksDuyYE/ksWQIwHuRroZYpkAYJqLpmCxeV33knxsZcTIkYICd1zGIyQgI1fMcrhdC0x7tS0nqvg6Zb67bhZJSrl1bkS/vJ30KZOoY1j9jkWOr+pWHKXM4JGecjzZl2ShxQVYM9Bo2bNiiePHiY1BpXcrnNIeZEiEP+fft23d68+bNZ/FvncigmAsrHsCgPsHgGAhZ6cff0eQxzTiTgneFazDDupuBNM6Pmk/KR51XhUHcXogLHX8tZXS0O3SVdqfKJwzG7/z0uhAW8spvp0L0k94rTiht9cpTnysCioAioAgoAoqAIpAZCCB/NUULlAZjAAAgAElEQVT+upMzJOPsTPTDrQMalTzkPwbTspcxK/vZT37Ien2RIz/i4PwP1vgQlVZsaj9I+A7y3cBG+7w333wznUWPNY3x266tlHUfZ53Psdm+mPwGvPvuu72CyMOrVq3y1BI51SerhMcVWTFAw5SrFKTkWgZDZVhmYTpvP/9vRSW2AoZ7QZVGBzdnMFXj2QzrQGRwFiCsOwPgoF9NiFG+x0CUA1VTybu/F3s28jMGYrQISzhtzSoDVeupCCgCioAioAgoAtkHAZFd2GzuwQbxgaByml8UhKhYN7S90mLi1QzNRi2zVYzfDW2nvJ3aatrQniWH9SEsQ83Ex6887FRudgmPS7ISBFw6uj9s/AO0MMl2Kj6et4DwtMFTwhgvP9rmct1UfBCkAmhgejCQB/qtq6Hig6W/5TdN0HihtjVoORpfEVAEFAFFQBFQBBSBUBHo2LHj1Wg67kErMR7hfFeo+bilSyMq44yjAm5xjWdyFgWLnUFY6vQJelTAKX+ntpqPCrCp3R3S9gUmahE75+xUn6wYnuXJCqBfsCusXr36WTk8dfLkyYkcut9mdMi9995bFFOsvrDr1QyEeX46SgYsA7wXhORpI74cnkK70w6iUgaNTQr/b0K78rqf/CQO7of/ikbmNDsI6dws+03vJ14obfWTr8ZRBBQBRUARUAQUAUUgHATk7Aim/d2wiDmKfCXyU7QOhIsVzDiIx+ucQd7gs865SPMKst0WiENJ5LzdnI0m+Zx9kj7tEsnBfjeq3dqKpkYO4ZfG5OtVyExjjj80jLQHWZ9tzhLRsgNZSRCPDRy47woRGSLeHiAlY+3c0skdKAzA1gzekX5cEHu5pUPDMpFBvR+C9LGTWzrrKBDCwv0vRyLtjs+mnEBttabX34qAIqAIKAKKgCKgCEQKgTZt2jRAVnsU2WkKMtjmSOVrk08u5LcRyIJvIReut3meLsi43gLy0JEHyVjrTLI7O+N2vYW1DLe2mq+3wFlScS6EHAkBeoo8okXcrNXLcr+zBVkR1GHDN/OnOMx0lkFY7C78kYHBzfY9IRjf4I7ufY8e87rwR26XnwojfhU7wxbCxJkcthf+mMtB9fc46s890SYsAdvqAYU+VgQUAUVAEVAEFAFFIDACedmoFbe6eTCFFzfAGe7DC5yjc4JckIHhWNPMWbJkyVqnaMiJ6S4OF09eaFKSkCFfsEuDjOl4cbglvmtbrReHI0OOQ1Yd+/HHHx+yK1fD/heBbENWpDl0+jAY+0wmw09ymElMwhgEI+28esG6O2CSdQ3fYW4H5Vu2bHklNpWXkOebdoNGbBohKQ+TxzCe56bcayEvLajHRUJcuNdl4bRp0zL41ybdE5S9A9a/wC7fSIb5bWsky9S8FAFFQBFQBBQBRSBnIyDm81izPA4ReMHmBvhIg5ML2WokxGMupGO1NfO0u1HaYxFTFwuX39i4njNz5sxNyG2FkdeeIY3jTfSQlee4YqPf1KlTf7fma/z2ait5tELuqwMOqfe28LszdVmPViXb3TjvhFGo4dmKrBh+tPEk1gcV45k0+8IJEIcRhs2hGSgYblkGSn98Wr8PofnECUQG1Fgm22jyOGoXB5J0C4Ql0XIeJpW4wO5vooxCDNAvrMSFfJ8kfCsD9792+UYyzG9bI1mm5qUIKAKKgCKgCCgCORIBOU/8KDJOAc59TEV++iPKKKSafnFlxXxMuL4xykIOKwYxudUgKMiD71pJE7LYBLmEEu3Gfrs6CslAxsvLeeMP7J4T5tlWZLCWxLuUje/Jkge/L4XAtUBufM4hTw02IZCtyIq0C+ZcncF4L4NxpPwWwlKpUqUxR48eHeHkDUw0D0S9grtcRq1Zs+aEdYTImRgu/nkU1v2M9ZnxmzxGcrD/NfPBfuMZkyUP/4sW50a0PUUZoJ9hgvYhYWcZsF2p70YuQfrYKe9Ihnu1NZJlaV6KgCKgCCgCioAikLMQEDkMB0U9MXd/jSsbInoLvROScp6ETeUlyGkrxbKGjeIWEJRGhJ3jMP8cuTjcLi0y2EPIYDucZDDyyofsNoqD8H3t0vtpK3GaSV0MYtKgQYNCNWrUGE+53TKBxNlVO8uFZTuyIj0g7uCYJCnGmRAZGNWqVXsWDcpwJ7tABmQ51ID9GJRy++jn1p5kQMvhp6Ww4nXWZ/K7W7du+bdv3/5cuXLlnrIz+zLSGMSFsm6AqRdAC/QhBOZazNVWuWl37MoMNcyrraHmq+kUAUVAEVAEFAFFIMcikAtLk4dofUXIylixcMkMJOQKC2SqFchvxTABawwxyCOyFeUvcysfWaguZvu3IPONd4rHBm9vZLX35XiBJY6vtlLGdZTRhDImGenlnAphk+2OKDjVI6eHZ0uyIp0KuRiDWu8lDljtkN/i0hfNxzgY9kAG8GGnjpcLHIlzScWKFZ+x2CbmRRU4Ps2m0TY5g7IGk6UDDHyMbQRLoBAcvIi1gl1fzWSQ7zyYtxzuyhSPEC5t9VN9jaMIKAKKgCKgCCgCikACQn0VNl57Qxb+ZXdeJBoQ4UToouLFi09DdhKZaScEZSHynZz/8JShJC1nVsaRpqeTduPGG2+sWKJEifutMp3ftmIGdy1Vu8mw9BEMkCPvAqMjkJ/F0cAku+aZbcmK3UCETBTDBGss9osD0LoccepUp4HYoUOHm2DDRSxnU9JlE+pADGfSObXDT7hTW/2k1TiKgCKgCCgCioAikLMRaNu2bacCBQpU41zuBLcD6JFAybzJKxu9aFRC2uS1bmjb1Q2NzfhNmzYNMx8P8NvWdu3aXYN2qSVEZ4SRd9ANbbs65dSwbEtWpEPtVHxp7nxHwHYHwXaPuXS8rYqPwTtp27Ztg1evXn3SKW04Kr5Q1ZlOdfEZbttWn2k1miKgCCgCioAioAjkMATSTMrFBOtdNoC/iFbzKSf13G+kzOetRwXs6i3mW2xul0cDMkeeB2krXsGuQHsi5mWpZ6fl4/eogBFf/6ZHQAZAtv1s2LDhQN26dS+59NJLS/H/VmkoROM0B5u+gpGPvOSSS5b9+OOPjjaVPPuOuLuwfxzKmZe9MOx9tWrV2oBa8MHk5OQvnYCDTa/g7MozlLuQcj3VkeZ8yHcZZd7LobC1DPQZnLf5koNi9WrXrt2J/Jrz+5f169cfdCo71HC7toaal6ZTBBQBRUARUAQUgeyLgDjrwdLkdmSqYcuWLYv4BY9CUOrVq9e0Tp06D0Ia2mERsx+Z6P8hqyxBdmuPDLcWK5elQRGWA/FimoWTo1ed0krZmLT1gahMlDhB2spmdUNMy9pjCneBqEgeOHoaxlnqqRz0dzyG4FQfDU9IyNaaFaOD7dzSMRjLMNFGQCz6Yq943GMwpHNLR7peDPZ3mCipBMjuE6ZbupBd8NnVJWCYpwu+gPlpdEVAEVAEFAFFQBHIBggg2/i68iHEpkb1ygfr9RZOdURm7AKxkAu+9/m53sLIBxOxy4nfESI0kLALG9UO11s4Fa/hNgjkCLICMbG98EcmHex5ODsDfexcFlvxMi78Qb33KukegDn3scYx/2bAh3PhT0iXG7nVJ8gzr8uNguSlcRUBRUARUAQUAUUgayMg5lNoOa5gs3aMhxl9kIZm2mXakIYLF4c7VZCrKkoVKlToCaxbNgRpa5s2bRpAbjqhjRlA3heIiuXicKdiNdwDgRxBVgQDiEMj/lwDwRBvWxc+Qljw4DUItV1/NCynPPCSx3lJI7fPX85FR+K7W+5LcfzI+RXcEo91cpnsmPB/H+SCNAzHDGwOXs3WOsWFjJVERdpOLj3iewwi9Rbt3OIUP0B4aluJn4cJKDeunguQVqMqAoqAIqAIKAKKQBZHIO2sb0/knlVYlCyIRHPSNkTlQu2SnEURLcYiN1fH8KTH0XbsMa6kCFoHZMCbSVMc2WiWW1riTaSdZ6nXF37bes8999TG4uYBbqIfTN5mOSkvMuBULHh6+ZQv3aqWo5/lGLIivYzg3ZVJ8S0qunTnTeTSx8KFCw/k4sh+XBx52s+IEBYNWfkXE+yeWbNmbXRKI5O8ZMmSIxnEck9LoPMraXmmmoRR77eYOOudyjHCZVeAtsgLQC7HPMDdMnO5zXWPVzq359LWggULPkp+U5hwEbdNdStbnykCioAioAgoAopAbBBAbmqDPNEaTcNIt2sf/NTOICiQgfLk+R1XN7zrx6qFOvyVDdkjoRIVkfGQYboiQw1xqydE5UksZ9pzfcU9ftsKGbmE9jyIXDmIvNNt6EKwZCP8XTcZ0a0++uz/EMhRZIVm55LzK0y6EQzEo+aBwD0sldCADEhKSurl1/Vex44d6zCBnmFwfwAZeZ38bMkI8RrDuhvC6KeFOPhyU+9x1Pt16r3Bbx7iIxx15h1MvIqoM3eLJojPPr/pzfHE1nPfvn3dyOuoW1tDyVvTKAKKgCKgCCgCikD8ICB302HV0ZeN0tVu1zV41VgIChYf7ZCTykBQ1iC8v4cc4nVO+EK2QlQgA6fnz58/26ssh+dyDnfyrl27Bjh5cTW1tRFtbUc+vqxIqFst2tQF2awPbfrDXH7r1q3/zAZv+Q8++GCmQ700OAACOY2sJOAJogQDa5DdeROxLQS7fpUrV+7tl7DAnIfIZGYitkKjMf7NN9/cZYc/7Lt7mlrxW7vnXmHinYJyxqFOnI7pWbJXfOtzaRt1vJVvJZ7t+e2332ZjmrbfGs/rN+29CuLTya2tXnnoc0VAEVAEFAFFQBGITwRY51tgTt7m119/HYO1SWDvo0JQxCMWMktJZI51yD5zQznjwibt/aRPwQz9rVCRoi392Yj+YOHChWvs8jDayrNtkItV3IvytV08a1inTp1qctH4E8iSfXl21vxcjhdQ7x5s7MpBe/1EAIG4JCuNGjUqzURpymBPQiNRCFa9n/+3w4rlZlJHV8N+8YCwNEPor8VAes2apkWLFpURxLuXLVu2/7Rp01Ksz62/ISFF0DYMEFfITMweTMoD7ABMt8bjt2h1JqHpGAqh+c3muWdQGmEZTcRp4ZxJkYsgwbS9QVyo/yx2BQ54ViAtAvUo4NFW26yi3a+2hWqgIqAIKAKKgCKQzRGIxPoqazuyQXc2JA86yDGOKGIuXhWz+FuIkEQeG5Cj5oUq60ghyFb3UY9z4WgmyKM5slk1yM6/rBU3txW5bTbyUD/aLGdOPD9pMlQ35LD+RE5HVPgtljBTwaB/KATNWngk+tWaZ1b8HVdkBZ/arUuXLv0sRKVO/fr1z2CSlciAz7d///7TmzdvPrtz5858DLz5Bw8e7M99JNvDAZxB3Je8PmIQ/2DNx2MgWqOnTirqvF0uRSJtUwbpnTD5cdazIuIumWcDYO69MmTiM0AIC3mM4aDZy5T3s89kjtHCecG4tdVcYGb2q2ND9YEioAgoAoqAIpDNEIjU+io3riMT3X3s2LFxS5cu3e0HpnA3Pp3KQNvxF0zQ8odDVMTxEJuqA+2saKxtRYYbxsb4PxYtWrTXqU5GuNeGNnmJfPcJROU7r7zcnkeqX93KyErP4oKsQExKFC9e/D2IyZW9e/cu3KxZswQ0KRlwPHz4cAIagJQZM2aclTtSVq1aNSZDJP8BrnaMbio+myJStSaG3SJMuGDVqlV7wtST33nnnffM8ZlA11P3JLnw0SYfX0GGr3BIy2S3u158ZWaKFIrq1q2tMerXoM3W+IqAIqAIKAKKQJZCIFLrK06ALsLioxfWJvvtrE2soETKpNyar/FbiAqajuJ+6uKUB+G5yGYi53SHmbU7dm2Vs8ds/v4ZrcpLLvmlPvI6KoAc2IS6NwiqlTKXG6l+9WpLVnsec7LC7aRVSpUqtQKGXuqpp57KD7P3xPCXX35JIO6JvXv3Lvj88887kcDXYShrxmlewLo5qf7cDk9Z84JNNySsISREDtqnfhi4rfjTmp2K0WbXxWJDienV/FDOnhh5Q3ryoc2ZiM3kRGwxtxnhkfob9FCcta2x7NdIYaD5KAKKgCKgCCgC8YZApNbXNOH6Xto3ATlop1M7I+msx6kMCUcOvJ1N3tJYnzjeLu+W3niG7PYUh/q/Np8/cWor8tgkZNB+Xmb/Xk6YxPMrn8F2mhw/dZY4kepXv+VlpXgxJStlypQpXKtWre+7du1aBT/VeYMAh3YioUuXLid/+umnl5YvXy4HnEL6wJRboyos5aRuhIQ4uqWzFshEG43744lmYgKpKAZr782uxWq0LPPT0qRqdQLc7WItKvW3EBbqPpbD8hP8qm1tM/II9Otu0GgrOwvrjxw5MiqW/erRJH2sCCgCioAioAhkOQQiITdt2rTplRIlSmyDGCSywfocIGTY8I3GNQhuYCNn3MZmddkwvKamZt+yZcsr0RQ1Jp+X5bdYorCx/bhdW0WLw6bvMeJ+5FY3P9dbINNNQaYbjvXPYbe8nJ5Fol/DlYed6pbjw5s3bz59yJAhpxBuQ/ogEJ/HfvA4pkjXhQMm43WIkBKnPOTCHyEiPM/tFEfCxUYSW8ihdnEYyG1h9s+JNzJ5LiydyTnCLm6QMCEs5DuZCVohSLpQ4wpxAYu/s3Mxhra2l/KtebELs2jw4MFyqVJIn0j1q7Ve+lsRUAQUAUVAEcjKCERCbkL4TkETcLcVB5FhkFUekPUduWgQssXF1jjR+E15bZAtuoWbN3JcEZGzyCd1I558L0VemSpm/da8aWsB4o+zhlt/i2cvISIS3/rM+E2ZXYhzrdNzP+GR6NdIyMN+6pqj4lSvXr0mZ1NOookISaA1En344YfnmXSOt7v7BDUvA+35bt265XeKLxcjygTmuas2inweI95ldvkIUeH5Mx06dLhJnguB4dvRLm6QMJlETMiX8OtdPki6MOPmptzr5GCaQVxkByPO+jXMJmpyRUARUAQUAUUgPhCIxvqaJpekEhT+H2gn2Eez9WJCjhzRPRJlCPlAHixNXnJzfHcIUA/kFNuzBWKOLw6G3MoVokI+Lzdo0KCQUzwIQv1wiVY0+tWpvlk13FVTEM1GofJ67K677kosWrRoWMW0atUqgYPtVRs3bnx5GBmJ67nx27dv/7tTHuKjG9Ozt9AmiIbFkbCgBpzOwfdH7eLgveuInI/huZCWUcT9HNJVh4FezalcP+GoHU9R9z6oPp9mYpbzkyYCcc5R7jJUyMPwqDYQl4VH9uzZMxAPbm9yYC1fnPRrBJqpWSgCioAioAgoArFHIJJyE6bpNdjglDO2XZBDvmYd74+MMnrmzJmbMqulkIGWmGfVQ46YEm6ZyFSPYEa28E9/+lMZNm8nIw8twgHRc9bLGqUc8eiFCf0Zt/O+yFJlMBEbDk5916xZc8KufkJicAz1MOW8aPfcb1gk+zUC8rDfamdqvJiRFYTbjqgiA51TsUOGQ1QJbdu2zY/gf4fdc79hcriMPNaj9bjVKQ3nWr6nvLdh5E87xZGJwYSZxcS5yykOXi7eOX78+POQlhEFCxb8gjx7MjEymFM5pbcLl5tZhbCcOXNmYNrOgl20aIWlEpcFCxYMp4AKmIHZ7mQEKTxS/RqkTI2rCCgCioAioAjEKwKRlJvQKuRBDtklBAWy8GNmt1nuu+MelXqQpMnhli3m6chdxcinCnneyRUYvWbNmrXRKV+5S4+zvo7ev0TbhCwlct7fkW2OO+VTs2bNYZADsbjJcObHKY1deCT7NRLysF0dYx0WK7KSDx/a5WrXrh2R9sNuExH6w7IXlIqIm2HYdhNYeRWnionvbAbxAlSDjoQFMrKc3YIrICCFnfKR2+PlvhXyKoFgng+tTdg3nQph2bp164BixYoNkcNxTmVHMTwfzgT+FG/9GsX2ataKgCKgCCgCikBmIBCXclMoDRcTcshFY9F8hJLenEbcESNv9UULUo3v98hVI9w8e7HZ3AI577NPP/30tF3Z4tULb63D0TYNQt47ZhdHwtiQfoA/iyAz+5zi+AzPNv3qs70hRQtbsxFKqbhnKw+zPc0AcxTmg+SLCi2BgVUTE60bgqSzi0s+n8LMJ6FheQnB+w+HOFLeYUjN65CNf9vFYbB/zbNJ1Gmm3XMjjDgHUTMuJr9e2G6Woew5bvF9PltYpEiRf1K2uP9znGw+8/IdjV2aP9GnKXwjMq6kX8Gjou8KaERFQBFQBBQBRSAbIhDPclNAuOsh9zTCsuTf4cpskI5c3KXyLOVvReaawaZvMbc8kbXyUm4XZJSpdvHYOC7E9zHkDpGdGhHHtmnEqcT32rSjATfYRvIZqHKTP6BiollBC3KeweJ47sNf1f8vFoK+kIfzQdPZxWcgpxA+F4Z+p91zU9h6JtxqdgeEXWf4QHQOi+AugzrDQ0sAA/4QmqbBNKER+T0mE8orjdtz6n6SdvyDyStnZ4q4xY3kM+odkT4w6iRdCoYRzTOS7dW8FAFFQBFQBBSBzEAgnuUmv+3HZKoe5vaNkFFsN3n95iPxkG/KYj71LDLTt+T3D+QoOXvs+oGE/A9yxTy7SORTUIgK9XPd5CVOInFv5xuJjeUElZvseiNjWFhCccbs/IVgrrTvqquuyp8mjPpL5BLr4MGDItRu4szEpy7RAj1CxZdbSAMqxSUuCT8VdSaTpAnqwknWeDxbAaGZQL183VaP+vEGDqa/woS6jQnxmpicWfMM8pvslmMSNgKcXdWZQfL0iJuPfk2MZL+Cw26PMvWxIqAIKAKKgCKQrRHICnKTWwdwruQKSEVJ5Jq/ucXz8wyrlg7IGTfyXYjZ/TA/aeSuFLQw+zij84Y1vhyUr1at2rNc4P2Q+Z48azz5Lc6RkDd7cWxgu93zEMJUbvIBWkw0K9TrDINmb3Jyso8qekfBU0MKmokvvWP6j8GBe2H+rb28a8nBcibgKnGRZ82dZ2cQtt/nfMst1md2v8WGksk3Hsa+le/lci5G3AHbxfUTRn6/QnyGMrFGkVdmaFjOsNOxL5771Q9uGkcRUAQUAUVAEYgzBLLs+or80RCNRTuIyshwMBXCITfOk9cRrEfOoKkR76y+PngH680N8y9YI3NPX0EhKlyjMcKLqHA84A7KXAlBihRRkepk2X61YhnN32F7bQq1cuXKlavIuZUm7MSHRZgYsAkjRow4y+DdzsHueth1/vLjjz8eCrVe5nQMyhVoJoZu3LhRbjd1NEfiNtgd9erVK0LZtxL3K3Me/P6Z8Cdo72fbtm3zVFNyA+mBWrVq1YNgyO2yy06cODGgYcOGO9atW3cwlDZRt9PsGnwDoRrN3882bNhwJpR8PNLInStN8RX+EFqm8hCWck2aNInbfvVoiz5WBBQBRUARUATiBYEsvb7inUqulejIBrDthdl+QRZtCpvcYn41AjP7e9jYfQVPYr5kPc6eXIMM9Dsk4xtzeUJUqlSpMgFZ7xm8vf7iVhc0Kknk0Yoyp7nFC/AsKv06dOjQUydPnuy7e/fu/QHqEvdRY0ZWYLg/47nqMQZgIgMwZKAWLVp0/rPPPtsII26DkL+OgXxj3bp177n44oubcPfKvrVr1x4ONfP9+/enVKpUaTdE5C5IxEq3fISUQJaKUod2kKWvzXGpyyaI2X1WIuOUH+m/JZ8uMP2l+AFfAAm4h9/XXHbZZasgG46kySk/0pwEk1UcRhuNadun0i6nuAHCUydajRo1/kberSEpBypUqPBP6v7xzz//3Dme+zVAGzWqIqAIKAKKgCKQ2Qhki/VVLtNGvrsHjYp4Ow0suwjo4kYYGeNpzqgkY5Y/HXfBLdjI/Y08l/nslNyk743nsQnm+MgvBTC7n8iG8Ejy8vLolRf5bgTEZtjKlSttHS/5rUu05abPP/980/Lly8Mihj7bkqnRInbIPZRaX3/99a82b978PjQjIbGVX3/9NQGhOIVzIffTObMtA7Ek4e0ww6rL9xiM+K158+ZtCaWeeOmSS5N+YGdghVd6Ljlqg+lVTSbGVHNcuRkWovCmX/WhmG1R75HUuSf5nCffS5mgjzHxnw/10ia5jRVN1CC0UP0xUTvl1Ra75+LPnF2IW8CjJORnOVoUcd2XTltDny7ke9PIkSNDOhOVWf1q1z4NUwQUAUVAEVAEYoFAdlpf77nnntpsYj6AzDMYLEO6hwRtRlvknlbIGsPlUu177723EvejdEa+GuK3fzAbe5Q03y1evPiCVgXCkI88x0JUxhO+xysv8hhC/NmQmpDuo8msfqVdJ/Au1vqrr75a7tWmrPY8pmQFsAo1a9bs+8cff7xqp06dAgm2TIIEznOc2rJly4tly5bdCRnJy0ASn90ZJoXcOYJmQwTs6mheDtCZc/0MUHNnMmmmIOQPRzD31NQwMG+jnLIQjQvqQmHxnKsZwmH7AX4HScuWLa/EzrIx+bwsaeT8yoEDB7q4tdUrb7H5BIuBaG36OfkZt+ZhTDSITnkw/A6N2Lt2N7rSxmKoZ3tTv3UcVBv1yCOPVH/ggQcCmYNJvzIeTmK+9lJm9Ku1rfpbEVAEFAFFQBHILARCXV/jWW5is/US5IUHkXcGgWMGmcwLW0OWII9vICn/SYufGzlscpDNVtHKoJHpYTZBM4gKBGbC0qVLPR34UGZriEopzMRcr6GwtinUfg1HbsIC6IUVK1b0s9YlO/yONVlJ4DxHlRIlSixn1790jx498jOwPHHFjCnhySefPHH48OGdDOY7EbrXof1ogiB9L4knyG30Tplwu3pFCMAdlFMRDchuNBXwD+9LfeSiID6DIQ59nPI2h6PxuZ0dgdKoLcUNXuqHNt7JoD8QxGsZaZ5Cw/I1+VwwLfPbVqd6yu6EnIVJSkrqNXXq1N/t4slEo9x2tKEMuK7hBfEeODne5EqdWkHQ2qAVGSWH1CBavbCbHMRLq2ivXr2A23+//vLLLwtQZXaiXuf8tjXUfrVru4YpAoqAIqAIKALRQiDc9TVUualbt26nDh06tD2achMySy1khi5YYPRBZghsMmWVJYw+QLvRHzli/uzZs317ZkIOG5eJlAgAACAASURBVImcOAUZMfXMrxAVNlMnIptMxMR+m1f/pm3udkOmFO2Q5yfcfjXkJjAoFFQeNstNnhXNghFiTlYEs6pVqxZHcH6HHf+re/bsWQjzsASE4wxwMskS3n777ZQ33ngjhckwnDQTEf7HYV41XQaw3GQKEenF7/2oHl/LkIElQA5MIYzfylfuQtkD054tN8s7pUsTnBswcKc7xTGHM7n+Qj2Lm+sinixKlSrVz+2GVUveuUgzEVI17M033/zNeBa0rdb6StsJ61e5cuXeBmGRiQbu7cG0JJiso+5z0Va5XiopB9Tov57ET8aV33tSDjjdz+8UXgrHZPeCuleHsOTz26+oMMeZ6xu0rUH71YqN/lYEFAFFQBFQBCKJQKTWV6NOQeUmzMflTo+vWI9vhUgMjobchIVMTYjAE2zq9qWeng6FzPjayRLGc0jG9VhdJCGP+LoGQtKlmc5fZchfYpnCRvdEiNpkzMi2+ujbVE3Orl27BuA2+qRT/Ej1qyE3fffddwtDkYetcpNTfbNqeFyQFQM8vF61QHsxhkF5KZ/TCNKJHIDKv2/fvtObN28+u2PHjkSE6bmYUw1YtWpVqvaEQZwH4Vrc100zzqSI5wd2+e/GFGmcHzWf5AMDr8Igbm8QFxj8LHYFDlg7Fk1BL8I+YdL4ugNFCAv1zW+oEKlvXcppjqbkFWveTr9JI+dDBtppdUJpq1FOixYtKnPT/dP8Xsu3AvXaAGGcZyZFTnWScDBrKjs0aGnGGWZ14HMfGqtzkMbFPBtAXx6l/9ZRjvzvu1/tyg2lrX771a48DVMEFAFFQBFQBEJFgAPmVTnXKVcXJEVifbWrh1+5ibV9JXLRz3xvgKz0i7TcxObmaepXBjmlO38DERU7WcJoK/JPGZElkJlE9vL7yYXwP8nQ7oicSB5jMFN/GbOyn/1kgizTF6w+wvvXD9b4ke5XQ24ym5r57VezPGytZ3b6HVdkxQAWrwulICXXQhgqsztfmEG2n/+3Ypa0AoabwZOV3UAkrADpuiM4H/SrCTHK9xiIuZkEU8m7v5fWwcjPOhARuofyAnvJjgw5DS7yaM7EqcbE+Zc1TtC2mgX4UF4wUh4vuh6kPWDG1kTMZsmLAuxnsXtzhUHMgvartZ3yO2hbzXl49KtdcRqmCCgCioAioAj4RiDcDTKn9dWrAj7W11QBnnV5PkJ8FWSqGVYBPtT1NdSNTx9tTa0zm59D/W6iCk5oVe5FdtyJjPa5yIdWYuaFJWddmiG71DJbxUSrX60b2ta6+ehXa5Js+TsuyUooSDup+BgILRi0cpZijGG3GCR/OxUfpKEAGpgeDGRxx+frY6j4IBtvcWakKOZRfYJ4tJBCaEt/tBgfYGu5xq5Qt7a6mUYFUd127NjxavFxzi7NeF4eu4x6yIQzTN4gVt35/wsI530BTd7smmUb5tZW2wSWQLt+9Us+/eSvcRQBRUARUARyBgJu62sQBJzW1yB5uMU1TKPkLKrIElivJNuZRgVZX0M1KffTVkOWQFb61q1d5meQk8JoGwaJM6M0onLhqICfPORQPmRukFiyRLtfzXKTn7rl5DjZhqxIJzIwbQ9PCTlg8PaFXa9m0M8LtcPNh6fYnUhB07MJAfd1v/nxovgrOxmn0UbMJq8HIT0bmBCu97dY8va0oTS3lZfRKr/OBLwOxQkZxJyrG7sxRyFp0uYLPtPZcbjgTIAXUGPMvRryMjwC3oGcCfjF0YgXjX6FZHk6EwhaT42vCCgCioAikL0QiKRTF7f1NdKosV6PZJ0T65BBch6De9zO2h0697O+huKsB5nkfTyyPmQnS5jbasgSyEiBLmFkY3gwss/rmKbv4/9xEI/XsWLZ4BNH0eS8gmy3BYxKBnHCZJe/W7+a5Sa7tBqWHoFsRVakaUJYEJLH2rmlQyBvwwBszeAd6ccFsdtgEeIC2ZjIoN7PRP/YyZ2vNQ8hLNz/cgS7yQWw9uchLk8Rx7drP/FOUbBgwa5OWhnDTTN5tuJbAe3Gk34nKrsYtu4G5WInynyU9k4hr83mNoHDBTfN4jGtZMmSI7dv396vfPnyTwdx02zFKcjvSPcr4+MWXuSubpqD1E/jKgKKgCKgCGR9BCJxDYIVBbf11Ro3Er8Nd74QhpcMWSIUuSmUaxBEQGdtFY+qPyGLfeIkNxmyBBujIh/5vkySdtTA8uNm5KMXKGsEsuBb/L/eCzejX9lk7UjcZMjOpKDXW1jLcOtXs9xkTae/7RHIdmRFmmlMPAZchgt/ZBIUK1asJwTjG4Tp9+1h8R2aFwF/KpqEV9ktaCFMnMlhe1GiOUdUf48zofYgFO8mTT0Iy799l0hEmP/N/CnOjsOstPbaXoAZSlstFznlhgg8QRl5MF+bwt90pEpIAjsPFy7ABItxYD4WbyOPYe/p+wLMIG13ihtKW53yMsKFkApx8duvXvnpc0VAEVAEFIGshQDyhO36GoFW5HVbXyOQv2MWyCCpFyUit5QhUqosEURuot5BL5jO0Fa39dWQJeQaBMdG2DxgA3jKDz/80K9+/foDsaaZs2TJEnEeZPux9qt4QEWeSQKLF2wT+A/M0FZzUqvc5D/bnB0zW5IV6VIGYgFRbSI8j1y0aNFeazfDujvA8K/hOyycswpi04gw+zB5DKOM3JR7LeSlBVqIi4S4VKhQYaGdm2LSPUHZO0jblB2OsZyn+dVaR7ffDPgxTK7DIkijqfkNAjbH6Wb7oG2VHQEIh9zvcorJ+wJty3BrK4SpFfWvwzMhMUKgOhN/PW3fizbnVsjNZLf6R+tZ0Lb6rIfvfvWZn0ZTBBQBRUARiFME0rQP7VnT6nqtr6E0IU1Qf9xpfQ0lz4BpxFHQJATznhCDocgrM1mzf/IjN1Hnm8Al8eeff+5udzm0tR4+2ppufUWuKIwMgRHHnM+sebn9ps/+B9My8UJ2LbLRXNq22hrfqV9pd2HktWcED9L41uRY8/dqq1VusqbX384IZFuyIk0Wv91VqlSZwEQcwcDfZ4VBdgeYdP0hC+9DaD6xPvf7m8kuu++JlvMwqRMQdi8TuxAT8AsrcWHgPilnO3h+MR6zRniVR37FeHHeKi9QiNgJ2lWLyfkwbTvjlTZAW+VczKOUUYM8/+AFNoC/6SYvebUk7FKDkPD7Ul5gLWj/c7RpMs4MBkC+xI1hTD4B2hpK/Tz7NZRMNY0ioAgoAopA7BAwr69CUFhf37XbqAuzhqnrK/JAATYEp7J2B740MczyLySXqwCoR7VKlSrNkUP2EAS5xPGMm9wERmXYkByP3HGMjeD3POSmwG1F49MAWeIR5JtDTnKTXfu57DI/5ucjqdfvXFkxHxOub4x4fvoVuWUC6ca73bNnV64pzLOtVrnJIz99bEEgW5MVaatMPCbjmKNHj45w8gYmu/FEvYK7XEb52SmwG0VyaI3LkF6zuxWVyZKHNPJiuJFJWJTJ+BkmaB8SdpYB3JXwS5j4r9qpLGWnA8LTgonbCJOkc0zGOcYNruwSVOeFei8v1JF2dbILc2ur5If5Vk9M1F7D3/f3kLCGlNneTKTEpZ/URYiJ5N+gQYNCNWrUGE89utEuaV8+6vNfu7IzO8ytrZGoi1u/RiJ/zUMRUAQUAUUgegi4ra+RLtW6vkY6/1DyE3Mr7kB7hg3G0mZZwk5uStNKDGdjdpBYo7itr6G01SxLCIkLsr5CAPsgl/yJus1BO7IySL8igz1E23dwqfXHoWDop61WuSmUcnJ6mmxPVqSDZRJUq1btWTQow51sIBnc5VAD9oM4yK3tnwcdGGnM/rly5co9ZWf2ZeRnTEDKuoGJVYDdjA8p8zqE/CuZZEKaUk3YhKCgdWnMBMwjcZi8y+zqJK7vIBcpHNj/j91zuzCbtubipfUQcStCVsaaNTWoNa+gHrcIISLddeyqNOH/SUa+8rIjbDKXdx5iN2pCmsMAu2JjEmbT1qjUw65fwXE5hYWsUo5KRTVTRUARUARyMAJB1tcIweS4vkYo/5CzkUPyaHgeRn4YbZUlzHIT8skfmJqPMIiKUaDN+hpyWw1Zws5s3219FY9kbBRPo4pjkKWK+ZGbTPWvi/wi8s34EED01VY7uSmEsnJ8khxBVqSXxQ0fA3ocmomBCJGHnXqeCXMfcS6pWLHiM1OnTv3dKZ5dOIOyBpOlA5qIMXbPrWFCcPCG0QpWfzUTrC1pD1D210y6XBCUhX6FXXYGxqDCfAnNzA5rGW6/pa2U24SvaH5et7PxlPSiLkbD8jfqtcOsxUF1epeYsWEOtpg6iK3nf8Xu1a3MWD0Lp1+D1tncr/TtOb6L/PZl0LI0viKgCCgCioA7AjhguYi7wVqyrjYJur665+z+FO1DFcrrzTr5L6f11T2H6D9l7X6KOi5ibf/RKkukuS9+DtkkFxusvSA1R+xq5FeWsEsrYWZZwimOEW5eX9nMzQ2BuptnK/i7NYjcJGMCAjaOND1Fk+NVrvm5335F43Mt9brJLDcFKUfj/h8CuXMKGHL7KUSgH6ZKo0Wd6dRuBtUMnk3fsWPHeCZQI6d4duEM+M1M+p/TbBPtojiGUa+FvNBq8VKo7hjJ4cGRI0eG4dWjT9rug0OsjMGUKWZlgQiZkYsQM4Tw6kJUZHeFd0b+eCUqUudw+jUjcu4hQnLF0xxapkGHDx8ehZasBC+3Eby4npFdFlLnmE0Cd6T0qSKgCCgC0UFAhFo22trz3h2FS/1BBQoUOIIr3CG8lwenWSpEVevdtm3bTqzp93HxYt94JSqCfJkyZV6mnl3lfydZgrXetZMiJUu4FmLzEHmpNd9NyB8/2zx2DSpRosQwzO8nBCUqfvtVNnmRr1ooUXHtBt8Pc5zQlObiNoM60wYxXyo+m3QJ8a7OTFPd9men5F12Sr6gDY5ttTMDw2nBixxmu2DyBqkbm3Z3zXE7POIszLGt0a4nuPs274t2XTR/RUARUASyGwJpG3bXmM2sM1urbbO+xj3MmIC1wJy8oJiTU/9U06ht27a9ZJjPswnrZgbmS5awAyEc83nqex0kKrPN581ttWtSaphZbnKMpA8CIZDjyIqgYz0o5oaYn8NT1vTxfFBMDsVxtqQRmqNnrM4ErG2FdNkesEdtOhhtwWPiTID8mvIeq8Ru1WwrDvH829rWzK6rQVzsHCdkdl20PEVAEVAEsioCBkFhhz2DA5vMbpPb+prZdQlaHpuOEzloP0g8eaKNegxtSxt+P2o4JrLKTW5t9bu+kkeWcUzkJDdZcbaTm6xx9HdwBHIkWRGYeMGJC74RHCjvy86Ll0bA0y2dFfp4c8GHaZpfN82urouZiHK7+5VoUsSs7nkm8BSISjfaH1WVuhXfCP0O3K8RKjddNozFCy6po+gyMxpV1zwVAUVAEYgFAnHlQj7A+hoLrHyV2aJFi8rcaN9h9+7dr8iVD5y1yMXFkcPM7nzT5KaIuC4WWYIyssuVD6kYYyJ2ORuQHTEDH8jPrCgT+RorsYiUY8mKgC0vGLQCw1F39rFqGew6w+vCH9LE5eVG4uUDm9IreDGMwX7ymF3bzGFOl0Ky23LhAkx2YVqx8/Iw6UZzVuUHrzzj+bmPfs206qftXkXtMrJMa4gWpAgoAopAZBGIy8t5g66vkYUksrmxrj8tZ2dxRvR3PHwes16UKG1FZmpGqYXDuRTSLEuQl+9+JV2mXaYdtF9FbuJcVCe7u+ki20s5M7ccTVaky4WwoCkYhGlTfzQsp3wMg7ykeYJ4eRiUcnv7uTRhV3YJSsqt9QxY8f6UelGjnF/hENdYJ5fJTuUxKaf88MMP/erXrz8Qk6s5dnewGGnZ7ZBb7NvB6OvyPcbLZh3kJAkV7gy8XfSkfau4F2WBU1nm8Hvuuac2GqcHOIg4mPDcRlvRorxI+BQ0Ub0EJymTMqbwXUneU/3kHedxMvRrrOtr7VcWibc4qLkl1vXS8hUBRUARyCwE3NbXzKqDXTlp518Dra92+cRLGOtNPtaYidQnD+u/yDjipUucDF1jlSXCkZsMWQJ56VUsNFrYyU12mEAeHuecyh7S7CZNPSw6/m0XzymMttzMs+KsobMkjtP6Gkq/WuSmc0510PDQEcjxZEWgE1/juDUcyMWR/fzevI6t5e2QgD4k/4mJ8wkuiN+1087IwMcTyUgm/1PE9a0WZCLVYGLeDBF4QTxJQYLe4v/1Xl1NW0rRlls4ePYk9cvNxH4AcrHBK508h1hdQpoHUWEO4ueFCSc7BqiH/8GzoUz0jyQudRoNXhMJb0ZZZQmf5qeMeI+T1tZHadMUcNscL/U1+pWxJheBHuDOoLnc0rsnXuqn9VAEFAFFIFIIGASFNac877zvnNbXSJUXNB+E9TbUq3WaYxnHqxCC5hur+EJUkDHGYvY1AS9ZV0NajhlrPUL+i9SrFG19gjXxQltDlZvY4HyODdXV5DnPb7+C91/ZkD2CA4AFbOQ+n3afm29SIHVFVumKDDXEDmOT3NSKtldg8/rJcOUmu3I0LHQElKykYScXC6EBGZCUlNTL6X4VeYGiuWjHRCvDi2oN7oLfR2h8iJ2Co5CR18nKlox07NixMVqJhkEFel4Sg6nT6wil+/h/HC+L170mUJpf9L7U5VvKbIMmZIvsXPCC2M3lTySfs89uuPAyqEW8LpTRhzjpfI63bt36z2iLKrFwlJG2UqfvyPdyTMqkzUJcbgeT0twv86pd3lktrHPnzon79u3r5tWvsWrXjTfeWJGxdwf1q+jVr7Gqo5arCCgCikAQBKzrKwLje6xFXudJgxQRdlxjfUWwX43gOy/sDOMgA0OjgunXRHGaI1VCizEJbcooLDN68PNb1v7rkA1G0B9HzVUOKjexXqUgO/wMfkX8rq9CVCj/tDjxYYw8yGbdBmSplQGgk7Opk3ft2jVg9erVJ+3SmfsV+WaV3/XVTW6yK0fDQkdAyYoJO7Gj5Gc//KL3NgiLvEB5abZncpUU8yoEernhPt25Dyb2VUzCTmg0xnOfyy677kBr0Z20X/CC+9buuV0YL5HCmIANQtMxgP/zUIdxTPTps2fPTraLTz1asCsgHjzGiAcPOf/AC2YQE7uPtI3638q3Emn3sIMy2zg416lTp5q8qJ4gnpCcs+a8Rd1Lmh6QMTkwJi75ruZl8TKk7TbCthtxxb6T9hUn7DW7umXFMD/9Gut2ufVrrOum5SsCioAi4IaAn/XVLX1mPrOur5lZdrTKko25/fv3T4QMTEY22WqUg7zyN9b4TsgSd1tlCWtd/MpNyA0FzLKEn/WVTdr7SZOCyf1bQiiQW/o4aUes9TJ+U05/CMgHELE1dnHc+tVtfXWTm+zK0bDwEIhLstKoUaPSCN1NIQlJaAcKMZH28/92WPFympt6FiRaH/GIUaRIkafJfy3fCpS9ARIyTy6VdCsTMlEAMtEDgf0AOwDTbeLmYuJNgrEP9crLnBaycC9Y7IQgfZ5GWEbzfBrE4sLZBSmbenaHMB20lg1haQbBqWUmEWhCqhC/vRAX6nua/MqQX3f+piMq/M5NnacSt79B0HiJ3QcB2kedGlvbKoQFcpX/gw8+mGnT/oRY9qtdffyE+ehXP9lkShxzv1LgHnauZrETdiDahWfFfo02Jpq/IhCvCMR6vmJqWxVN/S3gk+R3fY0llm7rayzrZS07aL+KPAH+YzA3fxnzqtRLFc1tZX2vhPz1j0WLFu2VZ3ayhFEHH3JTBlnCKM9JbhJZA5nmnCFPcMniUMbNS0HWNPJoDkmqBtn5lxWvoP0aQG6yFhXW76D9GlZhcZw4rshKvXr1WpcuXfpZBOE6HCw/g0lWIkQhH8z/9ObNm8/u3LkzHwNv/sGDB/snJydf2NWPBL6RGojk05QXwJ0w+XHWMwVMjjI8G4C5VK8AdU4lOYZ5lvUFI7ekgsndx44dG7d06dLddvkyYfsS5yOr1y6vFwzppJ6fQFS+k3z5LarbAYaWxa6t1heMpItlv9rhEUqYXVtDySez0mSGQJAd+jWz+kPLUQRijUAs52usNlLCxdzP+hpuGeGmD6VfRY6AJKTb+LS2VdZ7NjT7sQEqznZSP1ZZwq/cZJUlrG22rq/WjU/qWxfZqTmy0yvWtE6/SSMOjwaKZYk1jrWt1uduv73kJre0QZ6F0q9B8s9qceOCrEBMShQvXvw9iMmVvXv3LtysWbMENCkZsDx8+HACrDplxowZZ+WOlFWrVo3JEClAQLRUfDDhglWrVu3JRE9+55133jNXiQl0PXVPggDM8FtVtCuXktdVhnZEVLcQtufY+ThJ+EYfplcZbDa9VLfU7SRq4INM9BeMevICGcIZnVeNnRYJt2urobqFYC6KRb/6xTVoPLu2Bs0jFvEjbWoRq/kaC+y0TEUgqyMQq/nqtr7GO6Y4xrkIK4heWCXs97G+xqQ5ofYrssl4s0m5W1vlvAhywEZIwtdpjRRZYjqyxzo2QMsS5mlSjjzQhPgNrFYfVtCM9RVSUgy55kcz7sgek0qVKtVv2rRpKdZ0Dr9zkWYi53SHmS1Z3NrqkE+6YC+5iXrbHhXwk7cRJ9R+DVceDlLHWMSNOVmpU6dOFQbhCph1qaeeeio/E8ATh19++SWBuCf27t274PPPP+9EAt9eIYIcTg738BSTtBV1a43WY7TZdbHYUKKhmO909sQOAPAZCVmbIvajaZP/ASZGIVS4w41DcXbpjLA0zx3dZJfE61CceDDjM5kXzEbKSHUmwAtL7lK5Du2MeAbJ8LG2tWXLlr2o22AwLJgZ/ZqhQlEMsLY1ikVFPOtwD7Fm9nyNOACaoSKQgxDI7PkaZH2N125IW1/vpX4TWC93xmM9w+nXAwcO7IIQdECWWOejrbkQ0OVqgrGkuU2cusjFxVh6iAdQOXyf4WOWmyirCLLEYDvtRoaEBCDniJfV5vx7zpCbyO9OyNUBzu5+apfGLow0TyGzfG0iWeKGWUhTyP3qJTdJPXR9teuNyITFlKyUKVOmcK1atb7v2rVrFfxU5w3SJLQTCV26dDn5008/vbR8+XI5GO74CcftK+pLW3e+joVZHqBJKYbQ3psdmtVoWeanPU7VdAS420XsRUvIHSdM2l8gEIloZp4j77z8TnU36GQCZq4OZbYmbXUmbG03N83Em0LdhqPFSnVTKBNQDtXz/Q4b0tVO7gaNtpL/+iNHjox67LHHqt1///25/WIl8YL0a5B8Ix3XoV8jXUxU85N+ZdG5hcXBl3vQzJqvUW20Zq4I5BAEMmu+hrO+xlNXiMUCG6CPG+srdfO9CZqZ7Qi3X1mXT23ZsuVlXBRvc2ur0a/Eacq3IFYV/QzTdpElkD1KOZ1PNeQmZIZCyBLDDFnCDSfWo9tEWwOxmWasr5CjtZRzhTgZcktrfsZG6ZVoxRqTz8sSHol+DcVNs66vfnvMX7yYkpXmzZtPZxf/3uHDh1/kr7rpY+GpQg6EnUAwbsPh+2Xmp2KvaL4okXMwIV+oF4kLf5jcbZnwrZh4wznMdkRYOiSjs1/PFmIKhlD5PBN/KhN/rtFW2pnqH50zMuOtZ2SsmJJHWXCYzwvhcev5FSMuuw9dIBs/sKO0wgiTlwgvjdOkWWhMQOJkuADTiM/u2qJrr732ppEjR3qryayV5Ldbv9pEj2mQtV9jWpkwCvfTr9Gcr2FUXZMqAoqADQLRnK+RXF9tqp7pQbK+sj4/htnQ8zNnztyU6RUIUGAk+rVDhw5nkQXuR7vylrlop35lnRvFBud44v9qxBezcGSP2Wyc/mhXfTAdjpxQDdLwIM9diR9x27ARWhN5KN0F05T7LzQkZ5Hl+ojcZFeOOUzO2RB/JGX2JPx8JPpV5CZkryAXh2eopq6vGSAJHBAzslK9evWaFStW/AHGXKBo0aKBK24kwAQqYezYseuYRPVF+4BQ3Z7BWldUlfgInxOpF49cFognik4I7MLwbe9T8WpEWv16s5v9CVqWj0XQJU0RiMFsl7R5mYBdmfS5ypcv/yImcOONiWik4QVTgBfPRAjLSPN5EnOeaURlOC6K+7PrMBL3zH2t98lwcKw+bbzB/MIQG0/UuM/YqHFzU+61aEJaQH4u4qW1vEKFCguXLFlSNdL96oJNXDyy9mtcVCr0Smi/ho6dplQE4gKBrLa+xhC0C+srREU2AtPdMRbDetkWHat+FS0LcsMTEJORporlRYaZ5CZLIBd85iU3iVk1ZKAOeU8xN5p1tTqbs7ciy/0/5LoLcpMtMGmByErj2AQeJ6TKkJvC6VdDbtq2bVsfu0u/3eri8EzXVwdgvIJjRlauuuqqCffdd1/3J598MpD5l7VBDPKEtm3bivvdWQzozQjO7zoxfWvaoL8p53KIUEcIltw5EhJhkTKxy+wAuWjIRHwWYb8PRORfZh/nRr24TLIOk/0JzL9enDVr1kYJFy8WtLmaVf0qh9OqVKkygfbLxU3pLn6EVJQRhwTk05dnx3nBJFHmg+YXT4MGDQrxIhwFKREPYBd2QcT7B3HfsaufCb/UCYjb4puwM72F/6/AtC8krYqRp/QrBPE4WpZmHBz73lRW3P5r7lfBOW4r6r9i2q/+sdKYikDcIJAV19fMBs9ufc3sOgQtL5b9KlYXmLQvN99X4keWcJObIAMtweBSNoEnW7GgvMms/wMgHiLfpZOb7NZX6vII8tnPyFV7rXKTNW8/v61yk580AePo+hoAsEDnCQLk6xkVtt0Rth4WUZFCGJwi1ObBnnIXasLR0SIqUhYE4XvKexv1p9zDEvIHLxfvUN/nEchHFCxY8Avy7MnEMLs/y8Ukfgi16J24cu5lEBUpEKL0JaTscrkgyVwBuZl1+/btfdiFGIg2pLTxTHb9CZP6/t2Y4HJokAm9HlXwrUa8mjVrDkPjI97VLhAVeRFR1jkPoiJZnCPvZdRtOP9XwAwsLKIiGUq/8pLLTz3vMOoY73/N/Up/Xh/v9fVRP+1XHyBpFEUg3hDIiutrgVatCAAAIABJREFUJmLouL5mYh1CKiqW/Yp8MA155VEqfmGT248s4SQ3yb0tyDj17IiKkBjkoyUGURGw3NbXtHO1xYhWxU5uCgq2ndwUNA8f8XV99QGSESVWZCUfu/DlateuHaCqzlHRCiQyia51jhG5J5Ch7xD+F6BxCIuwyO3xct8KeZVAMM+H5sO4Ib4aO/TPo3n5nucj7Fz1Ye41kR2HJ62tEsLC4fcBmL8NEbWtePWCbIjd6CDqfcwcX1wqs/vQRPykQ0oe4Nkiq0aGtD0hQKmH1Hx+8rHz8qes2K8+2+cZzehX+q8ML9wxovHyTBT/EXJ8v8Z/F2kNFYELCGTZ9TXafYhQ67m+RrsOYeQf034VEzksN2azrnUwt8GPLGGVm9jMu468GrMR+pwVD9m4hai0J81/rc/s1lcxVee8UV/W3GpucpM1L6ffbnKTU5oww3V99QFgTMzAxO0e5xvWcb6hsI86ekZZu3ZtQq9evXZgm/hXz8iRi1CPXf9GkI1/h5sl5lmlmGS9IBW/M+m2MolnQV6st8mnK4Y4dxB3FbsIGVwr8qwg326SgPq9xJ90RMXICJKUSLw+vBi2U366W+d5dgXfguSfznGBW1vRFv2JOv0Tz2QF3OL5fRajfvVbPc940q/g1wHS9xn9mWrGlxU/0ejX7t27b/zkk0/qZEU8tM6KQDwjkE3W14hCzMZcLrQSbci0tJ/1NaKFRyizaLyHQ5GbWM/EY9r/A9NU8yz5uMkSluaL3HQz8sYvfG1lJ/K/E5nkS7673KAz1lfi1Oe7lnSveclNbvmltaMQbXmMdftVftvKTV55BH0ejX7NjutrTDQraEHOM9gjRpQQ8hP4hnyGJOjgSou/HiKwmhefaCXC+jBp81D9/eQld5r42olnYv6HyXybU8Hh4AHpy0P3XBOEqEg9eHlEtA9i1K9OkAYO58V5CE3TNNnxob/uB5+wzR4DVyICCaLRr4yviI6VCDRTs1AEsgUC2WR9jVhf8O4tCyZPsr5uZU17I1yBNmIVC5hRNN7DocgJCPPvIHuEZJ6NKZlrq5E9SrI2JHoRFclE5CbqUp1/5TqHk64Z+3gom7xCVCBTmUZUpFrR6NfsuL7GRHjCXGkfB8XyizAaCc7Cbe6Sz6Yglwb5GLt+onwq6kxefk1QWU7yk8AaRw5lg8MVO3fuvK9IkSLn8Iz2Ci/U25g0r4nq1Brf/JuzMwkIw0U5q/MfI1wOylerVu1ZPGLcz2T+A5OwEeSfwQxM4mP+NQrcOvPv9SJIY3a2RMJR88qFSsOxR13nVr7Ns3z0a2I26FebpoUV9ImYH4BpL76ve/VrWCVFJ3E0+rUAByg7s3ht+PHHH7+LkKeV6LRec1UEsgACYr7C52J2vC/bv39/AX0P/++hbFlfd+zYcb+YSWeBbnSrYjTewyHJTWI+zlq2h/MmP0mFnWQJc2NYA69AJCnJ+tfOSW5iTRjLmtCLfF0d1KTJTTfStx8ipwwLd3015CYcBD1kvsDbrTMi+Czi/Urf7I5g/eIiq5iQFVp+Bga9Nzk5Oalu3bphA4Ggk8IZmC/DziiEDORgOYexcjFZetjZXzplKZcMsbD0Y1DNJ4/+RjzyGc9OUBsm4eWci2lXrly5MXbnViS+kAsm90QWqY/kIJqcj6hUqdKz+EMfwe9DEoe6DSW/UeSVjrBwuF52RlZib7qdv/+G+IznBbLu8OHDFH2+KF7BghIVKe4MqvZ99GulrN6v0phIftKcFDwFEXzQq18jWW6E8op4v0Ky32DsL4AkN4JcP3nxxReXYCE7zY7aedkBhUSvFyLD3DgVoTZoNopAtkCA93QxCEkN3tP1mCcVmTP5pWH8f4qNrg38+yluZndnh/U11A5zWl9DzS9O0kX8PRyq3MQ7eirjbhS49HWSJcxnYFnzGvI+byfncAVLO7kJAtKUNeBbnjkSFaNfyeu/1P0MWpDRkl8466ud3JTJ/R03/ZrJ7Q5UXMRMsQKVSmRxwYdHq+7dunULizAxYUQg/50X90yE8qi6LnZro5sLPms62RUg7Aom/Gi7iWm44KNNQiSegAC8avYIZs6Pu1Eqo+LusHv37lci4boYPM8gQI6iXket9Xb5nc4FHy+vK3BJHZZHsHjpV5c2h/wIgnmxV7+GnHlkE0alX8UlNYT6upUrV/5gU928zOfKCF5i21wL4auIxOG3vKu2CIlJSkpaZ70jyCYfDVIEsjQCrI35ud+hBqS+EQ25mL/5hdCzzp3EBDmZ9WE9WvWtPMtgUpnd1tcgHem1vgbJK07iRuU9HK7cJPej8D4uz5isjLbkwv0r1msQ/LguZkw/z5iegpZEztpmGM/SD+Z+xZrF8cqHIOur25UPmdD3UelXj/U1E5oVnSJiRlbq1atXo2TJkmtgxAUwVQq5dfj8Ps+lkOujfSmknwrK5EXIznC5kZFW3OExKfuwK7BULoV0yzPI5UaU+zQvjVpc+Pj3cC6FpMy7qd/NuAj046jA9nKj5cuXV8lu/erWT2E8i9fLyDKtX4Ng17lz50QIeZKQGMh0A+ZZKolhoTwB6d8oO8poazdCsuP6Urcgbda4OQMB8X6EprEm7165zLgm4znVjT3rBMP8XLKMbdbJZIJcbwE3o5Ud11ev0RBkffXKKw6eZ9p7OA23UC7TljXsG8zXm7/55pu/mTEzLpj2eykk7/WHST8a868MG1jWfmUzN9Bl2k6XQjLvPC/TjsI4yLR+jULdY5plzMiKtPr6669/tXnz5veNGDHiolBQwH2vsO0UXvD3IySnuwWegViS8HbsRtXlewyh5i1Mm7aEUk6QNGhY2rC41GRxmWpOJxOMCdmKyTuc3bAjXnnyEihCvUcat9WT76Wkf4yJ9/zMmTM3GelloaNtE/mdB5LxhFu+5FGWPOazI/e4zUshN6RnEs/EBvV7djhW2OUl/sxZRG8hXknashytj7g8PmOOS58u5HvTyJEjQ9KaSb/SrhN4yWj91VdfLTfnHat+tcMiEmFO/RqJvIPkEet+DVJXy3iIuKAXal00nSLghkBmE+7suL464Rt0fXXKJ9bhft7D8dKvmI4PQQYQ8/u6aFbS3T4vOLK2ybUJ1ZBhHuSnI9GWNR2ZaQrflV5yE9Y4lTiP25l4Q/z0ldP6KnITdR/LNRDjFy9evMdPXuHE8dOv0ZSbwql7vKSNKVkBhELNmjX7/vHHH6/aqVOnQIItasAE0p3ctGnTS2XLlt2JwJ6XCSM+uzNMCrlzpHDhwiJgV2fX6gBC8NxoDlAG5m2UU5ZJOo1JUYxds97skH1jPgjvZwC0bNnySmyPG5NP6l0nstgdOHCgi9FW8s4rE47JO6FEiRJXE36MuB855c0LvTVkpTo41MYMp5/5wiVI38OQkDWzZ89eRbwpmOAMh4QclryMiUYbypP2O+5yedfuQLTRVuqxjoNqox555JHqDzzwQCCPc0a//vTTTy+sWLGin1NbJDyz+9WtLuE8s/YreWUYw+Hk75Q21H4NZ7766Ven+gYJD8eEJkg5GlcRsEEgXkwZs+X6asY7nPXVpt9iEuT3PWyqXFj9ynpzasuWLS+GIzeJLIHsUYoLH2ei+RjI+ZF/cWXBhUPdbLZegrzwIHJQIWSJYYYsYQcwssdo5JGJmLM385CbclPuZPLrT36+zzJa11ez3GSus13dwgnz269WuSkrrK/h4BJq2liTlQTxCY+gvRwGXLpHjx75UYV7tgVPJwmciTjxyy+/LPj88887keAcWoEmCNL38v8EuVXVKRNuV68IAbiDcirC5HejqWDcz9nnFD/UcCbg7UzW5ky+82gKRoXqYQJcxDPX1xxM+9qoS1pbH4B4FIIIDccUbps8Y6djUqlSpfrZHciXg2kQtm5gM1h2J9hRGIDtfy+x/Rc1K6Y1vdDMpF50meZVZjJ4bqQMcae8hhfEe+DkePBNTOBoaxujrRCtXpilDeKlVRRf7sAdWr/6xT+z+tVvfUKJ53cMh5K3kUZeoIyndqH2a6TmazhtCCetLAxOh5Mh2RsY63IO4OdwytC0OQcB3nMVxEkE7z7R4Medk4hIzVe/76bMfA9b15ysNOqCvoetbQu1X9nEOXXo0KHtyCZ3slm5LpR+xWLlNzY2ZTO2h9Qr7dzHYOSH1IutkVlq8R7tQpw+bK4WwZHQYOL2sbZBfsvBe/40ZKP5dfntJjch3/RHjpjPhqqYRAb+OMlNgTNySRC0X61jONR+tcrDLlXMso9iTlYEuapVqxZHcH4HYfrqnj17FkLNmYBwnAFUJlnC22+/nfLGG2+kMBmGYyI0zhxJbjKFiPRi8djPxHktQwaWAFi62MDfyrcSj/agoZgtN6R6pfN6LpOXNvXkhVCMvH/0UxeXPHMxSSdCqoYZdqGyUwBRe468T/LdaOTfsWPHOpCXP0NI5CJI8yd1R2LXrl0DDPeN0nYi9KtcuXJvDnEOQhPyPLanfwL39ghzJXl2ksX3IC+ZF1zqlvqikrZSj2S5yVbiMgHv53eKaHrQYo2lP6qG069u5ds9i1a/2pUV6bCgY9hP+fICNfqVflnH3JnL4uB64ZVdvxplRWq++ql7ZsUx3L6CTT2+4rs/9VA//x9m0V3PXFgXjU2NzGqflhMeAkJKcCtfl3djPXIqIbkhOMlN29sYH3HtfjtS8zXouyla72G3d1N4vRzd1KG8h91qFEq/or1YjSxxK2N2MOvydBH8A/aryBLTeS+uEy0I9UuVm5gbf2Y+7CXfPWxSPoHc0JdnqRdbp5GEBsgl0y3tycWzSUJqeLf+4SY3scl0PVYXSaxbM9wwcXvmJDe5pfHzLJR+dRvDofSrnTzsp+5ZKU5ckBUDsIYNG7aAhY9hUF7K5zSCdCKTIP++fftOb968+Sy+0hMRuuaichywatUqR+1Ju3btrmEi3Y0APs6vmg9GX4WFpz3ySSpxYeLNYgIdCNqZ5NNUdi3QXIwTUzOIxl+ob35RlwbNy4jPRJXzIQNld4L/85D/GEjJy7IDbG0rOxXDwO8f5oP2hPUFj4+s51TEkxhnTibx7Czt3ka+GyCM8wxSRLpe1OETXhC2971Y2yr1Jc19aKzOQRoXk98ANEK9ItWvoeAXqX4Npexw0lj7NWheeASpSt/eQroka7965WXXr3ZpYtmvdvWJRphoHVng6zH/6oJjBSmDuZKXxeFAGon5IZT3RDTqGuk8WVBLs+HQlHduEu+UQrR/P/9vZ8NDzpGlO6cW6bJjlZ/R37RXtCXlpR60W96PO4SU8PN7Nw1zrOrtp9xIzddQ3k2Reg/7fTf5wSMz4oTzHvZbvyD9iiB8QmQJxnI//orb32nIFalnef30q1WWsPTrn8nmW+QM8eiVSlSMj50sIbIC75ftyDFfWPvVLDch85QxZAlznkH+95KbguQlccPpV2tbncoO0q9u8rBT/lktPK7IigFe7dq1S7EoXgthqMxgLiyLJP9vZXdzBQtlih+QGZwFSNcdwfmgDaN3zSKUgSjlMfl7iBBjLc8Q4MMhLOQhJmUXk39tKn/hBSMNMbeV57NZWPuJuZc8Y/Ftxg5KLbN2x/qCAeNvISQZXjAkl0P34k+9v3kn3qmtphfMLNkxgbAMNXsJiUS/unacx8NQ+tUjy6g+DjqGwxUInPrVq5Gx7lev+kXjeXYWavEk1bp06dLP8l6oU79+/TNovRPZxMiH+W3qphEX2ObjXTSfy3j7c5fH9mjgG+08czIJjcR8DfpuMvdnKO/hUN9N0R5HdvmH+x62y9NPmN9+TZMlqiFTzWBtv7DxKWW49audLGHUy9j4RG47S54ZNj6Jl06WoA5FKH8A75GRbnITeZ0nnpzdTSdL+MHDiEOb8liJmVdb7fIPt19DHcN++9WuztkpLC7JSiQBRoBuwaIrZynGYKN5MGjeflR8mF9djabjHhb08Qjnu+zKMEyj2HV4y+65V5hMOIjXp3wn4gljnl18o60828ZLYBV1+okdlEGikbFTybupbo380zyI9TDsUZ3aKkQFolRcSBEvou78/wX1/NaunvEQ5qdf46GeUge3MWzXr6GYMjr1a7xgkFXqkZXNhSAmJdBsv8d77MrevXsXxvmJrTkuF8fKpW4pM2bMOIsGYgS7emPitX/UvC+6PeP2bvJTsp/3cFZ4N0XqPewHs0jEod/6Y/3xAdYryWxCTIQUTE67WDE1e2u/Crk3ZAlr+V4m5YbpMTJJAf5PlSXIfwhnX75lA7qlm9xE3jNIt540z1rL9fM7jaiMM0ze7NJY22qOE6l+zQpj2A6beArL9mRFwOZA+f9n7zzArKquvj90EZBupBcpSouIFQWjgiDlMwWDgBiNGkV6e6lRhlGkF1E0WBIjgoglRl4UJSIqFoiVKqD0jhBpIiB+vzXvPZMzZ06/5869M7PmeeaZOefsvfbe/93W2mvttc7BFGso0vWnToy+n06xXp5C2n+dOxl3IPl/z2SSC2K2wYwM2jD+f2BROIHWI5ubZR9ly6nERCb638h/t/nuiTWv0VaEhRak3cFE38T/4howmzMBt0txYj9qptuuXbtrMSmqDr3Kdm3lxOE31K0SJl9PMikvhYFpjoA021q3VH229iunQ67OBJLRDvMYZpNZGZWTCLHjxcyyr12/JqOd+bXMvHARG+ccHzKXK/br168E64ZnV3BvLo20x3bv3p3l6MQzU4ISwJSo44QEYetFNlX2V696Rv09N50JRF136GXdY61bt+5pDnSncNdkiuGsR8oz+pV/P2PvvxphZSy8QbZg0V7OeoSOeX+FDzmF4HAUehfDMyxy45sMXoJ0P8bDN1HvZ6i3mHA6/uj+6ghNynwoEMKKgTbCQnsY93YM3gwGb6Zb3rA/wqAzgcTDxQZoLnVy52ulLwILJwqHArgxLkRZYxG0XkDQWiNevbCh7+3kZ9xw5yumYPyeDRPa0W6iclLi6G5w4cKFo6h3lvtc1PbNKPMvtPcBhJBsrpFZiLLcNMspJgEhM1iA+pHfVXCz4pIqz7KwMj460lZXN825XV+jXyn3Bn6rIlD1sevXIPWK9evdMKYzoLUpSF5NGwkCKeHitnLlyqUbNGjwRe/evWt169bN222fqeniarxXr17HcUk9i1hXcqk2oT/qkjqh8MZFPBX217ga4CNzfnGXL0018xII+5lxRyQMgvWeLwelj5G8IvvifWa+KeZhdKRbGAQrpDG+6Vl4k3fYY19x4pusvES8fJO1HtZn3V+tiKTec4ESVgR+mQRly5YdyEnCv2HKXw/RJUWZOBJ8sQgmXRII6YzB4IoGgwlvGyjRXA5qx3sx0drlQ2ApBO10tEILlixZssqgweJxI/+XQ3CYJ+9YaLIFwGQhWM0Jhnj7qsOCIDakH5jbSv7zedfJLpATzMoFMCC3IXDInZfCRlsReh7j/QxxccyClenjXDYnyskKgIn510RO/SeEddNstC9V/gbt16jrbe1XxmxmYNNEjOGo6670wiOQ28EDCUb2FGOqR3p6eujgvIzVY4cOHWrPncIPwrf8vzmFeWKNjDSqexT1UhruCCRibUrVddgdibzx1cxLGAKLOVAi31vQkisxo59j5pvY+8+FhxjFoZldzJPMANPsVQPJaxxaZvJN5LlIhBR4lI7wE09iIdDGjm+y4yXi5ZusPaL7qxWR1H4ucMKK0R1I+F2YNFfyO8bLjauRJ7Zo3guD/ih5vrbp2sJMgJZMwjacVp8lgkvVqlXftIt7gi2kTNxtaEgW2tCRV4VIk8GkfpVJ/6k1DRN/PN8OykQXv+csJAsksj3ll6bcB2Wh4LSgAovBfQga68xtZSGZzqXZYRJjxUpXnuXEHfeGEt/lB3NbxX6T8u6k7WOgcQM0LzQEHp7/RHqxLc0Wcd6Ofh5857tf422b2AbTX53BspG5X+3oJmgM2xWl71IAgUQw8JiA1K9WrdqXHGaU5A5b6FZiPpI2YcKE1dwLbBqESG4LZkHqpmnDI5CgtSkl1+HwKKVGTgSDMfArczl83cAaU1JMwhBYMlgPjhi8BDXNFDqkX+EJrmd/Kvbtt9/2twsOLekkoDV3URpC83mDb4JfeRLat8GbZN6hNXgJkmfrV/iK0ghBnIkuWGZFKF6+SfdXK6J557nACivSRXI6wKQbzr2T13H1u9Sl28S+824mUUmY+JlMomx3OhzyZU5AtCIyscXt5/tWwQUGvw/vN8Pw/6+FRqbpF66XX8P98b+Nb9ArCwN7kzCyTPpjLDANYGzvpD5ZbkShOZl8k4xL1jz34oRStD17pK0sPrtZNNZwb2aRU72lraStx/efWGxG8DfLpIuFTUykLkElfJhv04QGODZhAWuD4DXdgWZ+eu3Zr0Eba+5XEVDo15cdhOEcpBM8hnOUpy9SD4F4TKMuv/zyybfeemt/gooFMv+yosCaIIccRzmBbcWF+y+s33lOCZM3m3rpqwQhkOC1KaXW4QRBmCtk5cBALtkjIEi8k5Ox+6yTESYKYRY2xuywhb2qMoexk+A7jiDQvOLGN9H/E+ELdkkjhG8i3yBovmRc5Bdegudi5nvEaE+akecu+JvvEsE36f6aK0MqIYUUaGHFQFROC/j/YtxyPmQ9KUASr4vp00AY/qdxPWy3CXt2DBNcbquKFuc6JuE5TMZlnGS+wbvTTOjeMKfrCaj4L4OQ3CdBGFjCCcQKOelA4GnDxG3BuzMsEguMCK5SN/L2gLHNkLzQuoPnbWZaUjZlTpd7JPxfjMm6gDRr/LSVxaQ5ZXbm4vxYU91asaiNpk73yGW8Zs2alapXr94kaPb1KcR54pVXErj1q1cb3PrVK6/d90SPYbsy9V1qIyBCMIcT9WAIGnNAUY31p4TUmP9/YE1Yy/s1MBzLZs2aVZ3IyXE3Zvr06adYe8Zzv+0J1syUjeoed0OVQCAEEr02pdI6HAiYFEps5SU4sLyHdUK8qN5teFGNaSXSWTdGiTWKV7/CO8jd1xPwMb1FkwKP8Hv4kCnmZkMjg4v9T9vxEm79Gg/fFAZ2r7bGyyOGqVNBy6PCSqzHmRjnsbEPY0OX6N7v8boQzPod/K3GQJxg1l7EM0iMCUhZv2LSl4TxfwPGoaV4eJJTCnEpyLcPqUdZFotLEVKKSBrKt7UFJ/3vEKROwSBs4uSiI3WfZK0fZV6NgFQFejUp83UEnsN+24oKV7x2CN0MoUMZl9WqVeuxrVu3Tj/vvPP64UnqId5NMwehtJZfEJ7t+pU+E5O4LK0UaTIFTz/9Ggaz3BrDYeqmeVIHAcOdL2vALzlRfXLFihWFGZNxV5CLuWkTJ07cghb3YRiVlI7qHndjlUAgBHJrbUqFdTgQMCmU2MpLbNmyZVadOnUexvIkHR7lJ0zNxxqCilFtr36F77iXtO/Ax/wReqO503bc3GTRCvvhJez6NR6+KQzsXm2NikcMU7eCkCf+HSqfoYSAcisb92X8ijbkGbv7IlE1WSYq3jBu4MThCspriYBSir/roL8dAeVNK7PrVG6XLl0msyiIt467nLQbtOtxvu82a0n8tlUi25L3jywO2wwtDhO3HmWKxuWvmIO97VS3gvje3K8s0oXp1//Qx6XBr1CQfg2Lnd9+DUtf8+UPBNCm1MI0dTXOO0pH0aJVq1al9e/ff/3SpUvjV9NEUSGlkXII5ObalOx1OOXA91EhKy8Rc+k7nT2sEIcbg3AKdMiOjEu/FsUU/QX2vjlOYSOC8hJR8U127fDzzqWtfrJrmpAIFA6ZL99mgwEXUyvbi+ep2mjq7Fk1mOU0sSs3/+TFtno2NMUSsMDneo20X3Md8jxZINrYnzkciezAilNXMTHLky7L82QH5sFKJ2ttSsY6nAe7J82JlxD+we0nWf3qVqdEfStIbU0UhmHoRrZRhSk8lfLEVHxigvUypwfvU7f8bgbmq61qBuZvlNqpqa2aMdLkhhmYr3711ypNlR8RSKQZ2Lhx47aUKVNGzcDy48CJo03J3F9zex2OA6akZo3DDMxxz4Gxz29mYI5tVTOwxA5fFVbAVy5PcfG8xbZt2x4sCBfs5XKtn7ai7tQL9i7zzxBQ7BwnuGTL/GQILnaOE7zy2n1P9Bi2K1PfpTYCjDHPC/bYo7/LBfsajRo1irsxesE+bgjzJYFEr02ptA7n1Q4Me8HejW/Kbxfs3dqqF+wTP/ILtLCSbNeKyXBdzGX43eINTF0Xh55cKeUyM8FjODRImjH3EIjXdTF26f2hEYnrYqJZX82F/S9tWq+ui21Ayc+vErw2pdQ6nJf7MVGuiznsnIhpqLouzsuDI4XqXmCFFVF5oqK8mMk0Xtzw+emTvBoUUjzzmNuqQSH99Ha2NCkZjCxBYzgwOJohdxDgBDnyqO6NGzeuV6FCha+4/FoSbz+hG4Lr0Z8JCrlGg0KGhjBfZUzQ2pSS63Be7ziECt9BIaVfscxoRZtL5/egkAkaw3l9uCSt/gVOWBF7bTblgZjurHSJHu/WIUU5MbqPBEXwgjWDv2diQowEOKrAnRcJwLjYzX6RSXAv7oZ3cTfmn24F8a0QtNNxd7sAjz2rjLQIGzfyfzk8lc2TdzAxEsW+EyZFjfg9wiXX1QgnNfhUh3aepl7vm9tK/vN53wkhTeqf7adbt24XoH25DX/oo/lQ2GgrTgce4/0M1J2DaNsPkolv7SmnPrRnyrOcpOCCeQJBpL6zkM2Tj0H7NepGWvuVTeIF+vybRIzhqOuu9MIjkNtR3a+55ponW7dufevYsWPPClNrYjHIGnQMk7J2H3/8sbjrjvsnEYJZ3JVSAp4IJGJtStV12BOMPJDAzEvInIN/mcAePolg1JkaEb634M+VzPE5Zr5JtGbwEKPwbjnc4AdMzS1MvqnsVQN5ZzjcyOSbyHMRASJfgacRfulJDlLb2PFNdrxEvHyTtTt0f7UiktrPBUpYEeaaidGOCZLBBDsYT9dgh/sbJt4QaGyA5lLHYguSAAAgAElEQVRcEL9sve9iR586/AHB4pAPQcXInhnNnkXkBYSCNddff/0v8OLTm//vt6PP94qlS5fuyLf/QWgpRVs70ta11rQSeJIF41liI+w0vrFANKRNtxOwUoI5ZbkOIzJ1M8r8C98eYAF6y0yLjeTXmJWdy/vZslFxSpshAShJkye9AhkbI22tQr9+7rdfrfhG/Wz0K1jfgNBSlU2ij12/Bik31q93Q3MGtDYFyatpI0EgVUyjSrVq1eqLe++9t3b37t0DmYNxgJFGvuMbNmx49MMPPxwWCSouROIxeXMhq58iQCAV9tcImuFKwliH2RskIPN+BPRXDcbeNWMKfjTzEoagQsT6yWaeQKqN4PEYfyQ0wn1mvknyw2uMxPRzGBrVE0YT4VfuJO1XBK9eaW12jG96Ft7kHfbYV5z2VysvES/fZK2H9Vn3VysiqfdcIISVmK/woTD8nzr5+vbTNcLIornoxESrzGL1ValSpV5nsboDrcP3MOjPQMOVQZcJxwQ9wX2R+X7KM6WRk4qJlPs38t+9Y8eOEdbgSkZaU1tbUNcdLKib5OQCDchOTjRYaxbskbQtWrQ4m+COo6n3SHmmbg1I14tFZghpfjLXr127dteiLapO2ZXt2ioLEHWrRAyXJ7t27XopDExzEV4CtjFpya39iiDwChgcTVqFbAo2j2EJIMrY+y19Uc3arzZZXV/JKT6BPfva9atrRv0YCIG2bdtWTeWo7hJzpXz58stZByoNGDCgBOPBs30ElEzr06fPsX379i187733upMhu290TwrRJYDZ8nQmwAHRt9GVqJQMBFJlf83tHrnuuuuqRbUO53bdKa8wUeWnCS9Rt27d0xyATSGS/BSJJG/tV54/Y++/Gt5gLPvi9+a60vfV2Y9G1KhRY9DMmTN/lCj3Yn0BX/FnI515f2W/OsX3o9CTYNOL3Pgmg5cg3Y/x8E3U+xmvgz3dX5MwAgMWme+FFVSHbZiI7VFjjkf6PxAQnzSZaDCvnRF0KjBpVsPQS4T7bHdcKONyJmF3ThkmPf/88zvsykDY6En+U5iOvWD33esdm3ERyniX3ylOApfRVmhtQUhZianZBibqKASHISxMNSj/Jn6r830XJyjzzznnnGthSnaTZhcL1X2kG8q3bEFbYF7OJc8AQ6hxaqvYd4JNOdI9jYamP/+L6dlnXu1K1nc//ZqsulnLdRvDdv2KGd5eKw2vZ6d+9cqn37MjIEIJ86oR60VjvpSXr8yx4my2W5hnKR3VvXbt2uVgOl5iHbti4MCBpTAPS2Pty9HF3333XdqLL7546rnnnjvFPE/H9GtijkQp8sJw00w9G/NbV6rFelaI/w/SH2s40FltHOCkSJXzVDXc1iY/DfGzDueFtSmqddgPZlGkAdPhCBmLatasuY5DhymsT9PYrzcbtK39KkKIwUtYy5e2824YtAYTpX7UkSNHHsF9+S+sfBM8SUmDl4D+/XJ4zPMNbnwTtOeQZg28ycPWcv08C99EORMRkJ5C0yMBt3P8WNtqThBVv+aFMZwDmBR7kZLCCqf+lRAwrmKw1+CUvhQTaS//b0WbIPbQJ/1gyCAtSb7+MPcH0GQ85SePkQbzmNpoEsSUqgY01jKZ/oEQctiNhpTHpBjAJrjfWp5EPKUeZxYtWjTXjYbbN2i0ZrKfD/0LSDdb7i4Y6c1t5ft8Jvcw6iB3TtJYZFoxURuIEGGkRxNSi3Z1jgku1/L+M4Sovvy1RpcUjc5M0g43C2hObWVC/g7TshK0c57YrHLq9IAZtyj61Q0jr29h+tWLZiK/Bx3Dln7dBZM8D0Zsv986OvWrV/5k96tX/RLxXTZvTCMbsz61YF5WkTKYJ6eZU9tEKOHxi1TTzvnFoXnz5m3KlSs3nrY14ecETEgxBLASaOBObNq06TRuz4uxHr/KXB+xcuXK7X7pplI6o/9YsxvRb1WlbvRdUVm/Y0LMl0HmTiq1zasuUczXoGuTuU5h1uGwa5MXFon4Hu86HLZOfvs1xkvUYX+Yw9gfz6Hm44bW0a1f7XgJo65t2rSpCc80lbVQ1sAtNnxTNl6COpSh/BGkz3Djm6DzM+kusfISQTCiTSKwjCOPI99k5dns6Mfbr2HHsN9+tatzfnqXUsIKnmnaVapU6WEElQubNm16klO+YggKxZH8MzfJ7du3F2dwv3bgwIHh69at2+rUEZ06dbqSdLcg4U+02l865Yl3IBp0oXMVE+xmTi0mii2riYEPLagwyOXi/kjRkMjEMy8w1rayCIyByfjL4sWLdxt14t1Q8HgLgSSbS1FjgYHxOA3NHAsM+QZBYymCyud2uFnbKmkMwYzF5W1ojsA0bFBU/WpXB693UfWrVzlRf7f2a1D6YRgCowy7frUrP5n9alefRLwryEztBRdcUJG1oSXMQk3W5NLM5738vxltxIccHJ1KBN7JppmfhdCo5muYtSmqddjv2pTscWSUH8867LcNQfqVw4cjwksgkA+zMvB++tXKS1j69VrWic/gF3IcfNrxEsIrkH6rBOG29quZb4LnqWzwEn4xsabz4pus6b2e4+lXa1udygrSr278sBP9vPY+JYQVBJPynOS9gmByyeDBg0tz2dPW/ODgwYNpnHadmjNnzmkY8rGc6o03A47K/yyY5EFoEvaaNQlOnRKVis9KX+6DYFIhHsfKcsrwtZ+6WGmYngsxcadw32SMoaWQewYIbNM5BTwO/fUGfWw8L+SU5FpOCWZZ6GXZpxp3XbxUt+Q/DlNyAAHpUZe6Zd59kbZSj3UvvfTSK5LWMHlDm3RUBEZOXGrE069u5dt9S1S/2pUV9bugY9hP+X5MLax07PrVSBPVfLWWmcxnNRdKJvqpX3ZeNu+Lar4GXZsStQ67rU2pPJLCrMNu7QnTrwgpn6ER7szf0YZpVMB+FV7iKXiP1RyAnkv9PE3K4QcuI30zG+1FIbHAoC6Z92Td+CaEjWvg+WogCM1xw8TtmxPf5JbHz7cw/eo2hsP0qx0/7KfueSlN0oUVudhZsWLFD5E2K/br168EE8ATPy50ppH22O7du7MudsYmRA8yT2ZSOJom5NalONoj3sJaU58zMOzjwrrz5c5IP4SGT9BQfGIAE2vrbQgIpRBO0o1LcQg1U8Fy2OzZs3OcesY8d/QV8zCvS3Exxm0aC8x6ysh0JsAJq+ulc+p0A/VrZ7SVzX0QdRvNwlaGC7tFw/ar52CIJcitfvVbnzDp/I7hMLSNPEGdCVj7Nar5Gk8b4snLpqcXseMBUPNmQyAvOE7Ij/urdIJ1bcpLQzPoOmxtW9h1GIcYP3DnbBu8SRfu8K72u+eY91e8mR5GwBAPoAOkXsJ4Oznr2b9/fxkOokeLVYi1DfKMdqU5f5ojhIiDojQ3vgn+Zjia3dec7p7Y0Te/c+KbvPIF+R60X61jOGy/WvnhIHXOK2mTKqxUrly5dIMGDb7o3bt3LeJ7eLufMaGKJJnWq1ev4xs3bnwCLzZbYKqLMeCnkySHR5rcdjfIgM1y5yvMEUz7YE4xPkXz8FqQgcFGKLaalzLRH5d8cjKAgHav0VZoF0WVO0HcDYLBFahUj5A2m2thc3kIDu3IW1fuvbi5GyTdDISTdE47Mt07ywRkcerIAufqztdoK/TXHDp06KF77rmnTs+ePQsHabPRr7hCnbV8+XK58O/4k9v96liROD9Y+xVyOcZwnEXYZg/br/HMVz/9alvZgC/VxW1AwDR5lAikhEvq/Lq/mjsqnv01yg6Ph5bfddgoI95+ZV/+4Ztvvnk8Hr5JeAl4j4pyDxfTSccwCBxSloKXGGPwEnY4IaCMgx+ZgsanlWhr4GFmO/RrpoUI9Oxiu9iRznxn3V/NfJPfawKOxF0++O1XK9+UF/ZXl2Yn7FNShRUCkT3FKX6P9PT00MHIunTpIm73enJKkM3LFgMgW6BE0mQG1EsYkjHC4mse86esQIlGeUyyDggKNzDB07HRPORVD04cyqBRyaDOmYGVoNuE/PdgDvbI3LlzNxr5aWdx2jaF5yKYg0mwSscf8exF2tdYEO613l8hU2YgJwSNDfz/BRqYD+0IGROQdI4BMDmFWdyyZcvrMzIyvNVkNoUYQeYQeNpjtvaBOUmy+tWmmpG8curXSIgHIJLsfg1Q1WxJZfxzGFCfE7dGnPjVZ2xnuq9CuEa2PrOOubgWLzfiBSZXBMCw7dB8+R+B3A72mR/3V6dREnR/daKT7Pd+1uFU6Vc0HeLR6yMwa2QXYJq9LR0+oQ48zO2kcVx/ZU9nnZ7B7wojwLTRD9Z+FasQDmf/5BRnztp/Tvur7Bty0GsOgGnNG+Wzn35NJN8UZVuSRStpwgq+vetXq1btSwIQlsTTTOj2YwKVNmHChNUIK03lciRMS2eYfGFcDhNxdYGZsQ9diM+MotKDQbrQbuIKiVj9BsNILUXL8i83sggrE5mUE2nXf/i/N5O+EILKTLHttOaj3D8jyDTA/fD/mC/Wm9PFBJV00gxHW5OBh5+h4hfdnIZybgG/GxF6/mAtw+a5MBO+JZqQNjCIZzHxl1etWvXNJUuW1M5v/WrT9iheFfXq1ygKCUEj1/o1SN1ym9ELUjdNqwjEg0AiBO78uL96YRxkf/WilQLfc20djoNvkj3s37gpbm31lorznqbcVf0VfMEy/nbncHQEmNrGoRO+Cf7lTr6PszlEzcE3iQBD2jIcqLrFq/PcX5l3JeWgF4Elw4lvSsA4yLV+TUDdk0oyacLK5ZdfPvnWW2/tjw1lIPMvK1oIB2kdOnSQ6KnzYLQ3wTi/jLDwtTVdop8RBtpSRhMm2zSvslB7dmGSNEed+bCde1Mm410IXN/yfTeT/T5MyB6bN2/eeju64tEL9WmXnTt3PoHd6GTaL4GbMgM/Gj9MyspyAQs6Q6U86NdA+LkdnDKMNM2aNSvFBvcQi8ZJcHyIdNmCP9mVbXqXOQFxZXo9d1Y68v/FqDJDaVUMmqnSrx7tDvVZHCF49WsowtFnSki/4knlKNqzVjjI+MKmyilhQmNTL32lCOQqAvGYMua3/TUI8F77axBaKZI2IetwvHxTTMioAi9T046XQKMi3kTPUM5F8DNdOZiWANTZBBaDb4LneIQD5hkIIOJJzFaoMfcr/MwQeJhnzbFhjL4Ksr/G7tvY8k250PcJ6VeP/TUXmpWYIpImrGD+tX3WrFnVuVAUd8umT59+Ck3FeO443B83sRAExP84k7EFE0fuzPj6kQvvXDwbRr7XEAyWGZli6sL2TMSDfKvB5ciH7S7MG+lZMKbA+I1CA3NCJl716tXHY/851giAGTs1EXXsKBaUrGCWmM/9Fho/GfdoUOlOorwpeFz7mZOSu1loHvTVEEsiAsntePzxx6vlh34N036PPIVYnG/3068edHL9cyL6FSH7CQRoiVPSCEzKs+mdQEj9mefNCM1r0ECuZW78kOuN1QIVgRRGgMMgTycRnBYvyy/7a5iucNpfw9BKpTyJWIfD8E2iDWStfgjHP0OdeAnzoalcpGc970z6sQaeVr5JXPqyB1R305gY/Qqt/+Vw9CYOdMWTmBF7L9T+asc35Xafp0q/5na780J5xTn5OSWMSRQ/eNr6mcvoS5LRcCbt1UxEOUEI9SOnBTCw42XCiAtBaP0NzcejMrm9CCJgtGHC/z9zOtGQkP8RuXwuXr3kf2iVsaPFt4covxZ/bxNaRhrq009sPe3yeLzLN/3q0c7AnxFC64D1TD/9Gph44jNE3q/t2rXbjKD9J5k/MmYT3wQtQRHI3wjIes+casGe8MdLLrnkp/ywv8bbY+b9NV5aKZA/8nU4LN8EroPhERoYmDjxEmbM2AMvZv/7s7xz4psYvxP4VtoL61i/PgG9MZI23v3VzDd5lZ2A7ynTrwloW2Qkk6JZEfds3G9Yzf0Gz0Hpp6WrVq1KGzRo0DbudPi5a+GHpN80jTkFbsFpwN/9ZrBLx+lyRS6XdeFbU35XoRJ9GjWnNZp8tqzkKcpm1AtzoplWmtTpbH5FnZqGalVirmRpVMxpOc0uRroh0NlKG7KCVoKjRHy9l3ePWWm7PR89evQXnIj/FQ8bJd3S+f2WxH71W0XPdOBYCJvd9iSsBNbzvPrVk2ASEiSiX/v3779+6dKl8atVk4CHFqkIpDIC+Wh/jQRmY39lX13G+mtrTh1JQQkmkoh1OAzfhDajEofM4iwoi2dw4iVsIGlM/hvhLfbZ8U3wHuK4p72ZH7GhkflK+pV0g6jLj/Adm+PdX4Vvgs698GJPQt6WZ3KqSzzvE9Gv+XF/DeRWNp4OMefF/ONnBkVkghKDNU00NFHVzw8d1JAy6eIWVKQsJlwRJntd/t0HLMf9lM+E+n80+R9OaePBA+9KP5H/Ixb3q53o271n8Yi0D5LRr3btCvsO/M5lrPcRsyb667m8KKhI2xPRr4zzSMdK2D7SfIpAfkMgP+yvUfYJ6+537Gmz2WfrsCb3lIO+KOnnFq1ErMNh+AQON+VgNTMAdNAf+CbXLPTTQfaGU/BD1V0T8lH4Juq/l/1VYsGd7ZXe6zv0jtO2vzBG7iatrTWKF40w3xPRr/lxf03KpMUd7R7MwEoIMxqFzEI0d6GzkQtc74YZLEHziDqTgV2BOyB/DJrXml7UmeBwHb9vYKs5RtSZTNRB/D4D/c+t6eVZ7DY5gdiDC+TnrN9FnVmnTp2H8STWkzr+hEe0sdDOdl/FyCOqW3D7E8/XyAKOPanZlO5dCTK5ffv2FUbUe2tZNs+iziyWV/vVpj2hX8X69eJt27b1DIBf6PISnDHyfmV870xwnZW8IlAgEcjr+2sCO22pn/01geXHSzrydTgo3yTmWxy8vYwjoTfNjfHgJTKTmvimTkIHIfIyeJypVlD49iEWIZPh5xyj1Rv7K/zJrdyxPYNH2Seo16/ZV5524pus5Tg9Y0653I1vcsoXx/vI+zU/7q9J0azQqSdhtnevWyfhD+L/+eqrr05x2Ur8fSf8R+4coFHpZPZ+EaZQEThEGIDWIaT5k5w4jBM64t0C18H9OC24SOw7xWWrlT6uhwdzOf9R63u59yKCilyw5x7Pd+L2mAn8AAvSQ9Z7K3IpjjJXUNZWhCQxY2vHInGemSZ5p+FhrJe1HJfnk5g87cmL/erSpkCfjH6l//azoA/PB4KKtL/A92ugQaCJFYHkIpBn99dEw+Znf010HeKgn9R+hT8owvlnV/a1l8xt8MNLWPkmLsV/AK2VCDADrHjIhXmY7dfJ09H6zW5/FedCHJBOEgsGN77JSsvp2Y1vcsoT53vdX30AmCxhJQ1134sw1K73MnzUPw1GPw0f2WdKly5dnYuFIxngDf3kC5NGXPBR3u/RQGS5/A1DR04FkNz7MyHvJ+5JK2hOM3m0EJI/syD8le9z9+3bN75bt24XGOV06tTpSoSIL6x+zQ0XfAg/4wxPYJJHAlDyTuo70bi4xilIDU4uGhuewCTdxo0bx2ArOpx/s8YEQsx2yiosp1FG+Q5/xQXf1dTtARaN3dxZyRELxiGf42vpV6Lj/kidXnZMlGIfzP1q9vCWYtUMUh3t1yBoaVpFIEUQyIv7ay5C57i/5mIdQhWVzH5lL/4T/Irc58gy4fXDSzjxTfAm72NytYaL+hL4OtsP/M/b8D9txOmQ8cFtf0UIXYPwI+EWttrxTVb6Xs92fJNXnhDfdX8NAFpk90YClJmZtHHjxvUqVKjwFYOsJIx70OxZ6QkK+TNBIdckOigkvqubeQU38mpEzI3wEDQa70hQSCZ6oOBGVapUeQzhZZIR1d4oD0HBM7gRC4JEr3cNCmkEcqJPsi7ty2KBFudByhxiaZ9tcCPcINaKul+9cE32d2u/Jrs+cZav/RongJpdEUg2Anltf00iXp7BA5NYtxxFJ6tfxbsoFh33WSxKisLDTLULMB00KCSHkzmCabOv1uWg9SYOVv+GUJPFN+UAxfSCw2rfwbTd6BjfDL5py5YtQ7DgOeYnj0ca3V89AHL6nDRhRSqEb+knW7dufevYsWOzpGenitq9J76IuMA7hjeFdh9//PFycxreV2CQd0LKlhgOR2DUX4Dh/saOjtc70WxgX3kbJlOjSXvGK73ddxFMMMcSDxrpIrX36NGjOvdK/oRg4Cs2jLgSZkI/wuSVKPavGmXQzuLQnIBf/Ulvv/32LruyjXcy8ajDa2g/7rWLFCvpcB3Yi+9folX50MiHZuXXLBYnxE6V/xsjbHUkjXjtWI4At9iiFUqjT9/k9/qMjIxQd6Lc+tWtfcn4Zu3XZNQhijL99Gsi52sUbVAaioAi8F8EEjlfo9xfU6HPZH9lb7wH8/RH5s6duzEV6uRUhyj6FS3FKfijnhwuZosC79SvcicF8/JJYiJl1Asz9vvhAeYjwNgG4QZTie9WB77rdvK48k2kbY8VR33zQamUQ7nP0i+nKWeI8E1OmBjvxdwdfi/DONCNol+Fb4L3GgXvNRxeJ1TcL91fvXrO+3tcUca9ybun2Lp16zsM5u5c7j6nadOmgUzSEB7SiPB7fM+ePY999NFHz1hLWrt27Q9ff/31l+vXr1+Cm+S1DLTrGzZs+JtGjRo1rlGjxs5vv/3Wl2s6MSujrNth3kMJKkz+sueff/4ohKU9TMQZmFudoK6FiRYvEeXHUE9fpnDQOIWQUJ1JU7RBgwZX0bZPoF1MBBWEnsmY1LkKKoIP7RfvXtvAvC1amnc5LchRNnj9+4ILLhjCRf0VgmEsXxEWjAmc6lxE3jSwe3bZsmVvbOCHNFkmX0ZbqediPkmwv3K//OUvAwnEXv1q7edkPTv0a7KqE6pcWUCbNGlyB+OiC/1byKlfDeKJnK+hGqCZFAFFwBGBRM7XqPZXx8rn8gf2vX2tWrVaAkPezdhfqUJKeiyMt1979+79A06JZp577rk/Wdtq16+4wr4PAaASPMwyg29CiGjHXn3CyamR8E2kb8G2cgZe4mODl3DqVvDfxD5UFf6sNf9/auyvHJK+D49TFkFloVNe83v4opPwdwco8ybhZaLoV2gcI9j25/Az6U58k13ddH+1QyX8u0CMZPhinHOKT/jy5csvR3qtNGDAgBIMTufEsS979+5N69OnzzFMoha+99573XntKrWbCV533XXVUGf+lnKqIcnv5CQFYXnBHrtCqVMDmPNeMN8SJTXwPQy0FDcwwNujKXhILrwbZXAiMZzyX5s/f75vDwOchGQQXX6G3EeB7mXU6zYWglLYsKZjCrfFrv7md3IxjXs9fUXoEq0OmpgRTOpBM2fO/NGaV4KL8TONMtZThrgF/IrF6kvSXY12xTb2irWtBJsahH3rKN6Xyo1+tbYhkc/WtiayrKhpywJKX3Yy+hUh/hXG9lG/5eT2fPVbL02nCCgCORHI7fkaZH/NWdvUeBPbX3tQm8lybzM1apW9FvH0K3zEdg49b4aXWO2jrYUQTMQsfAJ5xMKiGhqZw/BE56K9yHE5Xmpp5pv2799fBl5itI0ZuS2s8Dm/oZzW8E0/G3wT9G5GYNnvJBjZESJPP/a5T7hf/Inx3Udb7UhlvfPimySh7q+uEMb1MenCitS+du3a5WCcX4KZvmLgwIGlUHOmwUTlaNh3332X9uKLL5567rnnTsFAp2P6NTFHogAvmIQ1YNpu4ld8eu9CQzEfoWKvkOjevXt9mO37mGRDecyhgXArRi6706aB0F3H3ZRs/sg5MbiGE4kaqE4d3fJZacdUmZdjhva0fBMPYQhq06F/nN/1xntrPtNzYdo6bceOHSMM71TSdr4Pw950sCGwyEQD984sDBX4dpzJfoD2Z3kdE7UvJndP4tBgt0Hbrq0sCj2p16nPP//8zWT0qwsOcX2ya2tcBHMps7lf6ZfVzJ1XGX++NIt2VUzWfLWri75TBBQBdwSSNV/d9lf3Gif/q9zV5FBzENYPe33sr0mpcNh+ZU+ewh4/kbY9JQembm2F9/gDfMB6E9MvvMRT7CGrESjOpeGefFNMSGiG4PeUG1DG/oqwUpZ96msz7uI5tWLFisNmz559yo2G6Vsh8kzhMHqM2RmRW1v90PXim3R/9YNiuDQpIawYVW/evHkbpPDxMPNYpzQ5ASNdDP/ZJTD1OrFp06bTxKwoBjP9Km6KR6xcuTLSEw8k+lpMks4iuDARxVSrMox6f/4GElSgc5WcWqC5mGi9Q4KgUplvI5j4gwJ0VyEm+1RDuwONItAYj0blcVSj34p3MBaNW44cOTIRL1y2sStQyQ4lzVvWeypcgquJj/I/U5dV/FaF7loExn8Yk5t8Us+lht9ysQflZGUEi8hIqb9dW0lzKxqrM3jyyopum8x+DYCza1K7trpmSPJHHELU5j6RuH6sYe3XqKqWH/o1KiyUjiKQ6ggkc76a91dw2sU+Mg+N7v5Ux8zP/prsNoTpV+EjEFgkXMJs4y6vta2y38MPDYuZwGc208pL+OWbrLyEFTPr/oqg8Tv4vBIGH0F9G4nGBd7pCWtep2fyyL3akXZaHWtbnWjYvffim+zyhHkXpl/DlJNX8qSUsGKAxp2JigglLVnQamL3WJpBupf/NyPhf4hmwK9kHaoPwg5EJkZJJsYABJ39DicImUIHpzUPWN0Ou1WUk40eYLAdgeE9uwVG8krZYNQfIeGAtWw8arTiBKWB+ZTC7wID6cLUeSa0hxsn8SKMIDjtoU6XWttqXWCs7Upmv1rr4vfZR7/6JZXwdMliCPJivya8M7QARSBFEUj2fM2Ng5QooXfbX6MsJ15aQftV+AnzwaeUb24r+3t1Do7/YlhS2PESRp198E05eAmjPCe+yXrwKaEROICbFUTIhYaYlNXhoPZZK75B+zUA32QtKq7noP0aV2EpnDklhZVk4RVWxde1a9cr0HR0QysxCUFkh139mTT9mfzvc8n+M7vvdu+YTKU5XRiFreaImKCSpbq1S4+w0AYhQu7IjJe7LeJSF8FilCjEfQQAACAASURBVJwsuKnk3UzeEJbEg9gAQ5siJxIIjrMQHH/Nu61GPURQoX3lUlVlboeX1zs//epFI9Hf3fo10WUrfUVAEVAE4kEgahPVeOrilde6v3qlzwvfxaScO8BTEFqmScBMo87wK39kj+8OL3GLlZewtssv34TQUNLMS/jZXw2TcoSNF7gzcg6m+kP8elA16km/DcfSZRF3e7+y1l2e3frVbX9145vsytF38SGgwkoMvzCXp9CSvM4djjtg3r+HSRePZLbeQ5iUl3JC0RyhYXaQ7mKijmaSPYM52R7+n4jg8QynCmvdaMiERsCRezafsQC1Z8H5BiGiQjzOBNq1a3ctJxriiayytJU6fY625iK0LZle2Dhx+A2LUCVUtBIwKs//yAKO6WFfr35NVkPzwyXWZGGn5SoCikBqIhDv5eTcaJWxv6IN+BSm+R+5UWaiy+AgtDiHnFO4ozvFcNYDAz9VLrgTA08u0QsvcTX8x1j4Dwm8mPUTlG+CDzkF7/At+IlJuSvfZBQi92Yo/wRWI/MZI7cj9KyFl1oRAJccd3atec39Cn+zMrecMFnroc/OCKiwAjYxT1kjcVs4jFMEua/i+SMMOhNIAiVuQBhYunnz5pftggaJZy2CJGYgzPQjra0wY1cYC0g9tDU3siA+Slljmdwv8P8au7TmdxK8CQ1PRyZ0H97zp0hPLwHHyM9pSkPadDuanFG8y/KwJgExzz777L/w7QEWibckPXUaB15TeN+KMsQzSCBBzKsdyfoea+vdtGkGuG1KVj2s5Rr9ylirS932IyS/ar0TZc2jz4qAIqAI5EUERHCBOe7InlOFNe9zp/01WW2DgW5PvdpRxwz2iYPJqkdU5YrAAo+RGQYB76xXILwcMfZ6DkrFA2hF2nqfua1h+SYEFnEO9Ck0/+G3X0VgwQvZIXFhjLbjEQQX4ad8e4GVusKr9HbSyhj7KzRv4Lcq1xD6xMs3RdU3Suf/ECjwwoqYObEgBgn4U5Q89wFfEVSTM2TCGAuraDCY8NkCJSIATERSn2B2Xexn8DEhZ3z55ZfDiD8zEk3JgiVLlsgleNsfFppsATDFIwULQg1ORuZwMjKQheffCCCv22a2vLQEwCxstJVTkMfQDs3gVGQQk/gHKZMyZvC7ggUgK+K9nzJSNE2Ofk12Pa39Sj+GDmya7LZo+YqAIqAIhEHAbX8NQy+qPHIQGXR/jarsRNAxNCzQLsLhqvA4EiS6BX+utPIS8fBNBi8BP/EkGow2dnyTXfvQ9tzLAe4uhKad5GmMwPJ3u3RO72jLjXwrhxA2T9I47a9h+jWKwOFO9db3/4dAgRZWZMLBAKYTHHGInVbEOkhii+a9MOiPOkRtLcwEaMkkbMPp91kIQaWR0OHtFyyz0nJ75q7J/2NCixeylggerzK55BQi24/cRyFNZ8y8GonfcxbNBRJ5l/JLIzA9SJ6BZMjU5KAF6UJdruR3jB+XtaJdwOWf+Cn/wdxWsd9kkbgTGmOY+DdQtzshP87qZcxa11R/9tGvudYEp37NtQpoQYqAIqAIpCYC2fZXORgk4PObAdzZJqRVQffXhFQiIqLs639mX2+ASdj/4In1iB0vAU9wPbxBMQJE9g/LN5l5Caruu1/Jdx98jAS2vgrrgglYwvwnSNPh+cbTvoMiIJn5JjsaQftV+CbM5bvDD42Anm8rGruy9V1OBAqssAJTXxmhQqLID0WY8AqKJzaPdzNJSsLEzyS9Z4BITgGaManvQhj6joldirzv+1lY+/btW4IItRkIIj/ijvg1TH3+bXQbdS7LBLvJEFAQiF62Ck0sNpPJN8mIF2PkFcGMfMOZ4K/j3WNpzqGQ9SazraStx5ufrBMPTZGo5i/hdOMwdXyE+szghKMvafPi5Azcry64hf7kp19DE9eMioAioAjkPwQyGVysDoRx9r2/JgqGAPtroqoQN13x6IWpVJedO3c+UatWrckw9IUwCxtj5iVifNMk9v4jWIy84oeXcOKbhJegjGKWuz+e/QqP0weB4xD9fj73ZMd6Ndy8v8KPHYNvakD974SPO+mVN2i/dujQ4SLq1RVLFgnvkBd5Ii9Ikva9QAorsdPrdCbKKC9NA2nrItAMRP34ND6/v/DTU82aNStVr169SUyKviLYMFmKkE80G9cxWc5BiFnGYH6DdzliuCAoDGGw/4K6LZBLZOQtyYLchnctEBDOMMkWSCAnu3owse6gzG0EovyX3Xd5J6cF/LmYuDUPWU9FrG1lMWlOmZ3NC4K4L0RbNJo63SOX8aB3FW2qLpffnMpMxffWtuZ2HYP0a27XTctTBBQBRSCvIBBkf010m9z210SXHS99hIApmHuNknu78CH3IBCIZ9G7xRuY0LbyTW5t9bu/QiMDLc7TxsV+cxvc+hVepzf8VEMEpiftTOTd9lepG3xSD3i/DL+YubXVSsOOb7Km0efgCBQ4YSVmjzjWh6BSiEF3B5BWQ1iZ4EcKN+CXeypobaaZI70b34wJiHr1V9ShJIz/G9BezvefxbMGE3c2zP94JqJEcb0UIaVILM0Hbt0L3UaU2ZEJOMktnXwj7XmUP4wyJJL5e7xybCsmUhdTD6GbQb6rKeMyTl0eQ/sz/bzzzusnKngWuQmxi4ZeGiqvquXGd8e2JrpwYwEN0q+JrpPSVwQUAUUgvyDgtr/mVhtt9tfcKjp0OeK+lwPZs7nA/k+Dl8A8fladOnUexhojHZ7kJ0zNc/BNNm0NtL/GLEmyeAmnBtj1K/zL1VTrEg515QA2M0aMHOz62V9p7+9o7ylpr1OZ1vc2bbUmyXo2802OifRDIAQKlLDCYCuLVmMCpksjGKSHnJBCiq7FJBjMoH/W7r6IUz55D+P+e1FRYj71tls6+SYTFW8YNyDlX4FQUhjh5RZef8jfzQgobxpCjBcdBLCzWEgmkmegHxM1gx5C1a3U9TJ+RfPzjFNbJbYKwsgfwWSbcRoBlvVYLLqgdRkvk5j/b5f/veqazO/x9GvYekvf4J2tLX1zGfgVCtKvYcvUfIqAIqAIFHQEzPsre+wZfhf73VOjwE72VywhGlarVu3BmTNn/hgFzUTQMGKtiIctKy8Rc+k7nf29EAecg5z4Jr+8hF39zbyE3XfrO3O/wrt0oG77wfmToPur3F/BZH4Wmplt1jLcnv32q/BNHHS39WOq5laefvs/BAoXFCBk0omgwqAe6TThBAtsDrszAW6tWbPmUCfm3QkzmXQsiHX9CCpWGky4dvxuRGb51vrN6xlXg2NQh04OIqgITfAQs7JQiyhlbWJx+JYJ35b/91D3H/m/gVddk/U9nn4NWmdZTFmoOqNKfwi31aO4dHcI7yr3sxmMBivRkKkta1BQNb0ioAgoAgEQEAFBvGCy7o46ePDgQ5y6l+fAaizr8oPs1VdDKqGHtRzszaGMp7Zt2zaJQ0zxqpWSP/v37+/FAam4J05z4iXga1zrHhUv4VqIzUfKfRN+rQH8R12bz66vDh06NAZvZEMYC+6Ns1Dx26+MvY+o3xKEmz+7VkQ/+kIgoZPVVw1yIZHcITHUmU4uhGMqvuGcHryMMPN+0GrFo85EHXk1i0FuqzPNbXVU3dqZgTFZpxr4GCZveA75Do3V5Jj/86DwJSx9vP3qt2KxBe9KO/M+vzQ0nSKgCCgCikBiEWCt9m0uFFFNHPfXiOiHJiPxR3AadCc8zziraZSZb/IwA/PFS3hVMtXN523q76tfRTAW83kz32RDS195IJDvhZUWLVqcXb169fEEMBxrXBSzYiKXp2C0W3AC8qD10rk1rdNzXroo5tRW66U4Fg/bC/Zy2R8PHtMFC7MzAU4RxIFAcSbl/zrhlJvvo+hXt/oaAgqnOp6OE9zo6DdFQBFQBBSB3EfAEFz8OLCJt3bW/TVeelHkFwGhTJkyD3KRvpL50rkd32R3wd4vL+GnrqnsmMit/n76lTStzHyTGz39Zo9AvhZWZMKJCz4m4VgxVbJCENQtnTW/8cyEz08u+FxdF0ubxfSLP00wd5sWe26CoNJGBBjU3dNY+EaIRxEnvBL9Pqp+dainp2tFh3z6WhFQBBQBRSBFEUBw8QwNEEHVU8JdvrRD7lRw0FaHw9wFe/funcJ9yiHwSSfd+CYwkpAPkbgutsMy1UI+2NXR4Z1nv1r5Jgc6+toBgXwrrMiJCaf8U7jLkWHnlUtUnjDYF2OrOR5NwBEHfDxf54XgRkHb6hQU0gwGQskNLHQXgt0Mec/znzg5WMNCtptF7yZDkPEEMOIEQdvqs3jfQat80tNkioAioAgoAimKQEyLkCPoclTVTYFAxIXZs6dK8GgOWx/gQHcue/YGP3wTfFUrcCgdT1BIC44pGUw7TF979auVbwpTRkHNky+FFSZcce4OTEBQmURQxV3mzo25Lh4Io70STcDCODu+KBN9JgLPk3jLasPfChJVlwvV4nXEMeAQDPW93FPZRZ6d5GnMPY+/B6kHA/5G0pdjoZkn+WivRGPthLDQiN8jLCYv8O2bMG3t1q3bBQgct3EhfDSkC3MacB9/i7CQiVByxlxPvrVH4KsPjjPlvaiUwXwCNrD34AXjeWhsNadP5P9h2upVn9jCI1ozX/3qRU+/KwKKgCKgCOQtBJz21whaUdRtf42AviMJeJC7Cfj4ORfMK5Mok5cIwjeJ9QI81CgOJofD6/zgWNB/P+Roq9v+avASTneMncrj8HjGl19+Oaxp06YjcaiwwC4Gi5HX2q9c1F8NP1MDLB51ou/zfY62mvNZ+SafNAt8snwnrBgTjok4+Z133tlpHSQwnu1iMUEOxtP7MtE4jZiCcLAX4eBfuCB+2c99FwbqHxAsDnGhbSET65HYhfRsQoBbveRCHFFmeyMg3G+Xju8VcZXbkbrdQL2qspj0YTFZa5fW+o4FoiEL0O14sRjFt6w6iaaFMu+G5gzxAmbOBw6/5v25TPDZIjDg/SqDGCzDqlSp8mfojLCWkYhnmfxR9ivjoyM4VIHm5377NRHtUpqKgCKgCCgCqYOAsb+yN0hgwf3EIHnVeiAatLZu+2tQWn7Sx7RGA6j7LIOXCMM3CS8CrzGS+8DD/Jp9c4/0N+ytQ6jnBjBc6rS/GrwEB579SOvbeybtqMdB8I3wR4+K5zcOj1/g/zVeuBj9isDSlbTrOHSdmsh+NfNNXnXT7/+HQL4SVmTCiekXgRWnmCOixnyFD2XgfsrA/UfYzhcBBeGkEwO6MhL4Kf7fiBnUM37piaDCRD0h0d6hdTuL3VqY/BV+85NO7CKn7dixY8Snn3563C6fua1MuJWcnPwW98TVqO9ONB7IGjnv7ggd6taAxaMXjLrYrf5kpS2+2Pfs2dMXWt+zgEibsxYQWYDApBL+xJ/s2rXrpWhmmvN8CLz3I7C8a6UV1XMi+hUMvkLAewUM8kKAy6igVDqKgCKgCCgCARC47rrrqvndX73Iuu2vXnmDfhdnQOxzM0UzIrxE3bp1T4flmySQNXzGiBo1agxyiiVj5ptkfwWz1xGU7rDjJcxtMXgJOQgN0kYsT0ZTp2cQNvbw/0R4mmf8HthSTiGEuSewDPmGulbw4pu86uXWr2a+yYuOfk+wn/HcBNgIbMQEnIZAstkoG3VnGyZiey59j3fyBuZWT5loMK+dYbwriJqQAfwqQkZJ/h8A0z7SLa/5G5OmJ3lOYU71gjDZaH6GOGlHnGjSluFMwkUIYl/ZpXFrq9ytofyb+K1O3l2UPx8V616h07179/oIePexKAzl8bQdbeMdZVzOBO7Oicqk559/fofp/e/AphyYPI2Gpj//vw9ut1asWHGYRLl3oxnmm1tb/dCz69d47i75KVPTKAKKgCKgCOQ/BNz21yCtddpfg9BwS8uhZBN4gMv5rSy8BPHk1snl+nj4Jmk7ZQ6D1mBDYPGzv/ppq8FLwCt95tYu8zcOrUtjAjZKLDv4vwi820SEj6fmz5+/zg8N0Twh4IyCHxqS6H4Fgyy+yU/dCnKalNSs4I2iEgLGVTC7NTilL8VE2sv/W9EmLKezctwFkQFJmvGo/x7HvCozqCLvSvKuP4z1ATQZTwXpZNSytbl30pE8NaCxFsb8HzDmh2M05GKanEoM98vcMuFupR5nFi1aNFdo4IXjAejPQtrf77de0GiNkFQHYedZa56gbUWir0X9O4vgglAhXrsqMzH789dVUDHKlfJYAAaQd78ZW5l4LBIlaOc8ubxHm+exSFyMxuUJyRu0X63tlOegbTXT8OhXu+L0nSKgCCgCioAi4BsB8/5Kpl1oEOYF2eud9levCvjYXwvF9uXXYMZrUa85UfFNbdq0qYkLZAl+uIrfqjZ8k231fbQ1s85oYx4w8WC2tMwvEcp6wENuh0d7LyawjOP7bPicbzwzk0BcDcO7NJDDVyN9ovrVxDdl8ofWHx/9as2SL59TSlhp3Lhxu0qVKj3MILuQC1InUS0WQ1AojuR/YtOmTae3b99eHIb9tQMHDgxft25d5uVtu4EoLvlId8uRI0cmWu+tOPWi34GI0DAIGkuZBJ870TK/tw5E6tuIidzaYOD90CCPXPAeKZK+NX2Ytho0wi4wRn4wu4q23MwJzUTDvtMQzFhc3ubbCITN73ft2rWOhWx4kH61tlOew7TVb7/alafvFAFFQBFQBBSBsAjEc0Bmt7/a1cMv38T9lI859P0G3uhXCCvD4CmyMfDx7q9hDj6N9ri1Ff6nsvAS8EzCe/n9yRRyDLN24ROtgpkXIXiZoWD1FgfEX1rTRt2v1gNtKc9vv5r5YWs989NzSggrCCbly5Ur9wqCySWDBw8u3apVqzQmVQ6cDx48mMYJxak5c+achgkeW7t27UlmFR+Xss6CSR6ERLzXLBHnIBR7EVTFx+C/jAnZzK+mxk7Fx7upAU2jCpFnCvdNxphPFoK21YpBWNWtlY74ZKcfBqKlWffSSy+9It8Nkzc0K0cRZCazSNYZMGBAcb/9unLlyvHmcoK2NWi/Wtukz4qAIqAIKAKKQJQI+DGNspZnt78aaYLyTfAPhdCmfMJ+3BkmfrRhGhXl/hrEpDxIWxE2roHnq8Eh8RxrPqdnw+TN4AWdrgo45ee95x1hyRtVvxp8Ewfzi8Pww1a+yaVdefJT0oWVCy+8sBbM+4dI1hX79etXAknWE8h9+/alkfbY/v37dyAtd+EuyuqYINGDzJMRJrY7EQl7KU68U/Az2k67YVcW7cm6dG58Z/LcHPTSOXn6cZH/E04VPjHo+G2rXb3kXZhLcV6XzqnTDZBuhzZrnLgbbNu27SDM8kYjOJRBUCkapF9379698L333usOvTN+2xq2X50w0veKgCKgCCgCikAiELBeOg+6v4blm/r06fPDd999ty2RfJOXsx4vPK28hJGeQ9vhCFuv+b17IvngwzI45J5h3FdG6LF1wuRUp5jHs77wlBLKwfMn3n41+CYwPDsoP2zmmzwrmgcTJFVYqVy5cukGDRp80bt371rE9ygaBD+k7LR77rnnh2+++ebx8uXLb+FkvxhS93Ro5HADHIW7QZjuGSwo6Wh2PF0eM2Cz3PkabWKSlOQ+x/1B3PkycC9BU3QpAtLjQkdOBhiQ97q11QvDMO4GZQL6cedLG8sioAxG+7Tm0KFDD9E/dXr27FnYq07m79KvvXr1Or5x48YncqNfg9RN0yoCioAioAgoAlEiEHZ/TWW+CbMm2zAIfnEzeAm0P59isfFaLF+mpgM+zG9sF7l7Uh4BZwDCxgNG2SKwcGg8wS68hV39KLMd6Ssad47t0ti9C9uv8fBNGzZsmLV8+XJxlJTvfpIqrLRu3fopNBY90tPTzwqDLB6+0rp06SJu93oiOb9gpsGAtA2UGKYcJP1eMOBfMuA/9MqPRJwtUKKRnkkzkonnO1Aik70MGpUMBJWB0Pg5ptK8B3OwR+bOnbvRqx5236ERNJBTDjLGBAQPx0CJaDkWt2zZ8vqMjAxvNVmOEtLScqtfbYrWV4qAIqAIKAKKQFIQyE/7qyXAdI5DZD8AIyh04HD2BoSFdJwnHRKrEISMPwXxpIpGJjMAJvdq/22UaQgsmKnnCBxuVy9o3E8d5nMg/rXdd693udWvtOsYB8XtcUb1gVed8tr3pAkr+PauX61atS/RNJQ855xzQuOGG9+0CRMmrEZYaRqTojtLJHcCLx4uW7bsgrCMvVEhLqE3xXPXr5gcmVHa3X5EfYl69UIGtER7z/qhXnU5DbiJi1rT3PKbvyGsTGSCTaRd/+H/3ggHhRBUZtrFQPFDUwQVhLr0LVu2DPETvNIHzcJMjJZoQtpg4nUWE3l51apV3yRibO280K8+2qdJFAFFQBFQBBSBZCCQL/ZXCXgJ/9Qd3kcCRPsO7mgGPMbXDca6Yylaln+JAMP3Mhwez/fZMeLBdapx8GvkEWsXiS+DwJKxePHi3R60ilLuVNwzD3WKJ+OR3/ica/3qsz55JlnShJXLL7988q233tofG8pA5l9WZBEO0jp06CDud+eh7tsE4/xyWOnXSrtZs2alEKoeYpCLFwrXkwGEgbakaWInkDBRpqEtGOE3yiuT4i4Erm8RcHYjBNyHRuaxefPmrbfWz+8zk7KyOCSAztAEBTvMnICYuV3PnZWO/H8xKupQWhWjTYnsV7+4aTpFQBFQBBQBRSDJCOTp/RX+7CL4ma4cTEtculACi+DP/ZMuCBfN4Ysehp8ZwgHus+aYem59JJ7O4CnqWE25xIFBrVq1JsM3joU32uNGA76sBmXeDn+Z4ZYuwLeE9CsC4lH4zVZcuP8iQF00qRMCmH9tX7t2LX0f/8+0adNOXnXVVWOdygr7HtXfJBjv87zyi09u1HwD7NKJEINmRGK2+PoRdSGTcjD57hDVo9xT8ZXRIZGcSjDJHhGzMockkb6+5pprdqR6v0baYCWmCCgCioAioAjkAgJ5dX+F/2gu/Ey8EMmdW/Goesstt1wvfI2Yc/mlKdYqEpDbml4EFqEFT1rJ+s36zLWD3/J7k/V9vM95tV/jbXeQ/IEuPwch7JG2OKfw511wwQUeyfx9RgNSDHd8Lf2l9peKwXsbKRd7SdtMlquRyi9FwpfL/dl+ZCIhzXdGEv9f6ze7Z3EhiH3mUE4P6vD7BR7AxsYT/V08mKFtSkccHEUdjtiVGfG74lyw/0Uq92vE7VVyioAioAgoAopAbiCQZ/dX+I/PMc1fiMAggSND/+BpdK/EW4FWebQ1xdGwiLbG1w/mXlPQOPSxJuZ+x/HNmzeP4NrA/eKMyfrd/CzhGbB2uUzit7mlC/gtz/ZrwHbGlTwuE6ywJeN2rwoxVU7AmJcOS8OcD69iaTDk9VH1/SoKekyC6vzKfYwXPGg2ZtK0QCD5u106BvXN1Osju2/WepJW7qQ8zPvNElmWssv6yWelYzxT/1L83kOskyd51wJaTkkje3/06NFf0Ken+I1kXEm/Uv9qkVVQCSkCioAioAgoAnkQgVTnm7wghRcSPu0gjP4z8E1/90rv9p38BzBrfxt6gzCzrwyfsMAtvfGNg+XzSN+T9HbhLd4kePVf4ZWEZ3I83KXMd8k/FQ3LLA5nf/JTrlsa5Zvc0Pnvt6RoVtCC/AxDG9l9mdgkCG0LaYYKBr8YA/o3/LoOfi57NcZ2sgUaENtJh+BRQVwMI8js8OoKhJNzuYT2MGV+Br2/IKic9srj9h06Z4ugQv1cJ50bjTDfWDwi6QOjbOlXMIyUZph2aR5FQBFQBBQBRSCZCKQy3xQAlzUIGp/Co4jlSlw/8EnfYaEzGj6hBfTugf/wPCSF1/onPNmv7QqG9zrOt7+Q5m6+O5rNk+YU318l/c12dIK+U77JH2KeneuPTLBUqN32cMG+RIwZDZbZJvWBAweEqd3IBa53bT4HeoX510PQGoS6b6tTRu6VXMxArYBq849OaZDeJyDQDOLC/VGnNPJeLo2Bw3X8vkmk1TFuaf18E6cAderUeZiL7ndIcEY/eSJMU5x+LRZlvyJ07YywfkpKEVAEFAFFQBHIcwikMt8UEMx3xXweYeMyeKipAfPmSI65+6/wKPsE2o5fwy88LSZnORKZXnDnJQ2NyDm4Qv6nXTrILcckbCx8jKv5PLxiYRGQMEtbYkcnwDvlm3yAlRTNCvU6ieZh97p163xU0TsJrnhPIWF/5J3SPYVcnkLAWIHQ4CioyEUxNBad3DxCIIBcxUD/zM3zlnFRDFqHkNRPUu4499p5f5WLYiKofP/992OTIKhIBU+iIdqTav3qjZymUAQUAUVAEVAEUhqBlOSbwiAGb/QBB74rnRwTBaEpXlbhtyahXdnM70VyL8bNMZEIF/Bb18gdYbtyJFwEgs8DHFo/5OaYCNfJYlXTzo8TJrtyTO/yTb96tDOuz8kSVkSyfRGGOi5zJ2k5jH4a7uh+5M7Hy/EgIW7pUE82NkVLzUFOXPBR3u8Z7I6u6xi4RZiE3RjIL+YgEHsh2hQk9/6cAtx//PjxVtCcxuQ96ZTez3vDBR/Czzgm2wE/eSJMIy74rsbW8wEWjd3vvPNO3HacUfVrhG1UUoqAIqAIKAKKQNIQiJJvIrbIGe4OV5eA1TDlDXO7UWg23sfkag2eTyXwdVw/ODhaA9/1PUS2wlfN3bdv33gJSulElHsiM9DG3Of0XQJQwksJnzcR3sbxbvXGjRvHwHsOJ11cvHSU/RoFP+yESzLfxwVwPBVnsDwBg34KLUA8ZNLeeuutnxksW1asWPFlHITEHG4o/rYnOtGQ4Eao/G7x8hWOwCMxUuSuSI67FjE3wg/x/RDam5GkbY30vs6vr3CnujGZSoqvcAlu5OW9zIlGiPeZAgqL3BgWm3FotsoTFHIcJnndX3zxxZMp0q8hmqVZFAFFQBFQBBSB1EMgSr4JBnkjAouYsj8OH3I5+/h4EVy6d+9eP7dajpm8XJJfAx/RP94yOSB+CoGlPR6/vic23jD4oXaiuZED80b40QAAIABJREFUZCttgldvQ7tSHL6utvWb8QwvtR9NzQOYq00S83q7dBJgmz55mnJ62333+y7Kfo2AH/Zb7VxNl6MTc6v0/fv3H8RkqfauXbsaXXvttaHuzjAo0wYOHIhy4vgtO3bssPPu4Ks52DCOZpD/9bnnnttrl0EkdASMHkysUXzPIYQYeZgUFRBArsdELEdkVTQ3HRj4d6JefJhJtRZ/39VZLG4i7aN2Zfp9R5nFGZzjGezjEdy8orD6JeuYTuLANGnS5A7cE3diEu/HnO9vaJoWb+AHm9oz0q+1a9dutXPnztrXXXddKGE4qn51bIR+UAQUAUVAEVAE8hgCUfFN/fr1Ow3fMHD79u1r0A6c+Prrr79cv379kosuumgNfMn1jRo16ta4cePLGzZsuIv3hxIJE/S/obzy9evXvxE2YkU8ZVHfjzFFHwPNN2jTx7ThKMLQ6ObNm29atWrVQTNt+JhPef4f0r3tVCZ0jlG3leXKlUtHYFlGDLkc1kDffvvtPtK0oOzi0ArFh0bVr1Hww05YJPt90oQVafjWrVvfYSB1R2NxTtOmTQMxtjDKaX379j2+Z8+exz766KNnwgKJENEOWiecLueLepTvtyNgjKYM1yj2MPB/FvUiPrt/MOqDMFH2/PPPH4UwtAcNygxZGPhWuG7duhJRfozd4PfblpigMuHw4cOTManb5Tdf0HSGgMJk7MIJTCEm57PLli17QwQU6p9l8mW0lRMLEV5aJLNfg7ZR0ysCioAioAgoAqmOQBR8E8zxo+eee+5PDRo0uAoG+xPanHkIy37+gyG4YCmxFlOo69n3fwMz3rhGjRo72fsdXfrGgxtCwSbKqUo5rflfhIhQP9T9JPU8gGBxE3T+ze++Vq1aLcHSo5tNW08jsJxDuTVEYHIqUASW6tWrf85hc3qVKlXe3bJlSw6BRcqC/xtCuSsEQydabu+j6Nd4+WG3+iX7W1KFFRp/qlSpUv9E4u166NChEpdddllRNBiemOzduzftrrvuOoY2ZeEHH3wgdoeO2g43YnLJncl4M4LKDLt0qEUbwJv3gukezgB0FVQQappzz6LEm2+++aFBC49gN5D/LjxzTULd+oXxHk3OMMp9HnOp0JoQEVQQgKZgfjXt7bffDiXN27XZeCcCCn7d/8jvb2hDEQSQv2O69rosZOAvrvuy/Zjbiobn38nsV2vd9FkRUAQUAUVAEcgnCETBN/WCwf6Y/f0nmPWhMNpr2NsPm/GRQ1fZ7/l9F8FlF66Tf4em4rdoQC785S9/uQ2eyNXTaVCsOeBcj7BSk99WOOn5LGh+Iz0C1S7a1ZK6pkFnp1h80NZP7NrK93Wk641A846kcyoTLI5dcsklqxFYMtq2bfsvrh3kuJeLIPMxfN0oynrLiY7H+yj6NTQ/7FG3pH+OLNZJPC3BbKgc0vBLXPa6AjVWqWuuuSaNTs9B8rvvvkuDwT+FudYpNDLpH3/8seMdkxyZc74ojFZlGgLPCIlgav0sdpuYl92H7eNQvuWQpC3pC8GsT4WhH4Kd409y2Z02DZT7KBLx1JwWIeMaNDU1MP+aYy3T77N4ukBgmCIX8+O972IuUwQUcO+MelhixKwG41epp+tJiltbk9SvfmHUdIqAIqAIKAKKQJ5EIKr9Vbxicbg4iEPZvRxIPu0Fhjgjgj+4id/qpN2FZcd8iSzvlc/vdw5zfwfvUc5PXVxoFoLMFMzUxzz//PNZQphdW7t27Xohpm/XYj0zy4Ve5idpO3+G1axZc/DMmTN/tKaHD7yMujeT+zPWb36fo+pXv+XllXQpIawYYGFX2AbbwPEw82jnmpxgQBTDY0MJVFsnNm3adHrbtm3FYKZfRZswYuXKlXFpE9CEDEVKfot7KDku5uOtqxaCQF8EFfHy4CWopEHrVrQcW8W7hbgtJu/NXO6aiMYjm2kWgkplvo3gjsegsAMEGkWgMZ7J9TjlfRuWjpFPLphh49mR5xrQXYvA+A/z5Haj79ZWc77c7Fe3+uo3RUARUAQUAUUgPyEQ1f6KN88r4YluwRJkIh49fcU3i/FKnQ3BBe9e8+Rierz4isACn1cCz1Zzw9KCV6rAwetI+LghVhrWtoqjIPjOv2AB42nt0qZNm5rwSf0xoxs+e/bsHFYm0BL+bqlXvBdrnazPUfWrlW5efU4pYcUAEZVkRYSSlgz8mggBpWGi9/L/ZkzEPkQLkmNwBAUfjxetOEVoYCe5ew1Ea1kMzDLUbYSoB5kYA5Cq9ztI1ZnaF04wHvArDFjLEkGFMiQey2wmoKONpTWf9TneBYZ6lPRoq7XIzOdE96ttofpSEVAEFAFFQBHI5whEsb/K3g6/1R9HQAcc+BhHFOM5+LQjKofA1ONMPAILNFrDm9XhUPpZaxnmtsK3zUfgGha7m2xNmuPZ40C7MLzeTHAc7mWZkoOwzYso+tWGbJ57lZLCSiJRFPfBmGuNspO2vVR8dvXiAOB+PIB9hiDVFml7EoLIDrt0TJr+TIj3MdsKZYsZE1QmImQ9NX/+/MDRNKNS3aIyvQKtTje3ttq1X98pAoqAIqAIKAKKQOojAF/TJuYGeHyYuG1hTMrtUIHp74kQcQph4wW7737e0ZbhWLos4j7xV3bpjbbybQuCzUosX8ThgOeP21UB7jufS70HSIgKT0KawBcCBU1YEe3GZISVsagqswV4EVfCDOgR3J0ZZGeLaIem2DoiqDzIoFzEoBSPZLYX/Ul3KSrG5ghIs+3o+HgnkvpE6v0M9V7rI31mElwHV0OT81s0P9U4odiJ/SbZF+zxm9+cTu7JYI7XF1rfu7U1DG3NowgoAoqAIqAIKAKpgwA80TmYYg3FiuJTDln/EbZmIrhwmNsJPqkyB7ZfYTXzCnyI78v5MP5/QEtxAq1HjpAQPuvkej9ZaBhtpX4tEIw68crxsr25THHCRJ5exn1l87d27dpdi/BTJR7NkM/2FYhkBUpYYWD1ZuJ9hvevj8y9K17B0BSMxL3dME4RxLWw548EiYT5f5b7Ht3mzZu33ikDF7rKVahQIQMGvx9pbIUZp7yx94VQOY6l3i9IlFaPtGm0pSJt6cgEqstE2Y8r5Vetd2e8aFi/S1vxBHI39GawyGyyftdnRUARUAQUAUVAEch/CMA3tYefaAdDLkGns8UqCdpaEVyg0xHhowo0P8fL1ssSWNGLjggsHAwf4p7uP73S2n0XHg8epjc81P123413HAr3QajqzKFsN79txWqmIe25Hb5S4vBlE3LQ2oxCOHvZjUd0q49++y8CBUZYYRC2oNlXot3IFoRR1HUMNBlQwxmcfvxjFyXPfeS5SDQVmGS94TagGMgT0dhMwFvGd27pHL4VYnKnc7qxgIirqxzSpMlFMiZyJ04vGvF7BPXtC/HcaTGVk9lWnotw2iDunX2dNjjVU98rAoqAIqAIKAKKQN5CQA5dy5YtOxDe4t8w5a9HUXtDcEFokYvwyzn4XQwPdtKJNoz/vZig7worsMAD3gjtcvBG85zKkPekE0+rp/n9wG9bJXA41jO3cShtjcdXFB5wJub7g3zyl25VK9DfCoSwAjNfmsnwIIN0IL2dpd0QQYXJl06QnyF+pPvY5LoXyftJ8t1md+/FPJoY9H9CeFjDAF4eYpQV4p5JBmW9Sjk5giTJ3Ruk/84ioCCoHGYhWTB37tyNIcqxzWK0FfOxR7kk9rVtIn2pCCgCioAioAgoAgUCAaw8usDEX8nvmCguj8dAKwyP1hJmvw3WG2eJ4EJclzftPG3BE8lB8TY0JAvDAI7gMIYy5nL4usEpv1inYD5/H/zVuiBtFQsUBK7u0B4B7Sw+U+4LI5DdCV5jnMrU994IFAhhRe6pSGBGsy9wJkdlJodEkR/qw35SbB7vZuCWRJsyk3yDGHwvucU4QRBqAqPfhjTTvbshR4pM0y/q/BomXP82vlLnsggmNxkCCpPu5QQIEtnaCjY5gh/lqK2+UAQUAUVAEVAEFIF8j4Ac8sKDDMfE/HVc/S6NuMGZggvWJNdTRil4rvetgouYavF+M7zP/wYt24hRhyWNxMRz1OJQRi+0OKLt2ROkrR06dLiI9F3RyMjF+iyBBSFJTPOLxXP3J2hb81v6fC+sMLHugKnfRnDGfxmdF9NKpDN4RnmdDpC2LgLNQAbu01yU+kKkZOj9Hm3JFKfB0KxZs1L16tWbRLq+YZh9yhyJXecSNCormLglmbhtmAAteHcGaV9MzwJ7A3Oqq/m9ta1+8mgaRUARUAQUAUVAEShYCIiWhRZfTAy8h/xYpgRFB96nCHlEi3MdlizncPi7DCFAzO5Pw9f1hr9ab+br/NIXPoe8PeD9MpzySNmUOd24axykrQgmzeHVOuNVbKyZPjQyCDT+NF7JtjiVq++dEcjXwgoDrhFakI4MykkGBDHby7E+BJVCDLo7yFcNYWWCIYVjNzkVs7HRdlHvjTLkngrlTvMTYMjaNeJmDzXoh0zQspiAXYqQUoRTgDco/wNr2gifbdsaIX0lpQgoAoqAIqAIKAL5CAF4rPPgV4bBr7wKn/VeoppmCC6U9St4t5LCEyFMtOQ+8Mow2h34rN9xAH3K7f4LZV6NgFQFs64F0q4gbcWM/mL4N+E9swSivn37lti6dev08847r5+diVuisMsvdPOtsIJQchb3OCYyqAca2g0GW1kG3wRMqUYwSA85daIE/GEiDGawPWu+L9KlS5frEULKuKnyUB/+nnyHGOBvO9G3ey/1LVeu3GwmoqgOt1PvN6m33HUJ40HMrgjbd05ttU2sLxUBRUARUAQUAUVAETAhwAHtrVh9NKxWrdqDfkM/hAVQmH68iN2AduQK2CX5/Qc8mThOCsQroZ0Zj6n9LJwXbXOqCzLNpI0bN44xa478trVTp05XctDd1qxhgQeth2DXhXfjncrU9/YI5FthxToQxY82KriJTKiRCAGO7vewOeyOnWId7CQnWyZdUQSRSbFL+rZoBh2I5kknE49Tg1CTzrYyPl66tNVHbk2iCCgCioAioAgoAopAWloyDj7jOeS1O9C29qPEqitfvnxPq3Dht61cG2iJMHW9WcMS9kDbWreC9pwvhRWrik/ukNSpU+dhLoSlO7kQjqn4xATrZbQu71sHAsKPxEl5B43Jaus3efar4otanWlXF693Xm31yq/fFQFFQBFQBBQBRUARsCCQFJPysObz8EI5rgpYexTBZDACx+s2HsR8tZUyrsYi5zIElqkG7XiuCljrV1Ce5QJTvvqRy1MiyXIR60lpWIsWLc6uVavWeAI+jl26dKltrBO5PMVg+g13UcZ88MEHOYIeSkAhzLJaolV5yQms6tWrj8EGciaX33NobURAady48VUXXnjh7ZihdcIMbS8D929ff/31koYNG3ZGq7IKNeY7TrSjfO/V1ijLUlqKgCKgCCgCioAiUHAQgK/5HAdDO7hv+wCHxLsxo9qT6NavW7fuA8rswcX2VfBWczig/gjHRI0vuOCC7k2aNGnN8741a9YcsNZj7dq1+xs1atSQNBX5f7P1uzzzTUJHDKWMHKb9ftoK3W3UrSh1+e2GDRs+FpqYh33I3ZUHof0m3wOZr9nVsSC8y1eaFatbupigMhlhYCymXzkmjF8XfKjtJjAJxkHje7tB4eCWLqEu+Ozq4fbOb1vdaOg3RUARUAQUAUVAEVAEfCCQ22EQQod8sAtvYW4f32/gELzoa6+9tsih3Z5thQdrS94maGimCQ2e4wlv4VCN/Ps6XwkrCA1ZAX/QZpTkkvwUvEVk2HnlElMxtBwXMwDHI4kfceritm3bXlK6dOmGDLDn7dJYAv7kWnAju7o4vfPbVqf8+l4RUAQUAUVAEVAEFIGgCORygOlQwbThF20Dh5vbisAyvUaNGsPcHAh4tVWEHi7YXwjPOUNo8xxP4PCgXZGn0+cbYYVOv5GeKIep1jwGXnHunkxAUJlEUMVd5h6KuS4eyIBZ6SMKamHoTo1dqrdT1RVFQJqJwPMkmpc2/K0g0Ve5oL/YcHVsNzoQHu7FZGyXm9s8u3xB3wVsa1Dyml4RUAQUAUVAEVAEFAEvBIqiSbiPREU4+BVG/YxXhji+F0JoSMcMbAGevlY50YFPrIBJficJss3vEby4ruYAuwb8nngWy/EDL3g+fGMnQ9DIkeC/L1zbCg7tKac+/OdMySL3V+BVJzjdp3Ypp0B9yhfCitwpOfvss3vT+fcbgsrhw4cnv/POOzvNvSmDBIGiHYJFhptHMCMP9zvuJO1X3ENZaR0VIkFjXjaFQb4XDc6/cKX3sp/ASNThD0yQQ4kWVIK21do+fVYEFAFFQBFQBBQBRSAqBNq3b98MXu1ueKcZ8GA57gdHVQ50Mk3CODx+Ab5wjRddeMiKWNB0RGDpStp1CA9TrQfdQkMCdiMEPWvlLe3ou7UV/vHXYHAugtFsOVSuUKFChhGA0o6WvqND8wEIYis4bceOHSPq1q17Wky/cFE8xRwlVNwWM8CGMnA/dYuRYsZCotxzCWoQA+jPxnsRUBBOOjGgKyMZn+L/jUjZz/jFUAQVJPMT2D3O95snaLowbQ1ahqZXBBQBRUARUAQUAUUgKAJyt3jPnj19CSPxPfyV8E92VitBydqlF8uYiRw4P4NgtNYugc27QvB+T8D7fSOWMvB5O8866yyy/9+d59g96NHUe6RN3hyv3NqKMPUbeMlKuEV+smvXrpfi5Km5CC85iOiLTATyvLAiLuuQghfVrFlz3d69e6cgDExDIMny6sD3Nggw7f/zn/+Mf/fdd3N4g3AaBwgmYwkY9EiZMmXEE1hnBJ0KoiZkAL+KRFyS/wf4HbBSBpOmJ3lOoQJ9wanMeN+HbWu85Wp+RUARUAQUAUVAEVAE/CIAv3I5wkB3NBqTnn/++R1+8wVJJ55Y4d0mInw8hYXMOj955aAaAWcUgsMQuZMM33YTv9XJuwuLnfnnnHPOtQhauxFglvmhJ2mc2ir3ieEpy8FLPo05WH/+fx/+9TO/dAtSupQUVpBeKyFgXIWQUANpsxQCyF7+3/rpp59KRPeTRgfRua0RHOowcOaQZjz3QB7HvOpb+S4X7HnXn8lwAE3GU0E6FUHlBmjeTp5t0FjLZPoHk+lwjIZI6zN5P9ztYr65PIl4Sj3OLFq0aG6QevhNG09b/Zah6RQBRUARUAQUAUVAEYgKAeFdECYGwKTvD8qn+a1DTGAZR/rZCCDf+MmHwNIKAaeBCBFGegkECd/XWQQX6tsSa52uds6bnOg7tVUEFmiVgD+cJ3ekS5Uq9YCJ35TwG774Yady88v7lBJWiEXSrlKlSg8jqFzYtGnTk3heKIagUByNyYlNmzad3r59e3GEk9cOHDgwHP/URxjkI5GAh/E320Ds1KnTlaS7Bc3IRD+2hdKZfgcigscgki9FUPnczyAwDcSECCph2uqn3ppGEVAEFAFFQBFQBBSBRCMA/3UVgsDNWMlMtLsrEm/5IrBYD7S9aMLrDYWPfAtrmC+taT0OtK3Jsz3btdU40EZQeZt6jsA0bFAQfpgYMFtdC80HH1NCWEEwKV+uXLlXEEwuGTx4cOlWrVqloUnJAe/BgwfTUL2dmjNnzmmElM+4qNWZv6MNFR8Xlc6iswfxvNcsEecgFHsRVMWH1HsZEnUzvycAZhWfUx3Cvg/a1rDlaD5FQBFQBBQBRUARUAQSiYDcB6ldu/ZANBfrXnrppVeiLsuIw4cwkO2qgEs5Wfehseo5bk3ndlXAy+rGrq3GVQGscI7KQTteZWv45YexQBq7cuXK8dY65qfnpAsrRHWvVbFixQ+RNiv269evBJKsJ7779u1L69Onzw/fffedmGl14S7K6pgg0YPMkxEmtjsRue6666oh0PwWM69qQS5PiccGfkaLHaMTbfN78+UpP+mDpPHb1iA0Na0ioAgoAoqAIqAIKALJRAD+5gbKbwfDPi5qd77iLdbOCZNTe8XTLIfofeEpR1vTeDlh4mD7Kw7dX+GA/ag1r/FsbStx/QZxnWE0B+llBgwYUNQvPwzvfGz37t0L33vvve7QTqRbaKemJPx9UoWVypUrl27QoMEXvXv3rtWtW7eiQVqLJJl2zz33/PDNN988Xr58+S1I48WQZqfbdZThlo7BU5fO33/06NFX7VSNbm7pGDwzGHjpflwem93SBWmTV1o5GWBA3uvWVi8a+l0RUAQUAUVAEVAEFIFURQChoixM+2CsZD5Fy/JalPUUgYWrAxPswlvYlQPv1470Fe3uHHMo7RreAsufjhyoV4H3/NwpvIXRVtKsOXTo0EPwtXV69uxZ2K4uTu+EH+7Vq9fxDRs2zFq+fPlQp3R5+X1ShZXWrVs/hcaiR3p6+llhQMTDV1qXLl3EXXFPtCvZvGwxALIF/CHNC26Xq5BwHQP+8K0XA+lLpOsPveppDfjjld7vd+g2QUi5Bzd6j8ydO3ej33yaThFQBBQBRUARUAQUgbyGAIJCB/ieGxAW0nGedCiq+hsCi13gcLsyMOm/nzrM50D8a8t3r8Dhmckl7IUILvCRjoHDsfpZ3LJly+szMjK8zYtsKin8MO06hsDTHrO1D2yS5OlXSRNWiIlSv1q1al8uXLiwJK7gQoNIPJW0CRMmrEZYaSpqOcy7OktEUgIvHi5btuwCv4w9Asl0LvQPmzlz5o/myrRp06YptoO/MqKNulVUVHpI0Rf6iHDqRsb6rSiXr3ozyAshqMxEs/OTNYE+KwKKgCKgCCgCioAikN8QiPF1g2H2l6Jl+VdU7YOxLykmYQgsGT68ehVFcJpKiIyhVh4R061LMBVryEX8533UrTDltkQT0gYrn7MQgJZXrVr1zSVLltSOmh/2URdN4geByy+/fDKdfgomPK4fBtvP7dq1+4HfZ8SMC8a+oZ/yzWlEyBAJ3pqvWbNmpUSI4b2nSg7NR1t+B1ppxPNMoKALUTPOxETugnjoaF5FQBFQBBQBRUARUATyKgLwQl3g0x6C2S8dVRvkojt0Z0HzPC+a4pAJ/jIrSLg5PXziBDHn8qJh+S6Cy9V4dH3gmmuuWfHoo4+ejosZJrPwwwhPRy699NKLAtYl5ZN7MuGJagHaiq7cJQl0T8WuLmhR0tq3b1+Eeyg7UBOOs1HT2WXLeifqQCTctph4LbImrF+//hikefGw4HphSXxyc1m/MZL1NCuNkM+FEHzugObNuHIeNG/evPUh6Wg2RUARUAQUAUVAEVAE8jQCeHh9CT7vEaxXxsK3XRNFY8TL19atW4dgiTOSKwmV3GiK4ybuLa/h6sFN1nQ4A5iKlqSv9b3H8xksZT7AuiiddFUxAwtl/mUuQ/jhDh06lKCev/UoO899TpawUpwgOOddcEE0CgM0IMVwY9wyDPpIon0Z/E9a8yJF38a7xQymPdZv5meRjBF2LsVMTDQwcf9g21gHSf8R6vUFvrbHzp49+1TcRJWAIqAIKAKKgCKgCCgCeRgBvIPtlRgk8EeVOdAdL5qReJsjAguX30dwbeB+ccbkRk9cKiOUXAaPVsucTurF3ZrDcrfYLb/Dt+I4E/hFKvDDDvVLiddJEVZwV1wFG78TdG4kIOBVLA0tRLWgxMSNsXjWQiOywZy3e/fu9RFAzmNSLHGjiUAjtofXos2Z6pbO57dCqBj/SLk9+B3sN+ikT9qaTBFQBBQBRUARUAQUgTyPgGhZjh8/PoN7HmMwl7803gZ99dVXx+BJR3N/WszMKrjR497KWISlwaTJZhkEHzkLS6w73fLafUsVftiubqn0LinCClqQnxESopFUQJMBkga5n4MCi8vjARs3bpxpzte3b98SXLjqy2RwFUAkcjyX+dsgVGQELdeankv8NRF8ZmAatwqPZQ+izTlpTaPPioAioAgoAoqAIqAIKAKYvSxevBv+axhWOk25MzJaTPrjweX5558/DE83jIPvcXKp34mWXLAnVt9MtCuDLGlOk3+hhK5wymv3PlX4Ybu6pdK7pAgrqN32YONXQoSMKH4OHDiQhq3eziC0xHwL868VIlGb823btu1+NBtTeHfaiR6D8WLKayNmWk5p/L6XS2NlypS5b8eOHcPnz5+/0m8+TacIKAKKgCKgCCgCikABRuBnBJZn0HQ8L569sE5pHg8WHBR/j+vf4Qgd6dAq40RLvMxS3h5cGrcxpxFvZdwXaR3EPC0V+GGndqbS+6QIKwBwEje8u9etWxcJFggcp5CuP/JLDEGlCAOtK2q7l8x5uDj1Wy7Ur0CrstWJlkwGBmOneDUqEhmVgT5VglRSj+FiN+lUpr5XBBQBRUARUAQUAUVAEciJAHeGN8O39YOfukg8dkkA7Zyp/L0hDMZ/0K48gLXOQ24CCxfu/w7FdvCT2TyJkXdarVq1evkrLTNVUvnhAPVMatJkCStpXCh6kUtJjtoLv6igHUkjsuiPXHp62W8e0v4Je0e5VJ+l2hG3dHiEaOwWLRUvCxdR3u/RqMRl+iXaFC5z9Uc7cz+S/DK/9dZ0ioAioAgoAoqAIqAIKAI5EPiZg9+/wlfN3bdv3/h4Qj5IAEoOpYXPm4gw4ugqmWsEY+Anh5Mui5cWr2EILIXFWVKOGjq8SCY/7FAlfW0g0Lhx43qtWrU6TtTNuFxLv/HGG2dwObfKL7Li7cHGV7YE/HlE7qs40cE9cjPxPsH30HdtxA5S/ISjwbneqRx9rwgoAoqAIqAIKAKKgCIQGgEJpt0fgWGAWNKEpQLPdy50HpeYe040JHA45WRzWwxPehb3aCY75bG+TxY/bK1HKj+H7sR4G7V///6DderUqb1r165G1157bah4Kwg6aQMHDkRJcvwW7nxs91MnBt3ow4cPT9uyZcsJIz3mWKMxC/vrc889t9eOhkjoSOs9kNpH8T3URRuElA6oKO9E4n4YyXutXTn6ThFQBBQBRUARUAQUAUUgLgTOfP31158gBBzlNHx08+bNN61atepgUIrr16+iGcDqAAAdEUlEQVQ/1qhRo5XlypVLh3dctnbt2hzWQN9+++0+0rRo2LBhccrM5EPhL08Tp+9syq8NjU1e5SaLH/aql37/LwKl0K5sxAtD4Ej2qM1+vv3224+1bNlygl9A5WI8v7eb0yNEtMO8q7sTDaTqhnj+epjvoUzmkOrLUuZYtCr/z6kMfa8IKAKKgCKgCCgCioAiEC0Ccn8FDUk/eDnx3hWKj5M7xuKxVTQmTrWT71a3x2hXpgS4P5Or/LBTO1L1fdI0KzFATuEC7p9IvF3xwFDisssuKyoROL1+9u7dm3bXXXcdQ5uy8IMPPriP9H60HYXwZz2Ki/FiypWZXgYgdok3E0F0hl2ZDPAGXLLqVaJEieFI1K5R7O3yM1BvIP9deD6bhJu9L+zS6DtFQBFQBBQBRUARUAQUgegRwHnRGbQbn8D//YT2YyjBF9egATkcpCSCRh675JJLVmMdk9G2bdt/rVix4idr/ipVqnwMPzmKst4yvl188cWbv//++9/zzo+n19zkh63V12c/CNSuXbscGpYlN95449G33nrrZwIt2t5jwUXxz7NmzTp55ZVXHrviiiv+xw9tIw2Cxx8w97rclKewSMJOLuYkMCTCxjTSBzZRE5qUNUq8iwWpo6ZVBBQBRUARUAQUAUVAEYgeAdGMYOUyEidHd4ahLo6Y+H3U6X4zPONlfL/LTBte8P527dpV8VtebvDDfuuSSulCXxZPRCOwK2yDbeB4hJUm/JwgUmgxIoqW2LNnz4lNmzadJgZKMSTXV3FTPGLlypW+7qhIPcX9HBqOYdwVGW3Um3dDkZLf4h7Kl9a2MJBr4fWrLwEaxctDDhtFa3rzM3mvIu/NBJac+Pbbb+9yS6vfFAFFQBFQBBQBRUARUARyDwEJ6g3/dwtWLxPfeeedQDH6JIg30e77n3vuucNnz559ylrrmLnZUqx4Ppdvwn8St2UErpVHWtO6PSeKH3YrM5W/pZSwYgCFmq4iQklLOrgmF99Lw/zv5f/NmIh9iEovx+DwApjBMgYB6C8S8VTSIlm3wrSrAYPnaWter4FoTW88Y6tYEhd2A1AJ7Ucoesopnb5XBBQBRUARUAQUAUVAEUgeAsKzwVv2x+nRgaA8m8eBdmE0LDOhPRyB5Yi0EB70VnjZrbhEfj9oi6Pmh4OWr+lzCYGuXbteiFpO7rVk/oj7YCeXcl4qPqcqU8YVYlLWo0eP6k5p9L0ioAgoAoqAIqAIKAKKQOogIFHohSfERKxSkFq5XRUQl8cINONM9ArJtYJ43CgHqVt+TJvsC/YJxxSpdGTlypUnyCUrCiuEK7kHiVKfwYX5H82Fi6CBZmQEpmeDZ86cme2bUyXFy0O1atUG8P0cTMYexlFAoEtbTnT1vSKgCCgCioAioAgoAopAYhFYt27dt9wz/hi+cFC9evXKbtiwYb2fEsUVMpf2NwuP2bRp0yXwlFmOnsTlMbzkGS70tyRwZGYcwAYNGuxDu9Key/2Z5mH6owhkIYDE/DvxyGW8QNrtLbaKVoj8uKWz5pEgkUjOM5GU61m/6bMioAgoAoqAIqAIKAKKQN5BAB6xfUwDUsFvrTHxcgxvIY6WJE6fQUu0LRKY3C9tTVcAEBB7RAbRRKOpDMAW/PaxNl3UdTH/2CWt3xyei4rPbn4H8t3bz7IDEX2tCCgCioAioAgoAoqAIpA6CGAOVg6eMJ2D7c5+ayUCSczsy8oTFoUPfVz4UaElcVig+4BfupquACCARDsc7Uft2AApjaAynf+zORQQQUUGEpFJS/mBhOCOjUWbIpK0n/SaRhFQBBQBRUARUAQUAUUgbyEAr9cFvnGKePPyU3OxtoGnlDh+2fhMuQstTp4MGjzfQ7pf+qGpaf6LgFUKzBfYiEcv7p+cfPPNN7dIg/h/DC7qJAp9lk0hEm5l7AfT8Qo29Kuvvjrm0XCJyXIPadri7m4AHh6+9kivnxUBRUARUAQUAUVAEVAE8iACeIt9iZAXE7jLkk6clGu9mgC/+RVeZ19AcyIX67MEFjyNSZiNlRx2/1po4On2KTyF3W1O40Vbv+dTBEQaluA/0jwk2DsIzni9uaniEQzh4xE/EjNp64o2pUOHDhflU7i0WYqAIqAIKAKKgCKgCCgCNgiIlkXMvPxY4cBXNpdAkFYy5M8wrH34/yp40K7WNPrsjEC+06yIGzo0KcvefffdE2hPGqE9qfTSSy/9y4BA7BGJ2ZJOPJRRhg9sB3gKMej+iCalB7+DFy1a9IVDOn2tCCgCioAioAgoAoqAIpAPERAtC3zgI3Xr1n0QvrC1WxMlGOTJkycXku7P5nR4jn0Qrcow8SILveVobS6GRy3tRku//ReBfOW6WAYB5l79Xn/99emiWUF9NwIzrzGGSzkGRlmeJyDMjF64cOH3TgMBqbcWbubGEoRyMSq8F8j/k1Nafa8IKAKKgCKgCCgCioAikH8RgA88ikvixbgjbkUIjJu5bvDhihUrbHlD3B/vrl+//ilcGv8R18jLBBVJi2bm6+PHj9/Fuw/4thpzsD/J//kXtehalq80K/v37++FxuQxgad8+fJjjh07NnnBggWZg4k4KucQqXQCWpWRRBE95AQh5l7dkXhvxUf2UGKnfOqUTt8rAoqAIqAIKAKKgCKgCBQcBNCczKG1T23btm2SeJl1ajkH4h/Bcy4xa1j+f3vnHiVFeabxEbmMXIbJArug4bZrsmA4KK4YReDsChL1JLq6KDGRHLKJyxpPIsqayEowQTQIA2rcox7ErH8wUaNI3CgQETWJGHV2EmXDIbsOilzMoMhFRhgYZPZ5oDs0PdXd1U5fqpvfd85zuvqrr6q++r1V3e9b36Xkjzaot89bGp5wgZYbFazs1/JnU+2D/KMEjpm1oJTB+F0plZWV31Agcoffr9Lc3Nyi5f/yObmf4eDBg3/U1NT0w9WrV38QdJ5qdemrFpebpaXa7jdBZciDAAQgAAEIQAACEDjuCXiowNdF4RT32FHwcSCIiHzL0Rp4f7aCnIXx9dpunvLuqqqq+kBdxmrUg+c7QduSd5RA2XQDU5ParT179qxRi8gpal0Zp6j2QZ+m3kzadeDAgXN37949+4UXXggMVDx4ShfOZRs3bvzBSy+91MAFAgEIQAACEIAABCAAgVQE/DZ6vfV+i4YM3KoH4n/S2+obk8uq+9gmlemoN91fru5hr3i9gpuX+/btO0fbPSN/tUXDDoZqX28mb8v3owTKIljxW+nVtLa/d+/eb+zbt+9WXQi3epxJLFCp0diVORog/16y4f2eFfU9vE3dxV5fsWLF4m3btrUkl+E7BCAAAQhAAAIQgAAEkgkoQNmpcSe/PO200y5R0DHm9NNPr4uPk46XVZlN8jV7DB069FKNe3nFvqaCl3fUqnKVWlV+qvxvKXj5lR6YH0zeP9+PECiHYKWDLpLpGlRfo9kWvq8ZGx5aunTpe35jqJrYFigQuU3Nb22iXXcVU4BzmeRAhvemcEdAAAIQgAAEIAABCGRLoFUtI/UafL9HY55nanD9W/p+TE8eBSlvKUCpUkDzRa17Vd/fk+86XKpU0LK6e/fuVzuQyfbAx0v5kh+zopjjmg8//PD33bp16yOjVWtQ/CMKVDpr7MmdClTmr1q16t1EY3rqYnUXu0EDm+oU4Dx9vBia84QABCAAAQhAAAIQyCuBjuq18y0d4cRly5bdo89DiUfTugs18P4z8j/vdb7Hr8hXvVNjrqeqV1CtpjV+J6+1K9Gdl3TLil/uKO4TNN5ktWb5ulwtKPfGAxUFMDUaTH9MoOKLxIPwNdf1PF1Eb5Sozag2BCAAAQhAAAIQgED0CBxSC8mrgwYN2qvJnW4ZNmzYm+oWtiNeTa1rUAvMyWpRGavl+n79+tVp9trZW7dundO1a9fpGtfy5/cCRu/Uilejkm5Z8RtBNTjpXrWS3LJly5YZemHPQXXrWqB5rBesXLlyYxyrpy3WWJab1NpSr2j258XDzZEhAAEIQAACEIAABMqdgN/919jY+G09TN+tFpOf6Hxb4+cs//UydRnrrWELD06aNGmkHrqP0Ped8lPf1wRRL5Y7m2zPr2SDFbWSDJNhPy/1URPacs0Ctl6DlhYocLlLAcnbcRB+o70CmAt37do1V2+1354tIMpDAAIQgAAEIAABCEDgkxCQH/p5df36isalzK+trd0S34fHTuuBe7UCmYfUHex6Lf9GPX+u7tWr1/cWLVrEhE8JsCMZrGgWr94KMM6T0for2uymAGSblt+pr69fo7p7LusT9DKehTL+U5rpa6Ci1iUqM1fvVrlf70h5y+fnAfbKu15ltmu2hcWf5AJjGwhAAAIQgAAEIAABCLSHgH1StZpMU0DyfqJP6oBFPX+6aKKnR2J+7SMau3KmWlwe8PFC+MPtqVbJbBupYEVTu31B0w//SIHKUL035UD//v07KRLtrBaT5oaGhoObN2/urNm+nlK/vlcUvGzQ8t8rWPmeLoA7RHyRBtdvMHlPZax1X96zZ8+8559/fmvJWIOKQgACEIAABCAAAQiUJQF1/zpPD9KvUI+gefEJoNSqcrUerB/SRFGrtG6GHtLvfvfdd9f36NHj5kz+8Pbt22/W1MllPyg/EsGKApNPVVdXP6nA5Kzp06d3HzNmTIWCkTYX6o4dOyr0ltAWNaOdoNaUVxW0fEnBykxFoYsfe+yx9Zrpq1LGvlHft7lZrc0OyIAABCAAAQhAAAIQgECRCPgdgBqAf4OGMax/4oknnnQ11KoyWd9bFLQ0KZCpkX87eNq0aZ0z+cNLliw5qOBmdl1d3dwinc7xcVi9DGfg6NGjty5cuLBZRlILWeaklpZWNantPf/88/+oAGVYzNBnX3rppfdI/Y8PcpwlBCAAAQhAAAIQgEApElCAMkFaMG7cuF6u/wUXXHCjgpMdNTU1DloyO8MqYX9YA/Sbxo4d+6h20aEUOYSpc1FbVvr06dNdL8h5/brrrht41VVXdQxT4XgZRZIVU6dO3bdhw4b7Ne3bRkWknTR18d1af8yc1tnsk7IQgAAEIAABCEAAAhAoBAE9eO+p8dbTFXes27lz5+3yawdPnjw5q6DD/vC11167V9Me37dmzZqbClHv4+oYigQXz5o1a1+o8DGgkAzbqoi0Ra0rXz6uwHGyEIAABCAAAQhAAAJlQUA9hX45c+bMcM0pKfzh8ePHN6mL2eiyABKVk9A7UT6j5q69u3fvDsAePmvFihWtClb+JyrnRT0gAAEIQAACEIAABCAQhgD+cGZKWTU1Zd5d+BLqAjb1yiuv7FRVVRV+o4CSEyZMqNAg+0EjR448I2A1WRCAAAQgAAEIQAACEIgkAfzhzGYpWrBy0kknTVIXrqzGqQSdTocOHSouvvjiLpo97PKg9eRBAAIQgAAEIAABCEAgigTwhzNbpVjBSme9BKfvkCFDMtcwRInhw4d30jRvo0IUpQgEIAABCEAAAhCAAASiQAB/OIQVihKsaLrifnqnSrNm8ApRxcxF1IRWoWneTslckhIQgAAEIAABCEAAAhAoPgH84XA2KEqwolaQVgUquYlUdJ4ajl+h3bWGO2VKQQACEIAABCAAAQhAoLgE8IfD8S9KsFJfX9+4Z8+eLg4ycpG2b99eobErW3OxL/YBAQhAAAIQgAAEIACBfBPAHw5HuCjBiqp2oLKy8k/r168PV8sMpdauXduiMTC/zVCM1RCAAAQgAAEIQAACEIgKAfzhEJYoVrBSoTd2/mz16tUHQ9QxbZFDhw5VLF++fH9LS8vStAVZCQEIQAACEIAABCAAgQgRwB/ObIyiBStNTU0PPP744y16KWTmWqYp8eyzz7YqUNn42muvvZGmGKsgAAEIQAACEIAABCAQKQL4w5nNUbRgZd26dQ0aZ1K7YMGC5szVDC6xa9euCm2/V1HpvwaXIBcCEIAABCAAAQhAAALRJIA/HE27JNaq25gxY96sra1t0WD7rJIClNYpU6Z8NGrUqDujf5rUEAIQgAAEIAABCEAAAoEE8IcDsUQkU3NMD1TAsWX+/PnN6s4VKmBpbGxsnThxYtPYsWMf1WkUrXUoIgipBgQgAAEIQAACEIBACRPAH4648QYNGlStFpbnLrrooiaPQdm/f39g0KIpilvvu+++A+eee+5H55xzzncjflpUDwIQgAAEIAABCEAAAqEI4A8HY8rZixmDd59d7ogRI8ZXV1fPVbAyTKl5wIABnaqqqrqoJaW5oaHh4KZNmzp17tx5maYpnlFXV7c5u71TGgIQgAAEIAABCEAAAtEmgD98rH0iFazEqzZkyJBeCkpGdezYccDHH3/cXdMTb9Py2xqQ/7JeoNMS7UuM2kEAAhCAAAQgAAEIQKB9BPCH28ePrSEAAQhAAAIQgAAEIAABCEAAAhCAAAQgAAEIQAACEIAABCAAAQhAAAIQgAAEIAABCEAAAhCAAAQgAAEIQAACEIAABCAAAQhAAAIQgAAEIAABCEAAAhCAAAQgAAEIQAACEIAABCAAAQhAAAIQgAAEIAABCEAAAhCAAAQgAAEIQAACEIAABCAAAQhAAAIQgAAEIAABCEAAAhCAAAQgAAEIQAACEIAABCAAAQhAAAIQgAAEIAABCEAAAhCAAAQgAAEIQAACEIAABCAAAQhAAAIQgAAEIAABCEAAAhCAAAQgAAEIQAACEIAABCAAAQhAAAIQgAAEIAABCEAAAhCAAAQgAAEIQAACEIAABCAAAQhAAAIQgAAEIAABCEAAAhCAAAQgAAEIQAACEIAABCAAAQhAAAIQgAAEIAABCEAAAhCAAAQgAAEIQAACEIAABCAAAQhAAAIQgAAEIAABCEAAAhCAAAQgAAEIQAACEIAABCAAAQhAAAIQgAAEIAABCEAAAhCAAAQgAAEIQAACEIAABCAAAQhAAAIQgAAEIAABCECgtAmcoer/LqbhBTiVv9Mx1ku/l84rwPHac4hLtPEKaaX0nLRcWi0tkS5vz44LsO25OsYG6UVpaOx4l+lzn/SQdHIs7xl9jowtxz9Ga2GddGrI/KRiab9i/7R4Mq7ErhkRZSwQxfsau2Y0W8YC2DUjoj8X4Hc4PKugktyvQVSyy4vi/eozOEG6SZorfV/6iTQmu1PLWWnu0ySU9+j7j3OG9+iOvpFinzb+HSnW5Tu7qw7wb9IvpBdjshOfKv2jVnxTejpW4Ex9vizNieU7+wrpLulx6S+dEZH0mOoxI6ku/6vvFyXk/Y2WOwXUt0F5ycGKi6XKD9hFyqxys79P9NOSg8NCJOzalnI+7ms/kPDvon8r/AeW74Rd2xLOh1276DAPSGe1PVxecrBrW6z5sCv36xHO/L+2vd6yyfkPFb4tYYNuWq6X/BA3U0rl82bazutTbVtu9szoL3dMQ6tV66xcJjvBMyU/xU9Oh5RhFTr10AF/Lf1Bmi99GKvAliwq4laovdJs6RFpsXS+tEC6Wvpb6T0pCinIrsl5qRzs5hQnkCo/RfHA7HKzvx1Z34A7A88295nJNvQRkvOwa0VFe+/rVeL6pPRTqYP0ce5Necwek22IXfPze71fYLfn2ZaJu8eux8LO1/8w9+sRzvy/fvKb272LrpH6JeziIy3bz/ODKz+sTpXS+byptonnp9u23OyZ0V/2n22YNFGF7MxPkl6T/jO20bX6fEn6jvSOVCt5n1OluFPgbl12ZntLbjbrK7kVo48UJnVXIV8UPsZzse1u12eLNCy2A+9vXmzZLR7TpRelEdLXpD9K06S3pROlxOQmPXdBmyw5aHk9pmz+uPxD+ynJkbcDF6efSTXSOZIj8FJJbmJ8VYo/MTCX70rmm3izpspP5p/q2gnLo1Tt7yB1SdiTLEA57Hrk3m7vfb1Hthov+UFEvgOVMJcFds2NXcOwLmQZ7Jobu3K/pr9q+X9Nz8drvyhtlXYkFbWvZx/TflEYn3eWyuEvV1Tk3F++W2Atp56SWw6GSHb2bbS/kP5acouBI8AqaZN0peTAJPEJppedVyntkoKSA5I5ASsmKM/dqZzc9GUn2QHRm5Lr43SzZAAeZ+FlJwcpDj5crwPSZ6XPHV5zbHIgM0rqmKR0XTzi3cBe0DYes+ILeaP0L1I8GHo6tr+v6tN1iUp6VBXxmBtziss2vDChgvFgxXZdFss38/elU6VU+UH8U107CYc7vFhu9v+5zulhyc6xW1jynbDrsYTzdV/7wchT0iLptHwbVfvHroWxq7u9Piz5/6sQCbsWxq7cr0c48//6ye9q+59+SJ+c3GPGLaTDpTA+L/5yO/xlO+hhkpvI7fDbAXCyc+vgwHnuNrXhSHbFE/q0w/p87HsuPp7VTjzw/uvSAMl9i90E9oDklp3rJfcf9BOUcVJfaYrUS9osOchyPf9PCkoOoOy8+6JLTDfpy4NBGyTkuSlwimSHfp00TIo/bTWDf5cGSQulKKVfqTJzEyo0JalyHnDv5Ja0tbFlM9+WIT+If6prJ/kpRWzXbT5K1f4OaJ3+W/K4pUIk7HqUcr7u6xodwipkwq75t6tb6qcU0qg6FnbNv125X9Nf1Py/pufjtX5I+1cBxex3OjUGrAvKwl9uh78cNlgJAh/U8mAH1PnJjn/Q9mHy3Lzmwek3SN+U3DQeT25lcfetZ6TfxjJ9Pg6cHo59d2CTKa1RAT/l+kWmginW+8m5Axu3nvh4DtbqpKgFKCmqnzbbrWcnBpRIlR/EP+g6CcoLOMzh5tVStX/8fM4KOrEi56WyX6p87Hr0vi6y6dIePpX9UuVjV+ya9oKKrSyH3+Ew51noMqnuy1T53K9t79dC/L+u1IUxW3LAEn9g62vFLSr29fzw3g/Hs034y1n4y+7akyp5XRinsntCuaFadvDgFodqyZHnqVJX6STJrQ5ubvd+PcYjMfl4yfXx02k/3Xfk6m3dauIyPuZOyceaL/npgJOfVM2Qxkr9JfcjdErebyz78McPJO/jC1KY803cNr78ihZOkWqlW4IKRCgvyK5Bea6yZzibKLkrl9k4GLNS5afi731lStg/E6H064NsGJTnvaSyX6p87Fq8+zrIhkF52DX9/ZG4Ngq/10E2DMrDrtg1/r/L73Bxfod/p0twieSH0vFk39b+pXv2OIX1efGXKypy+vvriNEG8sDwM6R/kg5K/yCdLe2Wvi19WnLQYCNeF5M+Dqf7pQbpnyXvx+M5nJ6T3JJRFfvuD7eYuJXE5T1w1a0SDkDmSg48HM26JcWDvB2g2Hl2clR9T2w5/uFg4QNpreQ+5VdIbulx0JMqfU4rVkjezmNqrGtSFL5E+Y6m35BcL49N8YU7UlonvS85Eq+UopZsO7c8uYvakFjlvqTPfZK7vJ0seWzPFuk2ya0qP5b+IN0u2Y43Sg5cgvKVfThYS+Sf6tpx2XjC/ok0sl/GrsHMSv2+xq7Yld/h4Gsgiv/D3K/Btir132GflVu1fijdLc2SPAZoVNLpZvJ57Y/iLxfJX3aw4gCjWGmCDlyIZsBinR/HTU8A+6fnU6prsWupWi59vbFrej6luha7lqrl0tcbu6bnk+1a/OVsiSWUd7NzKaYBqrRbfzyg2wOYSccXAexfnvbGrti1PAmU51lxv2LX8iRQXmd13N+nDnTcX69JOq/AtnVXo43SmQU+LoeLBgHsHw075LoW2DXXRKOxP+waDTvkuhbYNddEo7E/7Jp7O+Av554pe4QABCAAAQhAAAIQgAAEIAABCEAAAhCAAAQgAAEIQAACEIAABCAAAQhAAAIQgAAEIAABCEAAAhCAAAQgAAEIQAACEIAABCAAAQhAAAIQgAAEIAABCEAAAhCAAAQgAAEIQAACEIAABCAAAQhAAAIQgAAEIAABCEAAAhCAAAQgAAEIQAACEIAABCAAAQhAAAIQgAAEIAABCEAAAhCAAAQgAAEIQAACEIAABCAAAQhAAAIQgAAEIAABCEAAAhCAQK4I/D+OHL0zuDIquQAAAABJRU5ErkJggg==)"
      ]
    },
    {
      "cell_type": "code",
      "execution_count": null,
      "metadata": {
        "id": "1oO2wH8ACtO7"
      },
      "outputs": [],
      "source": [
        "class AutoEncoder(nn.Module):\n",
        "    def __init__(self, layer_feature_counts):\n",
        "        \"\"\"\n",
        "        Args:\n",
        "            layer_feature_counts: A list, containing the number of features at each layer\n",
        "        \"\"\"\n",
        "        super().__init__()\n",
        "        \n",
        "        encoder_layers = []\n",
        "        for i in range(len(layer_feature_counts) - 1):\n",
        "            encoder_layers.append(nn.Linear(in_features=layer_feature_counts[i], out_features=layer_feature_counts[i+1]))\n",
        "            encoder_layers.append(nn.ReLU())\n",
        "        self.encoder = nn.Sequential(*encoder_layers)\n",
        "\n",
        "        # reverse the feature count list for decoder\n",
        "        layer_feature_counts = layer_feature_counts[::-1]\n",
        "\n",
        "        decoder_layers = []\n",
        "        for i in range(len(layer_feature_counts) - 1):\n",
        "            decoder_layers.append(nn.Linear(in_features=layer_feature_counts[i], out_features=layer_feature_counts[i+1]))\n",
        "            decoder_layers.append(nn.ReLU())\n",
        "        self.decoder = nn.Sequential(*decoder_layers)\n",
        "\n",
        "    def forward(self, x):\n",
        "        encoding = self.encoder(x)\n",
        "        decoded = self.decoder(encoding)\n",
        "\n",
        "        return decoded"
      ]
    },
    {
      "cell_type": "markdown",
      "metadata": {
        "id": "u0pScHf9ICo9"
      },
      "source": [
        "## Architecture\n",
        "\n",
        "Note that the decoder doesn't necessarily need to have the reversed layout of the encoder, only the input and output dimensions matter. For simplicity here, we use the same number of features in both"
      ]
    },
    {
      "cell_type": "code",
      "execution_count": null,
      "metadata": {
        "colab": {
          "base_uri": "https://localhost:8080/"
        },
        "id": "nkp1abKCIG7e",
        "outputId": "5fbbf321-6ed0-47ae-903b-c08d89d4e97f"
      },
      "outputs": [
        {
          "name": "stdout",
          "output_type": "stream",
          "text": [
            "[784, 256, 64, 16]\n"
          ]
        }
      ],
      "source": [
        "# @title Embedding Feature Count {\"run\": \"auto\"}\n",
        "# input size\n",
        "inp_size = reduce(op.mul, train_set[0][0].size(), 1)\n",
        "# output / compressed size\n",
        "out_size = 16 # @param {type:\"integer\"}\n",
        "\n",
        "# you can play around with these values\n",
        "# make sure you don't mess up the input dimension\n",
        "layer_feature_counts = [inp_size, 256, 64, out_size]\n",
        "print(layer_feature_counts)"
      ]
    },
    {
      "cell_type": "code",
      "execution_count": null,
      "metadata": {
        "colab": {
          "base_uri": "https://localhost:8080/"
        },
        "id": "SaNV4J6jGpHA",
        "outputId": "d4d06fdc-5216-4676-c0fc-e7ff93c7431a"
      },
      "outputs": [
        {
          "name": "stdout",
          "output_type": "stream",
          "text": [
            "AutoEncoder(\n",
            "  (encoder): Sequential(\n",
            "    (0): Linear(in_features=784, out_features=256, bias=True)\n",
            "    (1): ReLU()\n",
            "    (2): Linear(in_features=256, out_features=64, bias=True)\n",
            "    (3): ReLU()\n",
            "    (4): Linear(in_features=64, out_features=16, bias=True)\n",
            "    (5): ReLU()\n",
            "  )\n",
            "  (decoder): Sequential(\n",
            "    (0): Linear(in_features=16, out_features=64, bias=True)\n",
            "    (1): ReLU()\n",
            "    (2): Linear(in_features=64, out_features=256, bias=True)\n",
            "    (3): ReLU()\n",
            "    (4): Linear(in_features=256, out_features=784, bias=True)\n",
            "    (5): ReLU()\n",
            "  )\n",
            ")\n"
          ]
        }
      ],
      "source": [
        "ae = AutoEncoder(layer_feature_counts)\n",
        "print(ae)"
      ]
    },
    {
      "cell_type": "markdown",
      "metadata": {
        "id": "Twotn9J3O2HL"
      },
      "source": [
        "## Training setup"
      ]
    },
    {
      "cell_type": "code",
      "execution_count": null,
      "metadata": {
        "id": "kuTRW62KO3co"
      },
      "outputs": [],
      "source": [
        "# @title Hyperparams {\"run\": \"auto\"}\n",
        "n_epochs = 20# @param {\"type\":\"integer\"}\n",
        "learning_rate = 1e-3# @param {\"type\": \"number\"}\n",
        "loss_fn = nn.MSELoss()\n",
        "optim_fn = optim.Adam\n",
        "\n",
        "device = \"cuda\" if torch.cuda.is_available() else \"cpu\""
      ]
    },
    {
      "cell_type": "markdown",
      "metadata": {
        "id": "nDGEnsS7PB5p"
      },
      "source": [
        "## Training the model"
      ]
    },
    {
      "cell_type": "code",
      "execution_count": null,
      "metadata": {
        "id": "kPSThwnVJIkc"
      },
      "outputs": [],
      "source": [
        "def compare_outputs(model, img):\n",
        "    to_pil = transforms.ToPILImage()\n",
        "    orig_img = to_pil(img)\n",
        "\n",
        "    # encode the actual image\n",
        "    encoding = model.encoder(img.to(device).view(-1))\n",
        "\n",
        "    # -----\n",
        "    # send the image to the other device...\n",
        "    # -----\n",
        "\n",
        "    # decode the embedding\n",
        "    decoded = model.decoder(encoding)\n",
        "\n",
        "    decoded_img = to_pil(decoded.view(*img.size()))\n",
        "    plt.imshow(np.hstack([orig_img, decoded_img]), cmap=\"gray\")\n",
        "    plt.show()\n",
        "    return encoding, decoded_img"
      ]
    },
    {
      "cell_type": "code",
      "execution_count": null,
      "metadata": {
        "id": "CmaOXlvVJUyE"
      },
      "outputs": [],
      "source": [
        "img = test_set[0][0]"
      ]
    },
    {
      "cell_type": "code",
      "execution_count": null,
      "metadata": {
        "id": "JelP4HczPDEn"
      },
      "outputs": [],
      "source": [
        "def train(model, train_loader, n_epochs, lr, criterion, optim_fn, device):\n",
        "    model = model.to(device)\n",
        "    optimizer = optim_fn(model.parameters(), lr)\n",
        "    loss_history = []\n",
        "\n",
        "    with tqdm(range(n_epochs)) as prog_bar:\n",
        "        for epoch in prog_bar:\n",
        "            epoch_loss = 0\n",
        "    \n",
        "            # we are ignoring the labels\n",
        "            for x, _ in train_loader:\n",
        "                # move to correct device and flatten the image\n",
        "                x = x.to(device).view(x.size(0), -1)\n",
        "                optimizer.zero_grad()\n",
        "    \n",
        "                # the decoded encoder output\n",
        "                out = model(x)\n",
        "    \n",
        "                loss = criterion(out, x)\n",
        "                loss.backward()\n",
        "                optimizer.step()\n",
        "    \n",
        "                epoch_loss += loss\n",
        "            \n",
        "            epoch_loss /= len(train_loader)\n",
        "            prog_bar.set_description(f\"loss: {epoch_loss}\")\n",
        "            loss_history.append(epoch_loss.detach())\n",
        "\n",
        "            if(epoch%1==0):\n",
        "              print(\"Output after \",epoch+1,\" Epochs\")\n",
        "              encoding, _ = compare_outputs(ae, img)\n",
        "    \n",
        "    return loss_history"
      ]
    },
    {
      "cell_type": "code",
      "execution_count": null,
      "metadata": {
        "colab": {
          "base_uri": "https://localhost:8080/",
          "height": 1000,
          "referenced_widgets": [
            "e61ba3e5b1894986ba0bb615013d8dea",
            "dbf3c123d17b4d37a9dba4bcc0ed5a5d",
            "3f578a0324af4721ba5c0bc87066f4e7",
            "9d8c06b065cb415e82fa3b36727657b0",
            "d48c93677d794499b4f07f276c908bd9",
            "25fe3e9471214b76b8e2645cf47de5a6",
            "8e6ff611100a41d08da95dbee2f5f36c",
            "5bfb06c9971e4438bed0606c71d94b8a",
            "42bb6d5186854e67953f72ffb3e710a3",
            "8bd25cfec1cd42c19096ad21bcdf83a2",
            "2f95d725a2144ea696d967955a28baae"
          ]
        },
        "id": "RbR5NsmaR3JZ",
        "outputId": "f6b98a7e-d8bc-4ef1-8b55-49746bc003d1"
      },
      "outputs": [
        {
          "output_type": "display_data",
          "data": {
            "text/plain": [
              "  0%|          | 0/20 [00:00<?, ?it/s]"
            ],
            "application/vnd.jupyter.widget-view+json": {
              "version_major": 2,
              "version_minor": 0,
              "model_id": "e61ba3e5b1894986ba0bb615013d8dea"
            }
          },
          "metadata": {}
        },
        {
          "output_type": "stream",
          "name": "stdout",
          "text": [
            "Output after  1  Epochs\n"
          ]
        },
        {
          "output_type": "display_data",
          "data": {
            "text/plain": [
              "<Figure size 432x288 with 1 Axes>"
            ],
            "image/png": "[encoded data removed]"
          },
          "metadata": {
            "needs_background": "light"
          }
        },
        {
          "output_type": "stream",
          "name": "stdout",
          "text": [
            "Output after  2  Epochs\n"
          ]
        },
        {
          "output_type": "display_data",
          "data": {
            "text/plain": [
              "<Figure size 432x288 with 1 Axes>"
            ],
            "image/png": "[encoded data removed]"
          },
          "metadata": {
            "needs_background": "light"
          }
        },
        {
          "output_type": "stream",
          "name": "stdout",
          "text": [
            "Output after  3  Epochs\n"
          ]
        },
        {
          "output_type": "display_data",
          "data": {
            "text/plain": [
              "<Figure size 432x288 with 1 Axes>"
            ],
            "image/png": "[encoded data removed]"
          },
          "metadata": {
            "needs_background": "light"
          }
        },
        {
          "output_type": "stream",
          "name": "stdout",
          "text": [
            "Output after  4  Epochs\n"
          ]
        },
        {
          "output_type": "display_data",
          "data": {
            "text/plain": [
              "<Figure size 432x288 with 1 Axes>"
            ],
            "image/png": "[encoded data removed]"
          },
          "metadata": {
            "needs_background": "light"
          }
        },
        {
          "output_type": "stream",
          "name": "stdout",
          "text": [
            "Output after  5  Epochs\n"
          ]
        },
        {
          "output_type": "display_data",
          "data": {
            "text/plain": [
              "<Figure size 432x288 with 1 Axes>"
            ],
            "image/png": "[encoded data removed]"
          },
          "metadata": {
            "needs_background": "light"
          }
        },
        {
          "output_type": "stream",
          "name": "stdout",
          "text": [
            "Output after  6  Epochs\n"
          ]
        },
        {
          "output_type": "display_data",
          "data": {
            "text/plain": [
              "<Figure size 432x288 with 1 Axes>"
            ],
            "image/png": "[encoded data removed]"
          },
          "metadata": {
            "needs_background": "light"
          }
        },
        {
          "output_type": "stream",
          "name": "stdout",
          "text": [
            "Output after  7  Epochs\n"
          ]
        },
        {
          "output_type": "display_data",
          "data": {
            "text/plain": [
              "<Figure size 432x288 with 1 Axes>"
            ],
            "image/png": "[encoded data removed]"
          },
          "metadata": {
            "needs_background": "light"
          }
        },
        {
          "output_type": "stream",
          "name": "stdout",
          "text": [
            "Output after  8  Epochs\n"
          ]
        },
        {
          "output_type": "display_data",
          "data": {
            "text/plain": [
              "<Figure size 432x288 with 1 Axes>"
            ],
            "image/png": "[encoded data removed]"
          },
          "metadata": {
            "needs_background": "light"
          }
        },
        {
          "output_type": "stream",
          "name": "stdout",
          "text": [
            "Output after  9  Epochs\n"
          ]
        },
        {
          "output_type": "display_data",
          "data": {
            "text/plain": [
              "<Figure size 432x288 with 1 Axes>"
            ],
            "image/png": "[encoded data removed]"
          },
          "metadata": {
            "needs_background": "light"
          }
        },
        {
          "output_type": "stream",
          "name": "stdout",
          "text": [
            "Output after  10  Epochs\n"
          ]
        },
        {
          "output_type": "display_data",
          "data": {
            "text/plain": [
              "<Figure size 432x288 with 1 Axes>"
            ],
            "image/png": "[encoded data removed]"
          },
          "metadata": {
            "needs_background": "light"
          }
        },
        {
          "output_type": "stream",
          "name": "stdout",
          "text": [
            "Output after  11  Epochs\n"
          ]
        },
        {
          "output_type": "display_data",
          "data": {
            "text/plain": [
              "<Figure size 432x288 with 1 Axes>"
            ],
            "image/png": "[encoded data removed]"
          },
          "metadata": {
            "needs_background": "light"
          }
        },
        {
          "output_type": "stream",
          "name": "stdout",
          "text": [
            "Output after  12  Epochs\n"
          ]
        },
        {
          "output_type": "display_data",
          "data": {
            "text/plain": [
              "<Figure size 432x288 with 1 Axes>"
            ],
            "image/png": "[encoded data removed]"
          },
          "metadata": {
            "needs_background": "light"
          }
        },
        {
          "output_type": "stream",
          "name": "stdout",
          "text": [
            "Output after  13  Epochs\n"
          ]
        },
        {
          "output_type": "display_data",
          "data": {
            "text/plain": [
              "<Figure size 432x288 with 1 Axes>"
            ],
            "image/png": "[encoded data removed]"
          },
          "metadata": {
            "needs_background": "light"
          }
        },
        {
          "output_type": "stream",
          "name": "stdout",
          "text": [
            "Output after  14  Epochs\n"
          ]
        },
        {
          "output_type": "display_data",
          "data": {
            "text/plain": [
              "<Figure size 432x288 with 1 Axes>"
            ],
            "image/png": "[encoded data removed]"
          },
          "metadata": {
            "needs_background": "light"
          }
        },
        {
          "output_type": "stream",
          "name": "stdout",
          "text": [
            "Output after  15  Epochs\n"
          ]
        },
        {
          "output_type": "display_data",
          "data": {
            "text/plain": [
              "<Figure size 432x288 with 1 Axes>"
            ],
            "image/png": "[encoded data removed]"
          },
          "metadata": {
            "needs_background": "light"
          }
        },
        {
          "output_type": "stream",
          "name": "stdout",
          "text": [
            "Output after  16  Epochs\n"
          ]
        },
        {
          "output_type": "display_data",
          "data": {
            "text/plain": [
              "<Figure size 432x288 with 1 Axes>"
            ],
            "image/png": "[encoded data removed]"
          },
          "metadata": {
            "needs_background": "light"
          }
        },
        {
          "output_type": "stream",
          "name": "stdout",
          "text": [
            "Output after  17  Epochs\n"
          ]
        },
        {
          "output_type": "display_data",
          "data": {
            "text/plain": [
              "<Figure size 432x288 with 1 Axes>"
            ],
            "image/png": "[encoded data removed]"
          },
          "metadata": {
            "needs_background": "light"
          }
        },
        {
          "output_type": "stream",
          "name": "stdout",
          "text": [
            "Output after  18  Epochs\n"
          ]
        },
        {
          "output_type": "display_data",
          "data": {
            "text/plain": [
              "<Figure size 432x288 with 1 Axes>"
            ],
            "image/png": "[encoded data removed]"
          },
          "metadata": {
            "needs_background": "light"
          }
        },
        {
          "output_type": "stream",
          "name": "stdout",
          "text": [
            "Output after  19  Epochs\n"
          ]
        },
        {
          "output_type": "display_data",
          "data": {
            "text/plain": [
              "<Figure size 432x288 with 1 Axes>"
            ],
            "image/png": "[encoded data removed]"
          },
          "metadata": {
            "needs_background": "light"
          }
        },
        {
          "output_type": "stream",
          "name": "stdout",
          "text": [
            "Output after  20  Epochs\n"
          ]
        },
        {
          "output_type": "display_data",
          "data": {
            "text/plain": [
              "<Figure size 432x288 with 1 Axes>"
            ],
            "image/png": "[encoded data removed]"
          },
          "metadata": {
            "needs_background": "light"
          }
        }
      ],
      "source": [
        "loss_history = train(ae, train_loader, n_epochs, learning_rate, loss_fn, optim_fn, device)"
      ]
    },
    {
      "cell_type": "markdown",
      "metadata": {
        "id": "llYKiZusT0Es"
      },
      "source": [
        "## Analysis\n",
        "Let's say that there is some application that needs to transfer a lot of MNIST images over the network. Instead of sending the full image (28x28 = 784), we have a compact encoding for the MNIST data (which only has 16 features).\n",
        "\n",
        "We encode the image, send over the embedding then decode it at the other side. The only setup needed is to transfer the model weights ONCE."
      ]
    },
    {
      "cell_type": "code",
      "execution_count": null,
      "metadata": {
        "colab": {
          "base_uri": "https://localhost:8080/"
        },
        "id": "KdPsDYQMGTU2",
        "outputId": "f1a6c20b-37ff-4bbb-a82c-66bbad596374"
      },
      "outputs": [
        {
          "output_type": "stream",
          "name": "stdout",
          "text": [
            "Number of parameters: 437664\n"
          ]
        }
      ],
      "source": [
        "# take note of this value\n",
        "# make changes and compare how many parameters your new modified autoencoder needs\n",
        "# note that this is not the number of values sent over the network\n",
        "# this represents the initial data transfer that must be done\n",
        "print(f\"Number of parameters: {sum(p.numel() for p in ae.parameters())}\")"
      ]
    },
    {
      "cell_type": "code",
      "execution_count": null,
      "metadata": {
        "colab": {
          "base_uri": "https://localhost:8080/",
          "height": 216
        },
        "id": "8lnAVPmXar5x",
        "outputId": "bc85a2e1-6c60-4150-fcad-81e48d2cb559"
      },
      "outputs": [
        {
          "output_type": "display_data",
          "data": {
            "text/plain": [
              "<Figure size 432x288 with 1 Axes>"
            ],
            "image/png": "[encoded data removed]"
          },
          "metadata": {
            "needs_background": "light"
          }
        }
      ],
      "source": [
        "encoding, _ = compare_outputs(ae, img)"
      ]
    },
    {
      "cell_type": "markdown",
      "metadata": {
        "id": "EWuBeaRNsonZ"
      },
      "source": [
        "# Comparison with PCA\n",
        "\n",
        "Now, we'll use PCA to try and achieve the same target and we'll compare and contrast these solutions\n",
        "\n",
        "We don't expect a PCA to do so well with such a low number of dimensions.\n",
        "\n",
        "Why?\n",
        "- PCA is essentially a linear transformation but Auto-encoders are capable of modelling complex non linear functions.\n",
        "- PCA features are totally linearly uncorrelated with each other since features are projections onto the orthogonal basis. But autoencoded features might have correlations since they are just trained for accurate reconstruction.\n",
        "- PCA is faster and computationally cheaper than autoencoders.\n",
        "- A single layered autoencoder with a linear activation function is very similar to PCA."
      ]
    },
    {
      "cell_type": "code",
      "execution_count": null,
      "metadata": {
        "colab": {
          "base_uri": "https://localhost:8080/",
          "height": 49,
          "referenced_widgets": [
            "52e81e5cc7184c5a90ac79562fe2b8d5",
            "f118d4c889d441ebb03b2412e8cfb8c8",
            "1ccb795433a64bc6809c38bc657961f8",
            "c7a05ca39f2348ce98f32d301a8ebe72",
            "f1074ef9b1834b4db3f697c28bccf988",
            "b913696960374d94b5f317df40c01a83",
            "dc25c89893d14369a5ef9f8ac44ec27e",
            "070f2d82a2df473f8cd3e23d7cd8c1e9",
            "570af9f6728145bc89aff83ca4b30508",
            "123bd15bd9f54a8a84b79e6540db9345",
            "3030a6e700404d45939ac825f57fa41f"
          ]
        },
        "id": "86XCwoTwswwI",
        "outputId": "52de73f6-5972-4945-aeec-a81809fbf1ee"
      },
      "outputs": [
        {
          "output_type": "display_data",
          "data": {
            "text/plain": [
              "  0%|          | 0/60000 [00:00<?, ?it/s]"
            ],
            "application/vnd.jupyter.widget-view+json": {
              "version_major": 2,
              "version_minor": 0,
              "model_id": "52e81e5cc7184c5a90ac79562fe2b8d5"
            }
          },
          "metadata": {}
        }
      ],
      "source": [
        "# convert data so that it can be processed by sklearn\n",
        "X = []\n",
        "for i in tqdm(range(len(train_set))):\n",
        "    X.append(train_set[i][0].flatten().numpy())\n",
        "\n",
        "X = np.array(X)"
      ]
    },
    {
      "cell_type": "code",
      "execution_count": null,
      "metadata": {
        "colab": {
          "base_uri": "https://localhost:8080/"
        },
        "id": "kVKdDrzYuYSw",
        "outputId": "5c9b307e-7dca-43a1-8060-7c4a88fa3eb2"
      },
      "outputs": [
        {
          "output_type": "execute_result",
          "data": {
            "text/plain": [
              "PCA(n_components=16)"
            ]
          },
          "metadata": {},
          "execution_count": 28
        }
      ],
      "source": [
        "pca = decomposition.PCA(n_components=out_size)\n",
        "pca.fit(X)"
      ]
    },
    {
      "cell_type": "code",
      "execution_count": null,
      "metadata": {
        "colab": {
          "base_uri": "https://localhost:8080/",
          "height": 519
        },
        "id": "35x8Sp6at-FG",
        "outputId": "1a59dec6-0964-43c4-c802-3f9a52905ab3"
      },
      "outputs": [
        {
          "output_type": "stream",
          "name": "stdout",
          "text": [
            "PCA ENCODING DECODING\n"
          ]
        },
        {
          "output_type": "display_data",
          "data": {
            "text/plain": [
              "<Figure size 432x288 with 1 Axes>"
            ],
            "image/png": "[encoded data removed]"
          },
          "metadata": {
            "needs_background": "light"
          }
        },
        {
          "output_type": "stream",
          "name": "stdout",
          "text": [
            "Autoencoder ENCODING DECODING\n"
          ]
        },
        {
          "output_type": "display_data",
          "data": {
            "text/plain": [
              "<Figure size 432x288 with 1 Axes>"
            ],
            "image/png": "[encoded data removed]"
          },
          "metadata": {
            "needs_background": "light"
          }
        },
        {
          "output_type": "execute_result",
          "data": {
            "text/plain": [
              "(tensor([0.0000, 0.0000, 1.4753, 1.9170, 0.0000, 3.8751, 2.2478, 0.0000, 2.2111,\n",
              "         0.0000, 1.9563, 3.6542, 0.0000, 1.9308, 2.7410, 4.5323],\n",
              "        device='cuda:0', grad_fn=<ReluBackward0>),\n",
              " <PIL.Image.Image image mode=L size=28x28 at 0x7F479736E150>)"
            ]
          },
          "metadata": {},
          "execution_count": 34
        }
      ],
      "source": [
        "def compare_sklearn_outputs(pca, X):\n",
        "    X_pca = pca.transform(X)\n",
        "    original = X[0]\n",
        "    X_pca_inv = pca.inverse_transform(X_pca)\n",
        "    pca_decoded = X_pca_inv[0]\n",
        "\n",
        "    original = original.reshape(1, 28, 28)\n",
        "    pca_decoded = pca_decoded.reshape(1, 28, 28)\n",
        "\n",
        "    to_pil = transforms.ToPILImage()\n",
        "    original = to_pil(torch.from_numpy(original))\n",
        "    pca_decoded = to_pil(torch.from_numpy(pca_decoded))\n",
        "    plt.imshow(np.hstack([original, pca_decoded]), cmap=\"gray\")\n",
        "    plt.show()\n",
        "\n",
        "print(\"PCA ENCODING DECODING\")\n",
        "compare_sklearn_outputs(pca, X)\n",
        "print(\"Autoencoder ENCODING DECODING\")\n",
        "compare_outputs(ae,img)\n"
      ]
    },
    {
      "cell_type": "markdown",
      "metadata": {
        "id": "kk-k3bAuaCDy"
      },
      "source": [
        "# Excercises\n",
        " - Think of ways to automatically try and detect how good the decoded outputs are\n",
        "    - An obvious but not-so-good idea can be using a classifier. Try to discuss why this isn't such a good idea\n",
        " - Try to play around with parameters, loss, etc and try to reach the most optimum quality-data tradeoff"
      ]
    },
    {
      "cell_type": "markdown",
      "metadata": {
        "id": "Fx8D95YPwX8c"
      },
      "source": [
        "## References\n",
        "- [Implementing an Autoencoder in PyTorch](https://medium.com/pytorch/implementing-an-autoencoder-in-pytorch-19baa22647d1)\n",
        "- https://scikit-learn.org/stable/modules/generated/sklearn.decomposition.PCA.html\n",
        "- https://towardsdatascience.com/autoencoders-vs-pca-when-to-use-which-73de063f5d7"
      ]
    }
  ],
  "metadata": {
    "accelerator": "GPU",
    "colab": {
      "collapsed_sections": [],
      "provenance": []
    },
    "gpuClass": "standard",
    "kernelspec": {
      "display_name": "Python 3",
      "name": "python3"
    },
    "language_info": {
      "name": "python"
    },
    "widgets": {
      "application/vnd.jupyter.widget-state+json": {
        "086a15f376174600bc46f4e498b5c4dd": {
          "model_module": "@jupyter-widgets/controls",
          "model_module_version": "1.5.0",
          "model_name": "HTMLModel",
          "state": {
            "_dom_classes": [],
            "_model_module": "@jupyter-widgets/controls",
            "_model_module_version": "1.5.0",
            "_model_name": "HTMLModel",
            "_view_count": null,
            "_view_module": "@jupyter-widgets/controls",
            "_view_module_version": "1.5.0",
            "_view_name": "HTMLView",
            "description": "",
            "description_tooltip": null,
            "layout": "IPY_MODEL_cd59738f243446d1a5d778f5e36de7a5",
            "placeholder": "​",
            "style": "IPY_MODEL_d3633af58e1a4e04a9e3eb0b6dbe3488",
            "value": "100%"
          }
        },
        "1c32f5ccb8034fadb4bcbf32fbbc68b1": {
          "model_module": "@jupyter-widgets/controls",
          "model_module_version": "1.5.0",
          "model_name": "HTMLModel",
          "state": {
            "_dom_classes": [],
            "_model_module": "@jupyter-widgets/controls",
            "_model_module_version": "1.5.0",
            "_model_name": "HTMLModel",
            "_view_count": null,
            "_view_module": "@jupyter-widgets/controls",
            "_view_module_version": "1.5.0",
            "_view_name": "HTMLView",
            "description": "",
            "description_tooltip": null,
            "layout": "IPY_MODEL_948ecb463ae94c2bbe2cf4c0e4df306f",
            "placeholder": "​",
            "style": "IPY_MODEL_2e2f5f8b9bd74b6bb2b589502eb89d67",
            "value": " 28881/28881 [00:00&lt;00:00, 934465.47it/s]"
          }
        },
        "1e52317209c144bdafbab1386751f38a": {
          "model_module": "@jupyter-widgets/controls",
          "model_module_version": "1.5.0",
          "model_name": "HTMLModel",
          "state": {
            "_dom_classes": [],
            "_model_module": "@jupyter-widgets/controls",
            "_model_module_version": "1.5.0",
            "_model_name": "HTMLModel",
            "_view_count": null,
            "_view_module": "@jupyter-widgets/controls",
            "_view_module_version": "1.5.0",
            "_view_name": "HTMLView",
            "description": "",
            "description_tooltip": null,
            "layout": "IPY_MODEL_d480450075ff47f494bb27ce7e2b37c1",
            "placeholder": "​",
            "style": "IPY_MODEL_c4a3add6ae514ac18a78a7fa63f345fc",
            "value": " 9912422/9912422 [00:00&lt;00:00, 63400799.89it/s]"
          }
        },
        "27bbf4a97eaf42b8926c4d53bcc8b1f8": {
          "model_module": "@jupyter-widgets/base",
          "model_module_version": "1.2.0",
          "model_name": "LayoutModel",
          "state": {
            "_model_module": "@jupyter-widgets/base",
            "_model_module_version": "1.2.0",
            "_model_name": "LayoutModel",
            "_view_count": null,
            "_view_module": "@jupyter-widgets/base",
            "_view_module_version": "1.2.0",
            "_view_name": "LayoutView",
            "align_content": null,
            "align_items": null,
            "align_self": null,
            "border": null,
            "bottom": null,
            "display": null,
            "flex": null,
            "flex_flow": null,
            "grid_area": null,
            "grid_auto_columns": null,
            "grid_auto_flow": null,
            "grid_auto_rows": null,
            "grid_column": null,
            "grid_gap": null,
            "grid_row": null,
            "grid_template_areas": null,
            "grid_template_columns": null,
            "grid_template_rows": null,
            "height": null,
            "justify_content": null,
            "justify_items": null,
            "left": null,
            "margin": null,
            "max_height": null,
            "max_width": null,
            "min_height": null,
            "min_width": null,
            "object_fit": null,
            "object_position": null,
            "order": null,
            "overflow": null,
            "overflow_x": null,
            "overflow_y": null,
            "padding": null,
            "right": null,
            "top": null,
            "visibility": null,
            "width": null
          }
        },
        "2e2f5f8b9bd74b6bb2b589502eb89d67": {
          "model_module": "@jupyter-widgets/controls",
          "model_module_version": "1.5.0",
          "model_name": "DescriptionStyleModel",
          "state": {
            "_model_module": "@jupyter-widgets/controls",
            "_model_module_version": "1.5.0",
            "_model_name": "DescriptionStyleModel",
            "_view_count": null,
            "_view_module": "@jupyter-widgets/base",
            "_view_module_version": "1.2.0",
            "_view_name": "StyleView",
            "description_width": ""
          }
        },
        "343f11016a2e4ae69e8ae7e51978acaa": {
          "model_module": "@jupyter-widgets/controls",
          "model_module_version": "1.5.0",
          "model_name": "HTMLModel",
          "state": {
            "_dom_classes": [],
            "_model_module": "@jupyter-widgets/controls",
            "_model_module_version": "1.5.0",
            "_model_name": "HTMLModel",
            "_view_count": null,
            "_view_module": "@jupyter-widgets/controls",
            "_view_module_version": "1.5.0",
            "_view_name": "HTMLView",
            "description": "",
            "description_tooltip": null,
            "layout": "IPY_MODEL_70c0d44cc27f40429bd9d7493a52c1b0",
            "placeholder": "​",
            "style": "IPY_MODEL_9a8c40e3c4dc4020970bccb17259e1ad",
            "value": "100%"
          }
        },
        "4391b628381440f080478c982f0e4506": {
          "model_module": "@jupyter-widgets/controls",
          "model_module_version": "1.5.0",
          "model_name": "HTMLModel",
          "state": {
            "_dom_classes": [],
            "_model_module": "@jupyter-widgets/controls",
            "_model_module_version": "1.5.0",
            "_model_name": "HTMLModel",
            "_view_count": null,
            "_view_module": "@jupyter-widgets/controls",
            "_view_module_version": "1.5.0",
            "_view_name": "HTMLView",
            "description": "",
            "description_tooltip": null,
            "layout": "IPY_MODEL_a2cd1f7584014d409d6b583da11fd66a",
            "placeholder": "​",
            "style": "IPY_MODEL_7dde251ab50d471faabed287c6d83e90",
            "value": " 1648877/1648877 [00:00&lt;00:00, 45292786.16it/s]"
          }
        },
        "4febbb94933440e997dc722cb4aecb80": {
          "model_module": "@jupyter-widgets/base",
          "model_module_version": "1.2.0",
          "model_name": "LayoutModel",
          "state": {
            "_model_module": "@jupyter-widgets/base",
            "_model_module_version": "1.2.0",
            "_model_name": "LayoutModel",
            "_view_count": null,
            "_view_module": "@jupyter-widgets/base",
            "_view_module_version": "1.2.0",
            "_view_name": "LayoutView",
            "align_content": null,
            "align_items": null,
            "align_self": null,
            "border": null,
            "bottom": null,
            "display": null,
            "flex": null,
            "flex_flow": null,
            "grid_area": null,
            "grid_auto_columns": null,
            "grid_auto_flow": null,
            "grid_auto_rows": null,
            "grid_column": null,
            "grid_gap": null,
            "grid_row": null,
            "grid_template_areas": null,
            "grid_template_columns": null,
            "grid_template_rows": null,
            "height": null,
            "justify_content": null,
            "justify_items": null,
            "left": null,
            "margin": null,
            "max_height": null,
            "max_width": null,
            "min_height": null,
            "min_width": null,
            "object_fit": null,
            "object_position": null,
            "order": null,
            "overflow": null,
            "overflow_x": null,
            "overflow_y": null,
            "padding": null,
            "right": null,
            "top": null,
            "visibility": null,
            "width": null
          }
        },
        "52745d4cbbed487ab4cfa0f119d34b2d": {
          "model_module": "@jupyter-widgets/controls",
          "model_module_version": "1.5.0",
          "model_name": "FloatProgressModel",
          "state": {
            "_dom_classes": [],
            "_model_module": "@jupyter-widgets/controls",
            "_model_module_version": "1.5.0",
            "_model_name": "FloatProgressModel",
            "_view_count": null,
            "_view_module": "@jupyter-widgets/controls",
            "_view_module_version": "1.5.0",
            "_view_name": "ProgressView",
            "bar_style": "success",
            "description": "",
            "description_tooltip": null,
            "layout": "IPY_MODEL_4febbb94933440e997dc722cb4aecb80",
            "max": 4542,
            "min": 0,
            "orientation": "horizontal",
            "style": "IPY_MODEL_e21871363e5246d7adb4a171225c320a",
            "value": 4542
          }
        },
        "53aceca5214745f8949d9eb8562c42b9": {
          "model_module": "@jupyter-widgets/base",
          "model_module_version": "1.2.0",
          "model_name": "LayoutModel",
          "state": {
            "_model_module": "@jupyter-widgets/base",
            "_model_module_version": "1.2.0",
            "_model_name": "LayoutModel",
            "_view_count": null,
            "_view_module": "@jupyter-widgets/base",
            "_view_module_version": "1.2.0",
            "_view_name": "LayoutView",
            "align_content": null,
            "align_items": null,
            "align_self": null,
            "border": null,
            "bottom": null,
            "display": null,
            "flex": null,
            "flex_flow": null,
            "grid_area": null,
            "grid_auto_columns": null,
            "grid_auto_flow": null,
            "grid_auto_rows": null,
            "grid_column": null,
            "grid_gap": null,
            "grid_row": null,
            "grid_template_areas": null,
            "grid_template_columns": null,
            "grid_template_rows": null,
            "height": null,
            "justify_content": null,
            "justify_items": null,
            "left": null,
            "margin": null,
            "max_height": null,
            "max_width": null,
            "min_height": null,
            "min_width": null,
            "object_fit": null,
            "object_position": null,
            "order": null,
            "overflow": null,
            "overflow_x": null,
            "overflow_y": null,
            "padding": null,
            "right": null,
            "top": null,
            "visibility": null,
            "width": null
          }
        },
        "542feb81e61d42b89772848030797171": {
          "model_module": "@jupyter-widgets/controls",
          "model_module_version": "1.5.0",
          "model_name": "ProgressStyleModel",
          "state": {
            "_model_module": "@jupyter-widgets/controls",
            "_model_module_version": "1.5.0",
            "_model_name": "ProgressStyleModel",
            "_view_count": null,
            "_view_module": "@jupyter-widgets/base",
            "_view_module_version": "1.2.0",
            "_view_name": "StyleView",
            "bar_color": null,
            "description_width": ""
          }
        },
        "55ccec46952f44c7ba1beccb26d40755": {
          "model_module": "@jupyter-widgets/controls",
          "model_module_version": "1.5.0",
          "model_name": "ProgressStyleModel",
          "state": {
            "_model_module": "@jupyter-widgets/controls",
            "_model_module_version": "1.5.0",
            "_model_name": "ProgressStyleModel",
            "_view_count": null,
            "_view_module": "@jupyter-widgets/base",
            "_view_module_version": "1.2.0",
            "_view_name": "StyleView",
            "bar_color": null,
            "description_width": ""
          }
        },
        "5606eb81d03c4dffb80670c3ccdc1069": {
          "model_module": "@jupyter-widgets/controls",
          "model_module_version": "1.5.0",
          "model_name": "FloatProgressModel",
          "state": {
            "_dom_classes": [],
            "_model_module": "@jupyter-widgets/controls",
            "_model_module_version": "1.5.0",
            "_model_name": "FloatProgressModel",
            "_view_count": null,
            "_view_module": "@jupyter-widgets/controls",
            "_view_module_version": "1.5.0",
            "_view_name": "ProgressView",
            "bar_style": "success",
            "description": "",
            "description_tooltip": null,
            "layout": "IPY_MODEL_e188a09d52a745baa2c969a575547490",
            "max": 9912422,
            "min": 0,
            "orientation": "horizontal",
            "style": "IPY_MODEL_55ccec46952f44c7ba1beccb26d40755",
            "value": 9912422
          }
        },
        "5b5f516d5aa445f6a62202b8366e3544": {
          "model_module": "@jupyter-widgets/base",
          "model_module_version": "1.2.0",
          "model_name": "LayoutModel",
          "state": {
            "_model_module": "@jupyter-widgets/base",
            "_model_module_version": "1.2.0",
            "_model_name": "LayoutModel",
            "_view_count": null,
            "_view_module": "@jupyter-widgets/base",
            "_view_module_version": "1.2.0",
            "_view_name": "LayoutView",
            "align_content": null,
            "align_items": null,
            "align_self": null,
            "border": null,
            "bottom": null,
            "display": null,
            "flex": null,
            "flex_flow": null,
            "grid_area": null,
            "grid_auto_columns": null,
            "grid_auto_flow": null,
            "grid_auto_rows": null,
            "grid_column": null,
            "grid_gap": null,
            "grid_row": null,
            "grid_template_areas": null,
            "grid_template_columns": null,
            "grid_template_rows": null,
            "height": null,
            "justify_content": null,
            "justify_items": null,
            "left": null,
            "margin": null,
            "max_height": null,
            "max_width": null,
            "min_height": null,
            "min_width": null,
            "object_fit": null,
            "object_position": null,
            "order": null,
            "overflow": null,
            "overflow_x": null,
            "overflow_y": null,
            "padding": null,
            "right": null,
            "top": null,
            "visibility": null,
            "width": null
          }
        },
        "5ce742200aeb4aa4b969bcabc900d939": {
          "model_module": "@jupyter-widgets/base",
          "model_module_version": "1.2.0",
          "model_name": "LayoutModel",
          "state": {
            "_model_module": "@jupyter-widgets/base",
            "_model_module_version": "1.2.0",
            "_model_name": "LayoutModel",
            "_view_count": null,
            "_view_module": "@jupyter-widgets/base",
            "_view_module_version": "1.2.0",
            "_view_name": "LayoutView",
            "align_content": null,
            "align_items": null,
            "align_self": null,
            "border": null,
            "bottom": null,
            "display": null,
            "flex": null,
            "flex_flow": null,
            "grid_area": null,
            "grid_auto_columns": null,
            "grid_auto_flow": null,
            "grid_auto_rows": null,
            "grid_column": null,
            "grid_gap": null,
            "grid_row": null,
            "grid_template_areas": null,
            "grid_template_columns": null,
            "grid_template_rows": null,
            "height": null,
            "justify_content": null,
            "justify_items": null,
            "left": null,
            "margin": null,
            "max_height": null,
            "max_width": null,
            "min_height": null,
            "min_width": null,
            "object_fit": null,
            "object_position": null,
            "order": null,
            "overflow": null,
            "overflow_x": null,
            "overflow_y": null,
            "padding": null,
            "right": null,
            "top": null,
            "visibility": null,
            "width": null
          }
        },
        "5d1304a17e0a4fd3ab4653f768284b13": {
          "model_module": "@jupyter-widgets/controls",
          "model_module_version": "1.5.0",
          "model_name": "HTMLModel",
          "state": {
            "_dom_classes": [],
            "_model_module": "@jupyter-widgets/controls",
            "_model_module_version": "1.5.0",
            "_model_name": "HTMLModel",
            "_view_count": null,
            "_view_module": "@jupyter-widgets/controls",
            "_view_module_version": "1.5.0",
            "_view_name": "HTMLView",
            "description": "",
            "description_tooltip": null,
            "layout": "IPY_MODEL_6b6910ec3cb345878cdbaa35dd4226e8",
            "placeholder": "​",
            "style": "IPY_MODEL_771d55a1220048b391e18876b6076b35",
            "value": "100%"
          }
        },
        "5e372a8a4aac4354bfbd9ce4c8ead25f": {
          "model_module": "@jupyter-widgets/base",
          "model_module_version": "1.2.0",
          "model_name": "LayoutModel",
          "state": {
            "_model_module": "@jupyter-widgets/base",
            "_model_module_version": "1.2.0",
            "_model_name": "LayoutModel",
            "_view_count": null,
            "_view_module": "@jupyter-widgets/base",
            "_view_module_version": "1.2.0",
            "_view_name": "LayoutView",
            "align_content": null,
            "align_items": null,
            "align_self": null,
            "border": null,
            "bottom": null,
            "display": null,
            "flex": null,
            "flex_flow": null,
            "grid_area": null,
            "grid_auto_columns": null,
            "grid_auto_flow": null,
            "grid_auto_rows": null,
            "grid_column": null,
            "grid_gap": null,
            "grid_row": null,
            "grid_template_areas": null,
            "grid_template_columns": null,
            "grid_template_rows": null,
            "height": null,
            "justify_content": null,
            "justify_items": null,
            "left": null,
            "margin": null,
            "max_height": null,
            "max_width": null,
            "min_height": null,
            "min_width": null,
            "object_fit": null,
            "object_position": null,
            "order": null,
            "overflow": null,
            "overflow_x": null,
            "overflow_y": null,
            "padding": null,
            "right": null,
            "top": null,
            "visibility": null,
            "width": null
          }
        },
        "5ff2aa47b7ec4a80b200b7936fbf6563": {
          "model_module": "@jupyter-widgets/base",
          "model_module_version": "1.2.0",
          "model_name": "LayoutModel",
          "state": {
            "_model_module": "@jupyter-widgets/base",
            "_model_module_version": "1.2.0",
            "_model_name": "LayoutModel",
            "_view_count": null,
            "_view_module": "@jupyter-widgets/base",
            "_view_module_version": "1.2.0",
            "_view_name": "LayoutView",
            "align_content": null,
            "align_items": null,
            "align_self": null,
            "border": null,
            "bottom": null,
            "display": null,
            "flex": null,
            "flex_flow": null,
            "grid_area": null,
            "grid_auto_columns": null,
            "grid_auto_flow": null,
            "grid_auto_rows": null,
            "grid_column": null,
            "grid_gap": null,
            "grid_row": null,
            "grid_template_areas": null,
            "grid_template_columns": null,
            "grid_template_rows": null,
            "height": null,
            "justify_content": null,
            "justify_items": null,
            "left": null,
            "margin": null,
            "max_height": null,
            "max_width": null,
            "min_height": null,
            "min_width": null,
            "object_fit": null,
            "object_position": null,
            "order": null,
            "overflow": null,
            "overflow_x": null,
            "overflow_y": null,
            "padding": null,
            "right": null,
            "top": null,
            "visibility": null,
            "width": null
          }
        },
        "66193090e8b94c1e88dcbc74fa03be60": {
          "model_module": "@jupyter-widgets/controls",
          "model_module_version": "1.5.0",
          "model_name": "HBoxModel",
          "state": {
            "_dom_classes": [],
            "_model_module": "@jupyter-widgets/controls",
            "_model_module_version": "1.5.0",
            "_model_name": "HBoxModel",
            "_view_count": null,
            "_view_module": "@jupyter-widgets/controls",
            "_view_module_version": "1.5.0",
            "_view_name": "HBoxView",
            "box_style": "",
            "children": [
              "IPY_MODEL_d2e80174e41c43c8b9d24d608ef1ccf9",
              "IPY_MODEL_830fe02e07bb4438a2c88805de68e55f",
              "IPY_MODEL_4391b628381440f080478c982f0e4506"
            ],
            "layout": "IPY_MODEL_5b5f516d5aa445f6a62202b8366e3544"
          }
        },
        "6b6910ec3cb345878cdbaa35dd4226e8": {
          "model_module": "@jupyter-widgets/base",
          "model_module_version": "1.2.0",
          "model_name": "LayoutModel",
          "state": {
            "_model_module": "@jupyter-widgets/base",
            "_model_module_version": "1.2.0",
            "_model_name": "LayoutModel",
            "_view_count": null,
            "_view_module": "@jupyter-widgets/base",
            "_view_module_version": "1.2.0",
            "_view_name": "LayoutView",
            "align_content": null,
            "align_items": null,
            "align_self": null,
            "border": null,
            "bottom": null,
            "display": null,
            "flex": null,
            "flex_flow": null,
            "grid_area": null,
            "grid_auto_columns": null,
            "grid_auto_flow": null,
            "grid_auto_rows": null,
            "grid_column": null,
            "grid_gap": null,
            "grid_row": null,
            "grid_template_areas": null,
            "grid_template_columns": null,
            "grid_template_rows": null,
            "height": null,
            "justify_content": null,
            "justify_items": null,
            "left": null,
            "margin": null,
            "max_height": null,
            "max_width": null,
            "min_height": null,
            "min_width": null,
            "object_fit": null,
            "object_position": null,
            "order": null,
            "overflow": null,
            "overflow_x": null,
            "overflow_y": null,
            "padding": null,
            "right": null,
            "top": null,
            "visibility": null,
            "width": null
          }
        },
        "70c0d44cc27f40429bd9d7493a52c1b0": {
          "model_module": "@jupyter-widgets/base",
          "model_module_version": "1.2.0",
          "model_name": "LayoutModel",
          "state": {
            "_model_module": "@jupyter-widgets/base",
            "_model_module_version": "1.2.0",
            "_model_name": "LayoutModel",
            "_view_count": null,
            "_view_module": "@jupyter-widgets/base",
            "_view_module_version": "1.2.0",
            "_view_name": "LayoutView",
            "align_content": null,
            "align_items": null,
            "align_self": null,
            "border": null,
            "bottom": null,
            "display": null,
            "flex": null,
            "flex_flow": null,
            "grid_area": null,
            "grid_auto_columns": null,
            "grid_auto_flow": null,
            "grid_auto_rows": null,
            "grid_column": null,
            "grid_gap": null,
            "grid_row": null,
            "grid_template_areas": null,
            "grid_template_columns": null,
            "grid_template_rows": null,
            "height": null,
            "justify_content": null,
            "justify_items": null,
            "left": null,
            "margin": null,
            "max_height": null,
            "max_width": null,
            "min_height": null,
            "min_width": null,
            "object_fit": null,
            "object_position": null,
            "order": null,
            "overflow": null,
            "overflow_x": null,
            "overflow_y": null,
            "padding": null,
            "right": null,
            "top": null,
            "visibility": null,
            "width": null
          }
        },
        "771d55a1220048b391e18876b6076b35": {
          "model_module": "@jupyter-widgets/controls",
          "model_module_version": "1.5.0",
          "model_name": "DescriptionStyleModel",
          "state": {
            "_model_module": "@jupyter-widgets/controls",
            "_model_module_version": "1.5.0",
            "_model_name": "DescriptionStyleModel",
            "_view_count": null,
            "_view_module": "@jupyter-widgets/base",
            "_view_module_version": "1.2.0",
            "_view_name": "StyleView",
            "description_width": ""
          }
        },
        "7dde251ab50d471faabed287c6d83e90": {
          "model_module": "@jupyter-widgets/controls",
          "model_module_version": "1.5.0",
          "model_name": "DescriptionStyleModel",
          "state": {
            "_model_module": "@jupyter-widgets/controls",
            "_model_module_version": "1.5.0",
            "_model_name": "DescriptionStyleModel",
            "_view_count": null,
            "_view_module": "@jupyter-widgets/base",
            "_view_module_version": "1.2.0",
            "_view_name": "StyleView",
            "description_width": ""
          }
        },
        "830fe02e07bb4438a2c88805de68e55f": {
          "model_module": "@jupyter-widgets/controls",
          "model_module_version": "1.5.0",
          "model_name": "FloatProgressModel",
          "state": {
            "_dom_classes": [],
            "_model_module": "@jupyter-widgets/controls",
            "_model_module_version": "1.5.0",
            "_model_name": "FloatProgressModel",
            "_view_count": null,
            "_view_module": "@jupyter-widgets/controls",
            "_view_module_version": "1.5.0",
            "_view_name": "ProgressView",
            "bar_style": "success",
            "description": "",
            "description_tooltip": null,
            "layout": "IPY_MODEL_5ff2aa47b7ec4a80b200b7936fbf6563",
            "max": 1648877,
            "min": 0,
            "orientation": "horizontal",
            "style": "IPY_MODEL_542feb81e61d42b89772848030797171",
            "value": 1648877
          }
        },
        "8d2e2ba92e854cafa56c6a16cad1bebe": {
          "model_module": "@jupyter-widgets/base",
          "model_module_version": "1.2.0",
          "model_name": "LayoutModel",
          "state": {
            "_model_module": "@jupyter-widgets/base",
            "_model_module_version": "1.2.0",
            "_model_name": "LayoutModel",
            "_view_count": null,
            "_view_module": "@jupyter-widgets/base",
            "_view_module_version": "1.2.0",
            "_view_name": "LayoutView",
            "align_content": null,
            "align_items": null,
            "align_self": null,
            "border": null,
            "bottom": null,
            "display": null,
            "flex": null,
            "flex_flow": null,
            "grid_area": null,
            "grid_auto_columns": null,
            "grid_auto_flow": null,
            "grid_auto_rows": null,
            "grid_column": null,
            "grid_gap": null,
            "grid_row": null,
            "grid_template_areas": null,
            "grid_template_columns": null,
            "grid_template_rows": null,
            "height": null,
            "justify_content": null,
            "justify_items": null,
            "left": null,
            "margin": null,
            "max_height": null,
            "max_width": null,
            "min_height": null,
            "min_width": null,
            "object_fit": null,
            "object_position": null,
            "order": null,
            "overflow": null,
            "overflow_x": null,
            "overflow_y": null,
            "padding": null,
            "right": null,
            "top": null,
            "visibility": null,
            "width": null
          }
        },
        "928963339eb9414f83098f4bc54d0401": {
          "model_module": "@jupyter-widgets/controls",
          "model_module_version": "1.5.0",
          "model_name": "ProgressStyleModel",
          "state": {
            "_model_module": "@jupyter-widgets/controls",
            "_model_module_version": "1.5.0",
            "_model_name": "ProgressStyleModel",
            "_view_count": null,
            "_view_module": "@jupyter-widgets/base",
            "_view_module_version": "1.2.0",
            "_view_name": "StyleView",
            "bar_color": null,
            "description_width": ""
          }
        },
        "948ecb463ae94c2bbe2cf4c0e4df306f": {
          "model_module": "@jupyter-widgets/base",
          "model_module_version": "1.2.0",
          "model_name": "LayoutModel",
          "state": {
            "_model_module": "@jupyter-widgets/base",
            "_model_module_version": "1.2.0",
            "_model_name": "LayoutModel",
            "_view_count": null,
            "_view_module": "@jupyter-widgets/base",
            "_view_module_version": "1.2.0",
            "_view_name": "LayoutView",
            "align_content": null,
            "align_items": null,
            "align_self": null,
            "border": null,
            "bottom": null,
            "display": null,
            "flex": null,
            "flex_flow": null,
            "grid_area": null,
            "grid_auto_columns": null,
            "grid_auto_flow": null,
            "grid_auto_rows": null,
            "grid_column": null,
            "grid_gap": null,
            "grid_row": null,
            "grid_template_areas": null,
            "grid_template_columns": null,
            "grid_template_rows": null,
            "height": null,
            "justify_content": null,
            "justify_items": null,
            "left": null,
            "margin": null,
            "max_height": null,
            "max_width": null,
            "min_height": null,
            "min_width": null,
            "object_fit": null,
            "object_position": null,
            "order": null,
            "overflow": null,
            "overflow_x": null,
            "overflow_y": null,
            "padding": null,
            "right": null,
            "top": null,
            "visibility": null,
            "width": null
          }
        },
        "9a8c40e3c4dc4020970bccb17259e1ad": {
          "model_module": "@jupyter-widgets/controls",
          "model_module_version": "1.5.0",
          "model_name": "DescriptionStyleModel",
          "state": {
            "_model_module": "@jupyter-widgets/controls",
            "_model_module_version": "1.5.0",
            "_model_name": "DescriptionStyleModel",
            "_view_count": null,
            "_view_module": "@jupyter-widgets/base",
            "_view_module_version": "1.2.0",
            "_view_name": "StyleView",
            "description_width": ""
          }
        },
        "9c328b4b5ee64447ad8219d918973ef9": {
          "model_module": "@jupyter-widgets/controls",
          "model_module_version": "1.5.0",
          "model_name": "DescriptionStyleModel",
          "state": {
            "_model_module": "@jupyter-widgets/controls",
            "_model_module_version": "1.5.0",
            "_model_name": "DescriptionStyleModel",
            "_view_count": null,
            "_view_module": "@jupyter-widgets/base",
            "_view_module_version": "1.2.0",
            "_view_name": "StyleView",
            "description_width": ""
          }
        },
        "9e2403c889a54e0b9be151b45f925d83": {
          "model_module": "@jupyter-widgets/base",
          "model_module_version": "1.2.0",
          "model_name": "LayoutModel",
          "state": {
            "_model_module": "@jupyter-widgets/base",
            "_model_module_version": "1.2.0",
            "_model_name": "LayoutModel",
            "_view_count": null,
            "_view_module": "@jupyter-widgets/base",
            "_view_module_version": "1.2.0",
            "_view_name": "LayoutView",
            "align_content": null,
            "align_items": null,
            "align_self": null,
            "border": null,
            "bottom": null,
            "display": null,
            "flex": null,
            "flex_flow": null,
            "grid_area": null,
            "grid_auto_columns": null,
            "grid_auto_flow": null,
            "grid_auto_rows": null,
            "grid_column": null,
            "grid_gap": null,
            "grid_row": null,
            "grid_template_areas": null,
            "grid_template_columns": null,
            "grid_template_rows": null,
            "height": null,
            "justify_content": null,
            "justify_items": null,
            "left": null,
            "margin": null,
            "max_height": null,
            "max_width": null,
            "min_height": null,
            "min_width": null,
            "object_fit": null,
            "object_position": null,
            "order": null,
            "overflow": null,
            "overflow_x": null,
            "overflow_y": null,
            "padding": null,
            "right": null,
            "top": null,
            "visibility": null,
            "width": null
          }
        },
        "a2cd1f7584014d409d6b583da11fd66a": {
          "model_module": "@jupyter-widgets/base",
          "model_module_version": "1.2.0",
          "model_name": "LayoutModel",
          "state": {
            "_model_module": "@jupyter-widgets/base",
            "_model_module_version": "1.2.0",
            "_model_name": "LayoutModel",
            "_view_count": null,
            "_view_module": "@jupyter-widgets/base",
            "_view_module_version": "1.2.0",
            "_view_name": "LayoutView",
            "align_content": null,
            "align_items": null,
            "align_self": null,
            "border": null,
            "bottom": null,
            "display": null,
            "flex": null,
            "flex_flow": null,
            "grid_area": null,
            "grid_auto_columns": null,
            "grid_auto_flow": null,
            "grid_auto_rows": null,
            "grid_column": null,
            "grid_gap": null,
            "grid_row": null,
            "grid_template_areas": null,
            "grid_template_columns": null,
            "grid_template_rows": null,
            "height": null,
            "justify_content": null,
            "justify_items": null,
            "left": null,
            "margin": null,
            "max_height": null,
            "max_width": null,
            "min_height": null,
            "min_width": null,
            "object_fit": null,
            "object_position": null,
            "order": null,
            "overflow": null,
            "overflow_x": null,
            "overflow_y": null,
            "padding": null,
            "right": null,
            "top": null,
            "visibility": null,
            "width": null
          }
        },
        "b043b63aaf494827a364a4444d124da0": {
          "model_module": "@jupyter-widgets/controls",
          "model_module_version": "1.5.0",
          "model_name": "HBoxModel",
          "state": {
            "_dom_classes": [],
            "_model_module": "@jupyter-widgets/controls",
            "_model_module_version": "1.5.0",
            "_model_name": "HBoxModel",
            "_view_count": null,
            "_view_module": "@jupyter-widgets/controls",
            "_view_module_version": "1.5.0",
            "_view_name": "HBoxView",
            "box_style": "",
            "children": [
              "IPY_MODEL_086a15f376174600bc46f4e498b5c4dd",
              "IPY_MODEL_52745d4cbbed487ab4cfa0f119d34b2d",
              "IPY_MODEL_e148f6ea146a4e5da0636e641a6ec086"
            ],
            "layout": "IPY_MODEL_27bbf4a97eaf42b8926c4d53bcc8b1f8"
          }
        },
        "c4a3add6ae514ac18a78a7fa63f345fc": {
          "model_module": "@jupyter-widgets/controls",
          "model_module_version": "1.5.0",
          "model_name": "DescriptionStyleModel",
          "state": {
            "_model_module": "@jupyter-widgets/controls",
            "_model_module_version": "1.5.0",
            "_model_name": "DescriptionStyleModel",
            "_view_count": null,
            "_view_module": "@jupyter-widgets/base",
            "_view_module_version": "1.2.0",
            "_view_name": "StyleView",
            "description_width": ""
          }
        },
        "cb6ac4729bbc4267ab7bb81fbd62766e": {
          "model_module": "@jupyter-widgets/controls",
          "model_module_version": "1.5.0",
          "model_name": "HBoxModel",
          "state": {
            "_dom_classes": [],
            "_model_module": "@jupyter-widgets/controls",
            "_model_module_version": "1.5.0",
            "_model_name": "HBoxModel",
            "_view_count": null,
            "_view_module": "@jupyter-widgets/controls",
            "_view_module_version": "1.5.0",
            "_view_name": "HBoxView",
            "box_style": "",
            "children": [
              "IPY_MODEL_5d1304a17e0a4fd3ab4653f768284b13",
              "IPY_MODEL_5606eb81d03c4dffb80670c3ccdc1069",
              "IPY_MODEL_1e52317209c144bdafbab1386751f38a"
            ],
            "layout": "IPY_MODEL_5e372a8a4aac4354bfbd9ce4c8ead25f"
          }
        },
        "cd59738f243446d1a5d778f5e36de7a5": {
          "model_module": "@jupyter-widgets/base",
          "model_module_version": "1.2.0",
          "model_name": "LayoutModel",
          "state": {
            "_model_module": "@jupyter-widgets/base",
            "_model_module_version": "1.2.0",
            "_model_name": "LayoutModel",
            "_view_count": null,
            "_view_module": "@jupyter-widgets/base",
            "_view_module_version": "1.2.0",
            "_view_name": "LayoutView",
            "align_content": null,
            "align_items": null,
            "align_self": null,
            "border": null,
            "bottom": null,
            "display": null,
            "flex": null,
            "flex_flow": null,
            "grid_area": null,
            "grid_auto_columns": null,
            "grid_auto_flow": null,
            "grid_auto_rows": null,
            "grid_column": null,
            "grid_gap": null,
            "grid_row": null,
            "grid_template_areas": null,
            "grid_template_columns": null,
            "grid_template_rows": null,
            "height": null,
            "justify_content": null,
            "justify_items": null,
            "left": null,
            "margin": null,
            "max_height": null,
            "max_width": null,
            "min_height": null,
            "min_width": null,
            "object_fit": null,
            "object_position": null,
            "order": null,
            "overflow": null,
            "overflow_x": null,
            "overflow_y": null,
            "padding": null,
            "right": null,
            "top": null,
            "visibility": null,
            "width": null
          }
        },
        "d0beb35fca0c48f5a032e7f2a1f1450c": {
          "model_module": "@jupyter-widgets/controls",
          "model_module_version": "1.5.0",
          "model_name": "HBoxModel",
          "state": {
            "_dom_classes": [],
            "_model_module": "@jupyter-widgets/controls",
            "_model_module_version": "1.5.0",
            "_model_name": "HBoxModel",
            "_view_count": null,
            "_view_module": "@jupyter-widgets/controls",
            "_view_module_version": "1.5.0",
            "_view_name": "HBoxView",
            "box_style": "",
            "children": [
              "IPY_MODEL_343f11016a2e4ae69e8ae7e51978acaa",
              "IPY_MODEL_ed71287a7bbd497eb3ac95d350327354",
              "IPY_MODEL_1c32f5ccb8034fadb4bcbf32fbbc68b1"
            ],
            "layout": "IPY_MODEL_8d2e2ba92e854cafa56c6a16cad1bebe"
          }
        },
        "d2e80174e41c43c8b9d24d608ef1ccf9": {
          "model_module": "@jupyter-widgets/controls",
          "model_module_version": "1.5.0",
          "model_name": "HTMLModel",
          "state": {
            "_dom_classes": [],
            "_model_module": "@jupyter-widgets/controls",
            "_model_module_version": "1.5.0",
            "_model_name": "HTMLModel",
            "_view_count": null,
            "_view_module": "@jupyter-widgets/controls",
            "_view_module_version": "1.5.0",
            "_view_name": "HTMLView",
            "description": "",
            "description_tooltip": null,
            "layout": "IPY_MODEL_9e2403c889a54e0b9be151b45f925d83",
            "placeholder": "​",
            "style": "IPY_MODEL_fff76c0a76e84614b9fa2e3a61fcca15",
            "value": "100%"
          }
        },
        "d3633af58e1a4e04a9e3eb0b6dbe3488": {
          "model_module": "@jupyter-widgets/controls",
          "model_module_version": "1.5.0",
          "model_name": "DescriptionStyleModel",
          "state": {
            "_model_module": "@jupyter-widgets/controls",
            "_model_module_version": "1.5.0",
            "_model_name": "DescriptionStyleModel",
            "_view_count": null,
            "_view_module": "@jupyter-widgets/base",
            "_view_module_version": "1.2.0",
            "_view_name": "StyleView",
            "description_width": ""
          }
        },
        "d480450075ff47f494bb27ce7e2b37c1": {
          "model_module": "@jupyter-widgets/base",
          "model_module_version": "1.2.0",
          "model_name": "LayoutModel",
          "state": {
            "_model_module": "@jupyter-widgets/base",
            "_model_module_version": "1.2.0",
            "_model_name": "LayoutModel",
            "_view_count": null,
            "_view_module": "@jupyter-widgets/base",
            "_view_module_version": "1.2.0",
            "_view_name": "LayoutView",
            "align_content": null,
            "align_items": null,
            "align_self": null,
            "border": null,
            "bottom": null,
            "display": null,
            "flex": null,
            "flex_flow": null,
            "grid_area": null,
            "grid_auto_columns": null,
            "grid_auto_flow": null,
            "grid_auto_rows": null,
            "grid_column": null,
            "grid_gap": null,
            "grid_row": null,
            "grid_template_areas": null,
            "grid_template_columns": null,
            "grid_template_rows": null,
            "height": null,
            "justify_content": null,
            "justify_items": null,
            "left": null,
            "margin": null,
            "max_height": null,
            "max_width": null,
            "min_height": null,
            "min_width": null,
            "object_fit": null,
            "object_position": null,
            "order": null,
            "overflow": null,
            "overflow_x": null,
            "overflow_y": null,
            "padding": null,
            "right": null,
            "top": null,
            "visibility": null,
            "width": null
          }
        },
        "e148f6ea146a4e5da0636e641a6ec086": {
          "model_module": "@jupyter-widgets/controls",
          "model_module_version": "1.5.0",
          "model_name": "HTMLModel",
          "state": {
            "_dom_classes": [],
            "_model_module": "@jupyter-widgets/controls",
            "_model_module_version": "1.5.0",
            "_model_name": "HTMLModel",
            "_view_count": null,
            "_view_module": "@jupyter-widgets/controls",
            "_view_module_version": "1.5.0",
            "_view_name": "HTMLView",
            "description": "",
            "description_tooltip": null,
            "layout": "IPY_MODEL_5ce742200aeb4aa4b969bcabc900d939",
            "placeholder": "​",
            "style": "IPY_MODEL_9c328b4b5ee64447ad8219d918973ef9",
            "value": " 4542/4542 [00:00&lt;00:00, 130817.29it/s]"
          }
        },
        "e188a09d52a745baa2c969a575547490": {
          "model_module": "@jupyter-widgets/base",
          "model_module_version": "1.2.0",
          "model_name": "LayoutModel",
          "state": {
            "_model_module": "@jupyter-widgets/base",
            "_model_module_version": "1.2.0",
            "_model_name": "LayoutModel",
            "_view_count": null,
            "_view_module": "@jupyter-widgets/base",
            "_view_module_version": "1.2.0",
            "_view_name": "LayoutView",
            "align_content": null,
            "align_items": null,
            "align_self": null,
            "border": null,
            "bottom": null,
            "display": null,
            "flex": null,
            "flex_flow": null,
            "grid_area": null,
            "grid_auto_columns": null,
            "grid_auto_flow": null,
            "grid_auto_rows": null,
            "grid_column": null,
            "grid_gap": null,
            "grid_row": null,
            "grid_template_areas": null,
            "grid_template_columns": null,
            "grid_template_rows": null,
            "height": null,
            "justify_content": null,
            "justify_items": null,
            "left": null,
            "margin": null,
            "max_height": null,
            "max_width": null,
            "min_height": null,
            "min_width": null,
            "object_fit": null,
            "object_position": null,
            "order": null,
            "overflow": null,
            "overflow_x": null,
            "overflow_y": null,
            "padding": null,
            "right": null,
            "top": null,
            "visibility": null,
            "width": null
          }
        },
        "e21871363e5246d7adb4a171225c320a": {
          "model_module": "@jupyter-widgets/controls",
          "model_module_version": "1.5.0",
          "model_name": "ProgressStyleModel",
          "state": {
            "_model_module": "@jupyter-widgets/controls",
            "_model_module_version": "1.5.0",
            "_model_name": "ProgressStyleModel",
            "_view_count": null,
            "_view_module": "@jupyter-widgets/base",
            "_view_module_version": "1.2.0",
            "_view_name": "StyleView",
            "bar_color": null,
            "description_width": ""
          }
        },
        "ed71287a7bbd497eb3ac95d350327354": {
          "model_module": "@jupyter-widgets/controls",
          "model_module_version": "1.5.0",
          "model_name": "FloatProgressModel",
          "state": {
            "_dom_classes": [],
            "_model_module": "@jupyter-widgets/controls",
            "_model_module_version": "1.5.0",
            "_model_name": "FloatProgressModel",
            "_view_count": null,
            "_view_module": "@jupyter-widgets/controls",
            "_view_module_version": "1.5.0",
            "_view_name": "ProgressView",
            "bar_style": "success",
            "description": "",
            "description_tooltip": null,
            "layout": "IPY_MODEL_53aceca5214745f8949d9eb8562c42b9",
            "max": 28881,
            "min": 0,
            "orientation": "horizontal",
            "style": "IPY_MODEL_928963339eb9414f83098f4bc54d0401",
            "value": 28881
          }
        },
        "fff76c0a76e84614b9fa2e3a61fcca15": {
          "model_module": "@jupyter-widgets/controls",
          "model_module_version": "1.5.0",
          "model_name": "DescriptionStyleModel",
          "state": {
            "_model_module": "@jupyter-widgets/controls",
            "_model_module_version": "1.5.0",
            "_model_name": "DescriptionStyleModel",
            "_view_count": null,
            "_view_module": "@jupyter-widgets/base",
            "_view_module_version": "1.2.0",
            "_view_name": "StyleView",
            "description_width": ""
          }
        },
        "e61ba3e5b1894986ba0bb615013d8dea": {
          "model_module": "@jupyter-widgets/controls",
          "model_name": "HBoxModel",
          "model_module_version": "1.5.0",
          "state": {
            "_dom_classes": [],
            "_model_module": "@jupyter-widgets/controls",
            "_model_module_version": "1.5.0",
            "_model_name": "HBoxModel",
            "_view_count": null,
            "_view_module": "@jupyter-widgets/controls",
            "_view_module_version": "1.5.0",
            "_view_name": "HBoxView",
            "box_style": "",
            "children": [
              "IPY_MODEL_dbf3c123d17b4d37a9dba4bcc0ed5a5d",
              "IPY_MODEL_3f578a0324af4721ba5c0bc87066f4e7",
              "IPY_MODEL_9d8c06b065cb415e82fa3b36727657b0"
            ],
            "layout": "IPY_MODEL_d48c93677d794499b4f07f276c908bd9"
          }
        },
        "dbf3c123d17b4d37a9dba4bcc0ed5a5d": {
          "model_module": "@jupyter-widgets/controls",
          "model_name": "HTMLModel",
          "model_module_version": "1.5.0",
          "state": {
            "_dom_classes": [],
            "_model_module": "@jupyter-widgets/controls",
            "_model_module_version": "1.5.0",
            "_model_name": "HTMLModel",
            "_view_count": null,
            "_view_module": "@jupyter-widgets/controls",
            "_view_module_version": "1.5.0",
            "_view_name": "HTMLView",
            "description": "",
            "description_tooltip": null,
            "layout": "IPY_MODEL_25fe3e9471214b76b8e2645cf47de5a6",
            "placeholder": "​",
            "style": "IPY_MODEL_8e6ff611100a41d08da95dbee2f5f36c",
            "value": "loss: 0.8957011103630066: 100%"
          }
        },
        "3f578a0324af4721ba5c0bc87066f4e7": {
          "model_module": "@jupyter-widgets/controls",
          "model_name": "FloatProgressModel",
          "model_module_version": "1.5.0",
          "state": {
            "_dom_classes": [],
            "_model_module": "@jupyter-widgets/controls",
            "_model_module_version": "1.5.0",
            "_model_name": "FloatProgressModel",
            "_view_count": null,
            "_view_module": "@jupyter-widgets/controls",
            "_view_module_version": "1.5.0",
            "_view_name": "ProgressView",
            "bar_style": "success",
            "description": "",
            "description_tooltip": null,
            "layout": "IPY_MODEL_5bfb06c9971e4438bed0606c71d94b8a",
            "max": 20,
            "min": 0,
            "orientation": "horizontal",
            "style": "IPY_MODEL_42bb6d5186854e67953f72ffb3e710a3",
            "value": 20
          }
        },
        "9d8c06b065cb415e82fa3b36727657b0": {
          "model_module": "@jupyter-widgets/controls",
          "model_name": "HTMLModel",
          "model_module_version": "1.5.0",
          "state": {
            "_dom_classes": [],
            "_model_module": "@jupyter-widgets/controls",
            "_model_module_version": "1.5.0",
            "_model_name": "HTMLModel",
            "_view_count": null,
            "_view_module": "@jupyter-widgets/controls",
            "_view_module_version": "1.5.0",
            "_view_name": "HTMLView",
            "description": "",
            "description_tooltip": null,
            "layout": "IPY_MODEL_8bd25cfec1cd42c19096ad21bcdf83a2",
            "placeholder": "​",
            "style": "IPY_MODEL_2f95d725a2144ea696d967955a28baae",
            "value": " 20/20 [03:24&lt;00:00, 10.19s/it]"
          }
        },
        "d48c93677d794499b4f07f276c908bd9": {
          "model_module": "@jupyter-widgets/base",
          "model_name": "LayoutModel",
          "model_module_version": "1.2.0",
          "state": {
            "_model_module": "@jupyter-widgets/base",
            "_model_module_version": "1.2.0",
            "_model_name": "LayoutModel",
            "_view_count": null,
            "_view_module": "@jupyter-widgets/base",
            "_view_module_version": "1.2.0",
            "_view_name": "LayoutView",
            "align_content": null,
            "align_items": null,
            "align_self": null,
            "border": null,
            "bottom": null,
            "display": null,
            "flex": null,
            "flex_flow": null,
            "grid_area": null,
            "grid_auto_columns": null,
            "grid_auto_flow": null,
            "grid_auto_rows": null,
            "grid_column": null,
            "grid_gap": null,
            "grid_row": null,
            "grid_template_areas": null,
            "grid_template_columns": null,
            "grid_template_rows": null,
            "height": null,
            "justify_content": null,
            "justify_items": null,
            "left": null,
            "margin": null,
            "max_height": null,
            "max_width": null,
            "min_height": null,
            "min_width": null,
            "object_fit": null,
            "object_position": null,
            "order": null,
            "overflow": null,
            "overflow_x": null,
            "overflow_y": null,
            "padding": null,
            "right": null,
            "top": null,
            "visibility": null,
            "width": null
          }
        },
        "25fe3e9471214b76b8e2645cf47de5a6": {
          "model_module": "@jupyter-widgets/base",
          "model_name": "LayoutModel",
          "model_module_version": "1.2.0",
          "state": {
            "_model_module": "@jupyter-widgets/base",
            "_model_module_version": "1.2.0",
            "_model_name": "LayoutModel",
            "_view_count": null,
            "_view_module": "@jupyter-widgets/base",
            "_view_module_version": "1.2.0",
            "_view_name": "LayoutView",
            "align_content": null,
            "align_items": null,
            "align_self": null,
            "border": null,
            "bottom": null,
            "display": null,
            "flex": null,
            "flex_flow": null,
            "grid_area": null,
            "grid_auto_columns": null,
            "grid_auto_flow": null,
            "grid_auto_rows": null,
            "grid_column": null,
            "grid_gap": null,
            "grid_row": null,
            "grid_template_areas": null,
            "grid_template_columns": null,
            "grid_template_rows": null,
            "height": null,
            "justify_content": null,
            "justify_items": null,
            "left": null,
            "margin": null,
            "max_height": null,
            "max_width": null,
            "min_height": null,
            "min_width": null,
            "object_fit": null,
            "object_position": null,
            "order": null,
            "overflow": null,
            "overflow_x": null,
            "overflow_y": null,
            "padding": null,
            "right": null,
            "top": null,
            "visibility": null,
            "width": null
          }
        },
        "8e6ff611100a41d08da95dbee2f5f36c": {
          "model_module": "@jupyter-widgets/controls",
          "model_name": "DescriptionStyleModel",
          "model_module_version": "1.5.0",
          "state": {
            "_model_module": "@jupyter-widgets/controls",
            "_model_module_version": "1.5.0",
            "_model_name": "DescriptionStyleModel",
            "_view_count": null,
            "_view_module": "@jupyter-widgets/base",
            "_view_module_version": "1.2.0",
            "_view_name": "StyleView",
            "description_width": ""
          }
        },
        "5bfb06c9971e4438bed0606c71d94b8a": {
          "model_module": "@jupyter-widgets/base",
          "model_name": "LayoutModel",
          "model_module_version": "1.2.0",
          "state": {
            "_model_module": "@jupyter-widgets/base",
            "_model_module_version": "1.2.0",
            "_model_name": "LayoutModel",
            "_view_count": null,
            "_view_module": "@jupyter-widgets/base",
            "_view_module_version": "1.2.0",
            "_view_name": "LayoutView",
            "align_content": null,
            "align_items": null,
            "align_self": null,
            "border": null,
            "bottom": null,
            "display": null,
            "flex": null,
            "flex_flow": null,
            "grid_area": null,
            "grid_auto_columns": null,
            "grid_auto_flow": null,
            "grid_auto_rows": null,
            "grid_column": null,
            "grid_gap": null,
            "grid_row": null,
            "grid_template_areas": null,
            "grid_template_columns": null,
            "grid_template_rows": null,
            "height": null,
            "justify_content": null,
            "justify_items": null,
            "left": null,
            "margin": null,
            "max_height": null,
            "max_width": null,
            "min_height": null,
            "min_width": null,
            "object_fit": null,
            "object_position": null,
            "order": null,
            "overflow": null,
            "overflow_x": null,
            "overflow_y": null,
            "padding": null,
            "right": null,
            "top": null,
            "visibility": null,
            "width": null
          }
        },
        "42bb6d5186854e67953f72ffb3e710a3": {
          "model_module": "@jupyter-widgets/controls",
          "model_name": "ProgressStyleModel",
          "model_module_version": "1.5.0",
          "state": {
            "_model_module": "@jupyter-widgets/controls",
            "_model_module_version": "1.5.0",
            "_model_name": "ProgressStyleModel",
            "_view_count": null,
            "_view_module": "@jupyter-widgets/base",
            "_view_module_version": "1.2.0",
            "_view_name": "StyleView",
            "bar_color": null,
            "description_width": ""
          }
        },
        "8bd25cfec1cd42c19096ad21bcdf83a2": {
          "model_module": "@jupyter-widgets/base",
          "model_name": "LayoutModel",
          "model_module_version": "1.2.0",
          "state": {
            "_model_module": "@jupyter-widgets/base",
            "_model_module_version": "1.2.0",
            "_model_name": "LayoutModel",
            "_view_count": null,
            "_view_module": "@jupyter-widgets/base",
            "_view_module_version": "1.2.0",
            "_view_name": "LayoutView",
            "align_content": null,
            "align_items": null,
            "align_self": null,
            "border": null,
            "bottom": null,
            "display": null,
            "flex": null,
            "flex_flow": null,
            "grid_area": null,
            "grid_auto_columns": null,
            "grid_auto_flow": null,
            "grid_auto_rows": null,
            "grid_column": null,
            "grid_gap": null,
            "grid_row": null,
            "grid_template_areas": null,
            "grid_template_columns": null,
            "grid_template_rows": null,
            "height": null,
            "justify_content": null,
            "justify_items": null,
            "left": null,
            "margin": null,
            "max_height": null,
            "max_width": null,
            "min_height": null,
            "min_width": null,
            "object_fit": null,
            "object_position": null,
            "order": null,
            "overflow": null,
            "overflow_x": null,
            "overflow_y": null,
            "padding": null,
            "right": null,
            "top": null,
            "visibility": null,
            "width": null
          }
        },
        "2f95d725a2144ea696d967955a28baae": {
          "model_module": "@jupyter-widgets/controls",
          "model_name": "DescriptionStyleModel",
          "model_module_version": "1.5.0",
          "state": {
            "_model_module": "@jupyter-widgets/controls",
            "_model_module_version": "1.5.0",
            "_model_name": "DescriptionStyleModel",
            "_view_count": null,
            "_view_module": "@jupyter-widgets/base",
            "_view_module_version": "1.2.0",
            "_view_name": "StyleView",
            "description_width": ""
          }
        },
        "52e81e5cc7184c5a90ac79562fe2b8d5": {
          "model_module": "@jupyter-widgets/controls",
          "model_name": "HBoxModel",
          "model_module_version": "1.5.0",
          "state": {
            "_dom_classes": [],
            "_model_module": "@jupyter-widgets/controls",
            "_model_module_version": "1.5.0",
            "_model_name": "HBoxModel",
            "_view_count": null,
            "_view_module": "@jupyter-widgets/controls",
            "_view_module_version": "1.5.0",
            "_view_name": "HBoxView",
            "box_style": "",
            "children": [
              "IPY_MODEL_f118d4c889d441ebb03b2412e8cfb8c8",
              "IPY_MODEL_1ccb795433a64bc6809c38bc657961f8",
              "IPY_MODEL_c7a05ca39f2348ce98f32d301a8ebe72"
            ],
            "layout": "IPY_MODEL_f1074ef9b1834b4db3f697c28bccf988"
          }
        },
        "f118d4c889d441ebb03b2412e8cfb8c8": {
          "model_module": "@jupyter-widgets/controls",
          "model_name": "HTMLModel",
          "model_module_version": "1.5.0",
          "state": {
            "_dom_classes": [],
            "_model_module": "@jupyter-widgets/controls",
            "_model_module_version": "1.5.0",
            "_model_name": "HTMLModel",
            "_view_count": null,
            "_view_module": "@jupyter-widgets/controls",
            "_view_module_version": "1.5.0",
            "_view_name": "HTMLView",
            "description": "",
            "description_tooltip": null,
            "layout": "IPY_MODEL_b913696960374d94b5f317df40c01a83",
            "placeholder": "​",
            "style": "IPY_MODEL_dc25c89893d14369a5ef9f8ac44ec27e",
            "value": "100%"
          }
        },
        "1ccb795433a64bc6809c38bc657961f8": {
          "model_module": "@jupyter-widgets/controls",
          "model_name": "FloatProgressModel",
          "model_module_version": "1.5.0",
          "state": {
            "_dom_classes": [],
            "_model_module": "@jupyter-widgets/controls",
            "_model_module_version": "1.5.0",
            "_model_name": "FloatProgressModel",
            "_view_count": null,
            "_view_module": "@jupyter-widgets/controls",
            "_view_module_version": "1.5.0",
            "_view_name": "ProgressView",
            "bar_style": "success",
            "description": "",
            "description_tooltip": null,
            "layout": "IPY_MODEL_070f2d82a2df473f8cd3e23d7cd8c1e9",
            "max": 60000,
            "min": 0,
            "orientation": "horizontal",
            "style": "IPY_MODEL_570af9f6728145bc89aff83ca4b30508",
            "value": 60000
          }
        },
        "c7a05ca39f2348ce98f32d301a8ebe72": {
          "model_module": "@jupyter-widgets/controls",
          "model_name": "HTMLModel",
          "model_module_version": "1.5.0",
          "state": {
            "_dom_classes": [],
            "_model_module": "@jupyter-widgets/controls",
            "_model_module_version": "1.5.0",
            "_model_name": "HTMLModel",
            "_view_count": null,
            "_view_module": "@jupyter-widgets/controls",
            "_view_module_version": "1.5.0",
            "_view_name": "HTMLView",
            "description": "",
            "description_tooltip": null,
            "layout": "IPY_MODEL_123bd15bd9f54a8a84b79e6540db9345",
            "placeholder": "​",
            "style": "IPY_MODEL_3030a6e700404d45939ac825f57fa41f",
            "value": " 60000/60000 [00:10&lt;00:00, 5829.27it/s]"
          }
        },
        "f1074ef9b1834b4db3f697c28bccf988": {
          "model_module": "@jupyter-widgets/base",
          "model_name": "LayoutModel",
          "model_module_version": "1.2.0",
          "state": {
            "_model_module": "@jupyter-widgets/base",
            "_model_module_version": "1.2.0",
            "_model_name": "LayoutModel",
            "_view_count": null,
            "_view_module": "@jupyter-widgets/base",
            "_view_module_version": "1.2.0",
            "_view_name": "LayoutView",
            "align_content": null,
            "align_items": null,
            "align_self": null,
            "border": null,
            "bottom": null,
            "display": null,
            "flex": null,
            "flex_flow": null,
            "grid_area": null,
            "grid_auto_columns": null,
            "grid_auto_flow": null,
            "grid_auto_rows": null,
            "grid_column": null,
            "grid_gap": null,
            "grid_row": null,
            "grid_template_areas": null,
            "grid_template_columns": null,
            "grid_template_rows": null,
            "height": null,
            "justify_content": null,
            "justify_items": null,
            "left": null,
            "margin": null,
            "max_height": null,
            "max_width": null,
            "min_height": null,
            "min_width": null,
            "object_fit": null,
            "object_position": null,
            "order": null,
            "overflow": null,
            "overflow_x": null,
            "overflow_y": null,
            "padding": null,
            "right": null,
            "top": null,
            "visibility": null,
            "width": null
          }
        },
        "b913696960374d94b5f317df40c01a83": {
          "model_module": "@jupyter-widgets/base",
          "model_name": "LayoutModel",
          "model_module_version": "1.2.0",
          "state": {
            "_model_module": "@jupyter-widgets/base",
            "_model_module_version": "1.2.0",
            "_model_name": "LayoutModel",
            "_view_count": null,
            "_view_module": "@jupyter-widgets/base",
            "_view_module_version": "1.2.0",
            "_view_name": "LayoutView",
            "align_content": null,
            "align_items": null,
            "align_self": null,
            "border": null,
            "bottom": null,
            "display": null,
            "flex": null,
            "flex_flow": null,
            "grid_area": null,
            "grid_auto_columns": null,
            "grid_auto_flow": null,
            "grid_auto_rows": null,
            "grid_column": null,
            "grid_gap": null,
            "grid_row": null,
            "grid_template_areas": null,
            "grid_template_columns": null,
            "grid_template_rows": null,
            "height": null,
            "justify_content": null,
            "justify_items": null,
            "left": null,
            "margin": null,
            "max_height": null,
            "max_width": null,
            "min_height": null,
            "min_width": null,
            "object_fit": null,
            "object_position": null,
            "order": null,
            "overflow": null,
            "overflow_x": null,
            "overflow_y": null,
            "padding": null,
            "right": null,
            "top": null,
            "visibility": null,
            "width": null
          }
        },
        "dc25c89893d14369a5ef9f8ac44ec27e": {
          "model_module": "@jupyter-widgets/controls",
          "model_name": "DescriptionStyleModel",
          "model_module_version": "1.5.0",
          "state": {
            "_model_module": "@jupyter-widgets/controls",
            "_model_module_version": "1.5.0",
            "_model_name": "DescriptionStyleModel",
            "_view_count": null,
            "_view_module": "@jupyter-widgets/base",
            "_view_module_version": "1.2.0",
            "_view_name": "StyleView",
            "description_width": ""
          }
        },
        "070f2d82a2df473f8cd3e23d7cd8c1e9": {
          "model_module": "@jupyter-widgets/base",
          "model_name": "LayoutModel",
          "model_module_version": "1.2.0",
          "state": {
            "_model_module": "@jupyter-widgets/base",
            "_model_module_version": "1.2.0",
            "_model_name": "LayoutModel",
            "_view_count": null,
            "_view_module": "@jupyter-widgets/base",
            "_view_module_version": "1.2.0",
            "_view_name": "LayoutView",
            "align_content": null,
            "align_items": null,
            "align_self": null,
            "border": null,
            "bottom": null,
            "display": null,
            "flex": null,
            "flex_flow": null,
            "grid_area": null,
            "grid_auto_columns": null,
            "grid_auto_flow": null,
            "grid_auto_rows": null,
            "grid_column": null,
            "grid_gap": null,
            "grid_row": null,
            "grid_template_areas": null,
            "grid_template_columns": null,
            "grid_template_rows": null,
            "height": null,
            "justify_content": null,
            "justify_items": null,
            "left": null,
            "margin": null,
            "max_height": null,
            "max_width": null,
            "min_height": null,
            "min_width": null,
            "object_fit": null,
            "object_position": null,
            "order": null,
            "overflow": null,
            "overflow_x": null,
            "overflow_y": null,
            "padding": null,
            "right": null,
            "top": null,
            "visibility": null,
            "width": null
          }
        },
        "570af9f6728145bc89aff83ca4b30508": {
          "model_module": "@jupyter-widgets/controls",
          "model_name": "ProgressStyleModel",
          "model_module_version": "1.5.0",
          "state": {
            "_model_module": "@jupyter-widgets/controls",
            "_model_module_version": "1.5.0",
            "_model_name": "ProgressStyleModel",
            "_view_count": null,
            "_view_module": "@jupyter-widgets/base",
            "_view_module_version": "1.2.0",
            "_view_name": "StyleView",
            "bar_color": null,
            "description_width": ""
          }
        },
        "123bd15bd9f54a8a84b79e6540db9345": {
          "model_module": "@jupyter-widgets/base",
          "model_name": "LayoutModel",
          "model_module_version": "1.2.0",
          "state": {
            "_model_module": "@jupyter-widgets/base",
            "_model_module_version": "1.2.0",
            "_model_name": "LayoutModel",
            "_view_count": null,
            "_view_module": "@jupyter-widgets/base",
            "_view_module_version": "1.2.0",
            "_view_name": "LayoutView",
            "align_content": null,
            "align_items": null,
            "align_self": null,
            "border": null,
            "bottom": null,
            "display": null,
            "flex": null,
            "flex_flow": null,
            "grid_area": null,
            "grid_auto_columns": null,
            "grid_auto_flow": null,
            "grid_auto_rows": null,
            "grid_column": null,
            "grid_gap": null,
            "grid_row": null,
            "grid_template_areas": null,
            "grid_template_columns": null,
            "grid_template_rows": null,
            "height": null,
            "justify_content": null,
            "justify_items": null,
            "left": null,
            "margin": null,
            "max_height": null,
            "max_width": null,
            "min_height": null,
            "min_width": null,
            "object_fit": null,
            "object_position": null,
            "order": null,
            "overflow": null,
            "overflow_x": null,
            "overflow_y": null,
            "padding": null,
            "right": null,
            "top": null,
            "visibility": null,
            "width": null
          }
        },
        "3030a6e700404d45939ac825f57fa41f": {
          "model_module": "@jupyter-widgets/controls",
          "model_name": "DescriptionStyleModel",
          "model_module_version": "1.5.0",
          "state": {
            "_model_module": "@jupyter-widgets/controls",
            "_model_module_version": "1.5.0",
            "_model_name": "DescriptionStyleModel",
            "_view_count": null,
            "_view_module": "@jupyter-widgets/base",
            "_view_module_version": "1.2.0",
            "_view_name": "StyleView",
            "description_width": ""
          }
        }
      }
    }
  },
  "nbformat": 4,
  "nbformat_minor": 0
}